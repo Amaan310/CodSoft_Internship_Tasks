{
  "nbformat": 4,
  "nbformat_minor": 0,
  "metadata": {
    "colab": {
      "provenance": [],
      "mount_file_id": "1V16x06HL2nH2t6jsPqGDXdFpxkvLYf1m",
      "authorship_tag": "ABX9TyOn/oulhVBMCAguVurgSAiC"
    },
    "kernelspec": {
      "name": "python3",
      "display_name": "Python 3"
    },
    "language_info": {
      "name": "python"
    }
  },
  "cells": [
    {
      "cell_type": "markdown",
      "source": [
        "#  TASK - 2 : MOVIE RATING PREDICTION\n",
        "\n",
        "Author : Amaan\n",
        "\n",
        "Domain : Data Science\n",
        "\n",
        "Batch : August-2024\n",
        "\n"
      ],
      "metadata": {
        "id": "UVPpqnFEb2pu"
      }
    },
    {
      "cell_type": "markdown",
      "source": [
        "# IMPORTING LIBRARIES AND READING THE DATASET :-"
      ],
      "metadata": {
        "id": "_pdQWM9_ry3u"
      }
    },
    {
      "cell_type": "code",
      "source": [
        "import pandas as pd\n",
        "import numpy as np\n",
        "import matplotlib.pyplot as plt\n",
        "import seaborn as sns\n",
        "import plotly.express as px"
      ],
      "metadata": {
        "id": "HchzvJMEftvg"
      },
      "execution_count": 31,
      "outputs": []
    },
    {
      "cell_type": "code",
      "source": [
        "# UPLOADING THE FILE...\n",
        "\n",
        "from google.colab import files\n",
        "uploaded = files.upload()\n"
      ],
      "metadata": {
        "colab": {
          "base_uri": "https://localhost:8080/",
          "height": 73
        },
        "id": "3M_rPSVWjQUX",
        "outputId": "3f224f15-7198-42b8-9846-0ce223b11a54"
      },
      "execution_count": 32,
      "outputs": [
        {
          "output_type": "display_data",
          "data": {
            "text/plain": [
              "<IPython.core.display.HTML object>"
            ],
            "text/html": [
              "\n",
              "     <input type=\"file\" id=\"files-72544b06-b4dc-4c35-8f6e-bc975e426d8c\" name=\"files[]\" multiple disabled\n",
              "        style=\"border:none\" />\n",
              "     <output id=\"result-72544b06-b4dc-4c35-8f6e-bc975e426d8c\">\n",
              "      Upload widget is only available when the cell has been executed in the\n",
              "      current browser session. Please rerun this cell to enable.\n",
              "      </output>\n",
              "      <script>// Copyright 2017 Google LLC\n",
              "//\n",
              "// Licensed under the Apache License, Version 2.0 (the \"License\");\n",
              "// you may not use this file except in compliance with the License.\n",
              "// You may obtain a copy of the License at\n",
              "//\n",
              "//      http://www.apache.org/licenses/LICENSE-2.0\n",
              "//\n",
              "// Unless required by applicable law or agreed to in writing, software\n",
              "// distributed under the License is distributed on an \"AS IS\" BASIS,\n",
              "// WITHOUT WARRANTIES OR CONDITIONS OF ANY KIND, either express or implied.\n",
              "// See the License for the specific language governing permissions and\n",
              "// limitations under the License.\n",
              "\n",
              "/**\n",
              " * @fileoverview Helpers for google.colab Python module.\n",
              " */\n",
              "(function(scope) {\n",
              "function span(text, styleAttributes = {}) {\n",
              "  const element = document.createElement('span');\n",
              "  element.textContent = text;\n",
              "  for (const key of Object.keys(styleAttributes)) {\n",
              "    element.style[key] = styleAttributes[key];\n",
              "  }\n",
              "  return element;\n",
              "}\n",
              "\n",
              "// Max number of bytes which will be uploaded at a time.\n",
              "const MAX_PAYLOAD_SIZE = 100 * 1024;\n",
              "\n",
              "function _uploadFiles(inputId, outputId) {\n",
              "  const steps = uploadFilesStep(inputId, outputId);\n",
              "  const outputElement = document.getElementById(outputId);\n",
              "  // Cache steps on the outputElement to make it available for the next call\n",
              "  // to uploadFilesContinue from Python.\n",
              "  outputElement.steps = steps;\n",
              "\n",
              "  return _uploadFilesContinue(outputId);\n",
              "}\n",
              "\n",
              "// This is roughly an async generator (not supported in the browser yet),\n",
              "// where there are multiple asynchronous steps and the Python side is going\n",
              "// to poll for completion of each step.\n",
              "// This uses a Promise to block the python side on completion of each step,\n",
              "// then passes the result of the previous step as the input to the next step.\n",
              "function _uploadFilesContinue(outputId) {\n",
              "  const outputElement = document.getElementById(outputId);\n",
              "  const steps = outputElement.steps;\n",
              "\n",
              "  const next = steps.next(outputElement.lastPromiseValue);\n",
              "  return Promise.resolve(next.value.promise).then((value) => {\n",
              "    // Cache the last promise value to make it available to the next\n",
              "    // step of the generator.\n",
              "    outputElement.lastPromiseValue = value;\n",
              "    return next.value.response;\n",
              "  });\n",
              "}\n",
              "\n",
              "/**\n",
              " * Generator function which is called between each async step of the upload\n",
              " * process.\n",
              " * @param {string} inputId Element ID of the input file picker element.\n",
              " * @param {string} outputId Element ID of the output display.\n",
              " * @return {!Iterable<!Object>} Iterable of next steps.\n",
              " */\n",
              "function* uploadFilesStep(inputId, outputId) {\n",
              "  const inputElement = document.getElementById(inputId);\n",
              "  inputElement.disabled = false;\n",
              "\n",
              "  const outputElement = document.getElementById(outputId);\n",
              "  outputElement.innerHTML = '';\n",
              "\n",
              "  const pickedPromise = new Promise((resolve) => {\n",
              "    inputElement.addEventListener('change', (e) => {\n",
              "      resolve(e.target.files);\n",
              "    });\n",
              "  });\n",
              "\n",
              "  const cancel = document.createElement('button');\n",
              "  inputElement.parentElement.appendChild(cancel);\n",
              "  cancel.textContent = 'Cancel upload';\n",
              "  const cancelPromise = new Promise((resolve) => {\n",
              "    cancel.onclick = () => {\n",
              "      resolve(null);\n",
              "    };\n",
              "  });\n",
              "\n",
              "  // Wait for the user to pick the files.\n",
              "  const files = yield {\n",
              "    promise: Promise.race([pickedPromise, cancelPromise]),\n",
              "    response: {\n",
              "      action: 'starting',\n",
              "    }\n",
              "  };\n",
              "\n",
              "  cancel.remove();\n",
              "\n",
              "  // Disable the input element since further picks are not allowed.\n",
              "  inputElement.disabled = true;\n",
              "\n",
              "  if (!files) {\n",
              "    return {\n",
              "      response: {\n",
              "        action: 'complete',\n",
              "      }\n",
              "    };\n",
              "  }\n",
              "\n",
              "  for (const file of files) {\n",
              "    const li = document.createElement('li');\n",
              "    li.append(span(file.name, {fontWeight: 'bold'}));\n",
              "    li.append(span(\n",
              "        `(${file.type || 'n/a'}) - ${file.size} bytes, ` +\n",
              "        `last modified: ${\n",
              "            file.lastModifiedDate ? file.lastModifiedDate.toLocaleDateString() :\n",
              "                                    'n/a'} - `));\n",
              "    const percent = span('0% done');\n",
              "    li.appendChild(percent);\n",
              "\n",
              "    outputElement.appendChild(li);\n",
              "\n",
              "    const fileDataPromise = new Promise((resolve) => {\n",
              "      const reader = new FileReader();\n",
              "      reader.onload = (e) => {\n",
              "        resolve(e.target.result);\n",
              "      };\n",
              "      reader.readAsArrayBuffer(file);\n",
              "    });\n",
              "    // Wait for the data to be ready.\n",
              "    let fileData = yield {\n",
              "      promise: fileDataPromise,\n",
              "      response: {\n",
              "        action: 'continue',\n",
              "      }\n",
              "    };\n",
              "\n",
              "    // Use a chunked sending to avoid message size limits. See b/62115660.\n",
              "    let position = 0;\n",
              "    do {\n",
              "      const length = Math.min(fileData.byteLength - position, MAX_PAYLOAD_SIZE);\n",
              "      const chunk = new Uint8Array(fileData, position, length);\n",
              "      position += length;\n",
              "\n",
              "      const base64 = btoa(String.fromCharCode.apply(null, chunk));\n",
              "      yield {\n",
              "        response: {\n",
              "          action: 'append',\n",
              "          file: file.name,\n",
              "          data: base64,\n",
              "        },\n",
              "      };\n",
              "\n",
              "      let percentDone = fileData.byteLength === 0 ?\n",
              "          100 :\n",
              "          Math.round((position / fileData.byteLength) * 100);\n",
              "      percent.textContent = `${percentDone}% done`;\n",
              "\n",
              "    } while (position < fileData.byteLength);\n",
              "  }\n",
              "\n",
              "  // All done.\n",
              "  yield {\n",
              "    response: {\n",
              "      action: 'complete',\n",
              "    }\n",
              "  };\n",
              "}\n",
              "\n",
              "scope.google = scope.google || {};\n",
              "scope.google.colab = scope.google.colab || {};\n",
              "scope.google.colab._files = {\n",
              "  _uploadFiles,\n",
              "  _uploadFilesContinue,\n",
              "};\n",
              "})(self);\n",
              "</script> "
            ]
          },
          "metadata": {}
        },
        {
          "output_type": "stream",
          "name": "stdout",
          "text": [
            "Saving IMDb Movies India.csv to IMDb Movies India (2).csv\n"
          ]
        }
      ]
    },
    {
      "cell_type": "code",
      "source": [
        "# READING THE CSV FILE...\n",
        "\n",
        "import io\n",
        "data= pd.read_csv(io.BytesIO(uploaded['IMDb Movies India.csv']),encoding = 'unicode_escape')\n"
      ],
      "metadata": {
        "id": "ZGP4fBsdi1V1"
      },
      "execution_count": null,
      "outputs": []
    },
    {
      "cell_type": "code",
      "source": [
        "data.head(10)"
      ],
      "metadata": {
        "id": "xebAt9vukAI-",
        "colab": {
          "base_uri": "https://localhost:8080/",
          "height": 363
        },
        "outputId": "0ae399d3-16ce-415e-d749-dddf870e783c"
      },
      "execution_count": 33,
      "outputs": [
        {
          "output_type": "execute_result",
          "data": {
            "text/plain": [
              "   Year  Duration    Genre  Rating  Votes        Director          Actor 1  \\\n",
              "1  2019       109    Drama     7.0      8   Gaurav Bakshi     Rasika Dugal   \n",
              "3  2019       110   Comedy     4.4     35      Ovais Khan          Prateik   \n",
              "3  2019       110  Romance     4.4     35      Ovais Khan          Prateik   \n",
              "5  1997       147   Comedy     4.7    827    Rahul Rawail       Bobby Deol   \n",
              "5  1997       147    Drama     4.7    827    Rahul Rawail       Bobby Deol   \n",
              "5  1997       147  Musical     4.7    827    Rahul Rawail       Bobby Deol   \n",
              "6  2005       142    Drama     7.4   1086  Shoojit Sircar  Jimmy Sheirgill   \n",
              "6  2005       142  Romance     7.4   1086  Shoojit Sircar  Jimmy Sheirgill   \n",
              "6  2005       142      War     7.4   1086  Shoojit Sircar  Jimmy Sheirgill   \n",
              "8  2012        82   Horror     5.6    326   Allyson Patel        Yash Dave   \n",
              "\n",
              "                  Actor 2          Actor 3  \n",
              "1          Vivek Ghamande    Arvind Jangid  \n",
              "3              Ishita Raj  Siddhant Kapoor  \n",
              "3              Ishita Raj  Siddhant Kapoor  \n",
              "5  Aishwarya Rai Bachchan    Shammi Kapoor  \n",
              "5  Aishwarya Rai Bachchan    Shammi Kapoor  \n",
              "5  Aishwarya Rai Bachchan    Shammi Kapoor  \n",
              "6          Minissha Lamba   Yashpal Sharma  \n",
              "6          Minissha Lamba   Yashpal Sharma  \n",
              "6          Minissha Lamba   Yashpal Sharma  \n",
              "8          Muntazir Ahmad     Kiran Bhatia  "
            ],
            "text/html": [
              "\n",
              "  <div id=\"df-3c77e278-5593-46d4-bfff-43138cff764c\" class=\"colab-df-container\">\n",
              "    <div>\n",
              "<style scoped>\n",
              "    .dataframe tbody tr th:only-of-type {\n",
              "        vertical-align: middle;\n",
              "    }\n",
              "\n",
              "    .dataframe tbody tr th {\n",
              "        vertical-align: top;\n",
              "    }\n",
              "\n",
              "    .dataframe thead th {\n",
              "        text-align: right;\n",
              "    }\n",
              "</style>\n",
              "<table border=\"1\" class=\"dataframe\">\n",
              "  <thead>\n",
              "    <tr style=\"text-align: right;\">\n",
              "      <th></th>\n",
              "      <th>Year</th>\n",
              "      <th>Duration</th>\n",
              "      <th>Genre</th>\n",
              "      <th>Rating</th>\n",
              "      <th>Votes</th>\n",
              "      <th>Director</th>\n",
              "      <th>Actor 1</th>\n",
              "      <th>Actor 2</th>\n",
              "      <th>Actor 3</th>\n",
              "    </tr>\n",
              "  </thead>\n",
              "  <tbody>\n",
              "    <tr>\n",
              "      <th>1</th>\n",
              "      <td>2019</td>\n",
              "      <td>109</td>\n",
              "      <td>Drama</td>\n",
              "      <td>7.0</td>\n",
              "      <td>8</td>\n",
              "      <td>Gaurav Bakshi</td>\n",
              "      <td>Rasika Dugal</td>\n",
              "      <td>Vivek Ghamande</td>\n",
              "      <td>Arvind Jangid</td>\n",
              "    </tr>\n",
              "    <tr>\n",
              "      <th>3</th>\n",
              "      <td>2019</td>\n",
              "      <td>110</td>\n",
              "      <td>Comedy</td>\n",
              "      <td>4.4</td>\n",
              "      <td>35</td>\n",
              "      <td>Ovais Khan</td>\n",
              "      <td>Prateik</td>\n",
              "      <td>Ishita Raj</td>\n",
              "      <td>Siddhant Kapoor</td>\n",
              "    </tr>\n",
              "    <tr>\n",
              "      <th>3</th>\n",
              "      <td>2019</td>\n",
              "      <td>110</td>\n",
              "      <td>Romance</td>\n",
              "      <td>4.4</td>\n",
              "      <td>35</td>\n",
              "      <td>Ovais Khan</td>\n",
              "      <td>Prateik</td>\n",
              "      <td>Ishita Raj</td>\n",
              "      <td>Siddhant Kapoor</td>\n",
              "    </tr>\n",
              "    <tr>\n",
              "      <th>5</th>\n",
              "      <td>1997</td>\n",
              "      <td>147</td>\n",
              "      <td>Comedy</td>\n",
              "      <td>4.7</td>\n",
              "      <td>827</td>\n",
              "      <td>Rahul Rawail</td>\n",
              "      <td>Bobby Deol</td>\n",
              "      <td>Aishwarya Rai Bachchan</td>\n",
              "      <td>Shammi Kapoor</td>\n",
              "    </tr>\n",
              "    <tr>\n",
              "      <th>5</th>\n",
              "      <td>1997</td>\n",
              "      <td>147</td>\n",
              "      <td>Drama</td>\n",
              "      <td>4.7</td>\n",
              "      <td>827</td>\n",
              "      <td>Rahul Rawail</td>\n",
              "      <td>Bobby Deol</td>\n",
              "      <td>Aishwarya Rai Bachchan</td>\n",
              "      <td>Shammi Kapoor</td>\n",
              "    </tr>\n",
              "    <tr>\n",
              "      <th>5</th>\n",
              "      <td>1997</td>\n",
              "      <td>147</td>\n",
              "      <td>Musical</td>\n",
              "      <td>4.7</td>\n",
              "      <td>827</td>\n",
              "      <td>Rahul Rawail</td>\n",
              "      <td>Bobby Deol</td>\n",
              "      <td>Aishwarya Rai Bachchan</td>\n",
              "      <td>Shammi Kapoor</td>\n",
              "    </tr>\n",
              "    <tr>\n",
              "      <th>6</th>\n",
              "      <td>2005</td>\n",
              "      <td>142</td>\n",
              "      <td>Drama</td>\n",
              "      <td>7.4</td>\n",
              "      <td>1086</td>\n",
              "      <td>Shoojit Sircar</td>\n",
              "      <td>Jimmy Sheirgill</td>\n",
              "      <td>Minissha Lamba</td>\n",
              "      <td>Yashpal Sharma</td>\n",
              "    </tr>\n",
              "    <tr>\n",
              "      <th>6</th>\n",
              "      <td>2005</td>\n",
              "      <td>142</td>\n",
              "      <td>Romance</td>\n",
              "      <td>7.4</td>\n",
              "      <td>1086</td>\n",
              "      <td>Shoojit Sircar</td>\n",
              "      <td>Jimmy Sheirgill</td>\n",
              "      <td>Minissha Lamba</td>\n",
              "      <td>Yashpal Sharma</td>\n",
              "    </tr>\n",
              "    <tr>\n",
              "      <th>6</th>\n",
              "      <td>2005</td>\n",
              "      <td>142</td>\n",
              "      <td>War</td>\n",
              "      <td>7.4</td>\n",
              "      <td>1086</td>\n",
              "      <td>Shoojit Sircar</td>\n",
              "      <td>Jimmy Sheirgill</td>\n",
              "      <td>Minissha Lamba</td>\n",
              "      <td>Yashpal Sharma</td>\n",
              "    </tr>\n",
              "    <tr>\n",
              "      <th>8</th>\n",
              "      <td>2012</td>\n",
              "      <td>82</td>\n",
              "      <td>Horror</td>\n",
              "      <td>5.6</td>\n",
              "      <td>326</td>\n",
              "      <td>Allyson Patel</td>\n",
              "      <td>Yash Dave</td>\n",
              "      <td>Muntazir Ahmad</td>\n",
              "      <td>Kiran Bhatia</td>\n",
              "    </tr>\n",
              "  </tbody>\n",
              "</table>\n",
              "</div>\n",
              "    <div class=\"colab-df-buttons\">\n",
              "\n",
              "  <div class=\"colab-df-container\">\n",
              "    <button class=\"colab-df-convert\" onclick=\"convertToInteractive('df-3c77e278-5593-46d4-bfff-43138cff764c')\"\n",
              "            title=\"Convert this dataframe to an interactive table.\"\n",
              "            style=\"display:none;\">\n",
              "\n",
              "  <svg xmlns=\"http://www.w3.org/2000/svg\" height=\"24px\" viewBox=\"0 -960 960 960\">\n",
              "    <path d=\"M120-120v-720h720v720H120Zm60-500h600v-160H180v160Zm220 220h160v-160H400v160Zm0 220h160v-160H400v160ZM180-400h160v-160H180v160Zm440 0h160v-160H620v160ZM180-180h160v-160H180v160Zm440 0h160v-160H620v160Z\"/>\n",
              "  </svg>\n",
              "    </button>\n",
              "\n",
              "  <style>\n",
              "    .colab-df-container {\n",
              "      display:flex;\n",
              "      gap: 12px;\n",
              "    }\n",
              "\n",
              "    .colab-df-convert {\n",
              "      background-color: #E8F0FE;\n",
              "      border: none;\n",
              "      border-radius: 50%;\n",
              "      cursor: pointer;\n",
              "      display: none;\n",
              "      fill: #1967D2;\n",
              "      height: 32px;\n",
              "      padding: 0 0 0 0;\n",
              "      width: 32px;\n",
              "    }\n",
              "\n",
              "    .colab-df-convert:hover {\n",
              "      background-color: #E2EBFA;\n",
              "      box-shadow: 0px 1px 2px rgba(60, 64, 67, 0.3), 0px 1px 3px 1px rgba(60, 64, 67, 0.15);\n",
              "      fill: #174EA6;\n",
              "    }\n",
              "\n",
              "    .colab-df-buttons div {\n",
              "      margin-bottom: 4px;\n",
              "    }\n",
              "\n",
              "    [theme=dark] .colab-df-convert {\n",
              "      background-color: #3B4455;\n",
              "      fill: #D2E3FC;\n",
              "    }\n",
              "\n",
              "    [theme=dark] .colab-df-convert:hover {\n",
              "      background-color: #434B5C;\n",
              "      box-shadow: 0px 1px 3px 1px rgba(0, 0, 0, 0.15);\n",
              "      filter: drop-shadow(0px 1px 2px rgba(0, 0, 0, 0.3));\n",
              "      fill: #FFFFFF;\n",
              "    }\n",
              "  </style>\n",
              "\n",
              "    <script>\n",
              "      const buttonEl =\n",
              "        document.querySelector('#df-3c77e278-5593-46d4-bfff-43138cff764c button.colab-df-convert');\n",
              "      buttonEl.style.display =\n",
              "        google.colab.kernel.accessAllowed ? 'block' : 'none';\n",
              "\n",
              "      async function convertToInteractive(key) {\n",
              "        const element = document.querySelector('#df-3c77e278-5593-46d4-bfff-43138cff764c');\n",
              "        const dataTable =\n",
              "          await google.colab.kernel.invokeFunction('convertToInteractive',\n",
              "                                                    [key], {});\n",
              "        if (!dataTable) return;\n",
              "\n",
              "        const docLinkHtml = 'Like what you see? Visit the ' +\n",
              "          '<a target=\"_blank\" href=https://colab.research.google.com/notebooks/data_table.ipynb>data table notebook</a>'\n",
              "          + ' to learn more about interactive tables.';\n",
              "        element.innerHTML = '';\n",
              "        dataTable['output_type'] = 'display_data';\n",
              "        await google.colab.output.renderOutput(dataTable, element);\n",
              "        const docLink = document.createElement('div');\n",
              "        docLink.innerHTML = docLinkHtml;\n",
              "        element.appendChild(docLink);\n",
              "      }\n",
              "    </script>\n",
              "  </div>\n",
              "\n",
              "\n",
              "<div id=\"df-d3823a67-0027-47d3-9549-33d0fa9f4c5c\">\n",
              "  <button class=\"colab-df-quickchart\" onclick=\"quickchart('df-d3823a67-0027-47d3-9549-33d0fa9f4c5c')\"\n",
              "            title=\"Suggest charts\"\n",
              "            style=\"display:none;\">\n",
              "\n",
              "<svg xmlns=\"http://www.w3.org/2000/svg\" height=\"24px\"viewBox=\"0 0 24 24\"\n",
              "     width=\"24px\">\n",
              "    <g>\n",
              "        <path d=\"M19 3H5c-1.1 0-2 .9-2 2v14c0 1.1.9 2 2 2h14c1.1 0 2-.9 2-2V5c0-1.1-.9-2-2-2zM9 17H7v-7h2v7zm4 0h-2V7h2v10zm4 0h-2v-4h2v4z\"/>\n",
              "    </g>\n",
              "</svg>\n",
              "  </button>\n",
              "\n",
              "<style>\n",
              "  .colab-df-quickchart {\n",
              "      --bg-color: #E8F0FE;\n",
              "      --fill-color: #1967D2;\n",
              "      --hover-bg-color: #E2EBFA;\n",
              "      --hover-fill-color: #174EA6;\n",
              "      --disabled-fill-color: #AAA;\n",
              "      --disabled-bg-color: #DDD;\n",
              "  }\n",
              "\n",
              "  [theme=dark] .colab-df-quickchart {\n",
              "      --bg-color: #3B4455;\n",
              "      --fill-color: #D2E3FC;\n",
              "      --hover-bg-color: #434B5C;\n",
              "      --hover-fill-color: #FFFFFF;\n",
              "      --disabled-bg-color: #3B4455;\n",
              "      --disabled-fill-color: #666;\n",
              "  }\n",
              "\n",
              "  .colab-df-quickchart {\n",
              "    background-color: var(--bg-color);\n",
              "    border: none;\n",
              "    border-radius: 50%;\n",
              "    cursor: pointer;\n",
              "    display: none;\n",
              "    fill: var(--fill-color);\n",
              "    height: 32px;\n",
              "    padding: 0;\n",
              "    width: 32px;\n",
              "  }\n",
              "\n",
              "  .colab-df-quickchart:hover {\n",
              "    background-color: var(--hover-bg-color);\n",
              "    box-shadow: 0 1px 2px rgba(60, 64, 67, 0.3), 0 1px 3px 1px rgba(60, 64, 67, 0.15);\n",
              "    fill: var(--button-hover-fill-color);\n",
              "  }\n",
              "\n",
              "  .colab-df-quickchart-complete:disabled,\n",
              "  .colab-df-quickchart-complete:disabled:hover {\n",
              "    background-color: var(--disabled-bg-color);\n",
              "    fill: var(--disabled-fill-color);\n",
              "    box-shadow: none;\n",
              "  }\n",
              "\n",
              "  .colab-df-spinner {\n",
              "    border: 2px solid var(--fill-color);\n",
              "    border-color: transparent;\n",
              "    border-bottom-color: var(--fill-color);\n",
              "    animation:\n",
              "      spin 1s steps(1) infinite;\n",
              "  }\n",
              "\n",
              "  @keyframes spin {\n",
              "    0% {\n",
              "      border-color: transparent;\n",
              "      border-bottom-color: var(--fill-color);\n",
              "      border-left-color: var(--fill-color);\n",
              "    }\n",
              "    20% {\n",
              "      border-color: transparent;\n",
              "      border-left-color: var(--fill-color);\n",
              "      border-top-color: var(--fill-color);\n",
              "    }\n",
              "    30% {\n",
              "      border-color: transparent;\n",
              "      border-left-color: var(--fill-color);\n",
              "      border-top-color: var(--fill-color);\n",
              "      border-right-color: var(--fill-color);\n",
              "    }\n",
              "    40% {\n",
              "      border-color: transparent;\n",
              "      border-right-color: var(--fill-color);\n",
              "      border-top-color: var(--fill-color);\n",
              "    }\n",
              "    60% {\n",
              "      border-color: transparent;\n",
              "      border-right-color: var(--fill-color);\n",
              "    }\n",
              "    80% {\n",
              "      border-color: transparent;\n",
              "      border-right-color: var(--fill-color);\n",
              "      border-bottom-color: var(--fill-color);\n",
              "    }\n",
              "    90% {\n",
              "      border-color: transparent;\n",
              "      border-bottom-color: var(--fill-color);\n",
              "    }\n",
              "  }\n",
              "</style>\n",
              "\n",
              "  <script>\n",
              "    async function quickchart(key) {\n",
              "      const quickchartButtonEl =\n",
              "        document.querySelector('#' + key + ' button');\n",
              "      quickchartButtonEl.disabled = true;  // To prevent multiple clicks.\n",
              "      quickchartButtonEl.classList.add('colab-df-spinner');\n",
              "      try {\n",
              "        const charts = await google.colab.kernel.invokeFunction(\n",
              "            'suggestCharts', [key], {});\n",
              "      } catch (error) {\n",
              "        console.error('Error during call to suggestCharts:', error);\n",
              "      }\n",
              "      quickchartButtonEl.classList.remove('colab-df-spinner');\n",
              "      quickchartButtonEl.classList.add('colab-df-quickchart-complete');\n",
              "    }\n",
              "    (() => {\n",
              "      let quickchartButtonEl =\n",
              "        document.querySelector('#df-d3823a67-0027-47d3-9549-33d0fa9f4c5c button');\n",
              "      quickchartButtonEl.style.display =\n",
              "        google.colab.kernel.accessAllowed ? 'block' : 'none';\n",
              "    })();\n",
              "  </script>\n",
              "</div>\n",
              "\n",
              "    </div>\n",
              "  </div>\n"
            ],
            "application/vnd.google.colaboratory.intrinsic+json": {
              "type": "dataframe",
              "variable_name": "data",
              "summary": "{\n  \"name\": \"data\",\n  \"rows\": 11979,\n  \"fields\": [\n    {\n      \"column\": \"Year\",\n      \"properties\": {\n        \"dtype\": \"number\",\n        \"std\": 19,\n        \"min\": 1931,\n        \"max\": 2021,\n        \"num_unique_values\": 91,\n        \"samples\": [\n          1990,\n          1974,\n          1970\n        ],\n        \"semantic_type\": \"\",\n        \"description\": \"\"\n      }\n    },\n    {\n      \"column\": \"Duration\",\n      \"properties\": {\n        \"dtype\": \"number\",\n        \"std\": 25,\n        \"min\": 21,\n        \"max\": 321,\n        \"num_unique_values\": 174,\n        \"samples\": [\n          197,\n          247,\n          86\n        ],\n        \"semantic_type\": \"\",\n        \"description\": \"\"\n      }\n    },\n    {\n      \"column\": \"Genre\",\n      \"properties\": {\n        \"dtype\": \"category\",\n        \"num_unique_values\": 22,\n        \"samples\": [\n          \"Drama\",\n          \"Sport\",\n          \"Action\"\n        ],\n        \"semantic_type\": \"\",\n        \"description\": \"\"\n      }\n    },\n    {\n      \"column\": \"Rating\",\n      \"properties\": {\n        \"dtype\": \"number\",\n        \"std\": 1.37424320388822,\n        \"min\": 1.1,\n        \"max\": 10.0,\n        \"num_unique_values\": 83,\n        \"samples\": [\n          8.4,\n          7.0,\n          5.5\n        ],\n        \"semantic_type\": \"\",\n        \"description\": \"\"\n      }\n    },\n    {\n      \"column\": \"Votes\",\n      \"properties\": {\n        \"dtype\": \"number\",\n        \"std\": 15305,\n        \"min\": 5,\n        \"max\": 591417,\n        \"num_unique_values\": 2027,\n        \"samples\": [\n          2534,\n          8372,\n          21773\n        ],\n        \"semantic_type\": \"\",\n        \"description\": \"\"\n      }\n    },\n    {\n      \"column\": \"Director\",\n      \"properties\": {\n        \"dtype\": \"category\",\n        \"num_unique_values\": 2431,\n        \"samples\": [\n          \"Paresh Vinodray Savani\",\n          \"Ramesh Saigal\",\n          \"Omung Kumar\"\n        ],\n        \"semantic_type\": \"\",\n        \"description\": \"\"\n      }\n    },\n    {\n      \"column\": \"Actor 1\",\n      \"properties\": {\n        \"dtype\": \"category\",\n        \"num_unique_values\": 1960,\n        \"samples\": [\n          \"Mohan Kapur\",\n          \"Samir Aftab\",\n          \"Riya Deepsi\"\n        ],\n        \"semantic_type\": \"\",\n        \"description\": \"\"\n      }\n    },\n    {\n      \"column\": \"Actor 2\",\n      \"properties\": {\n        \"dtype\": \"category\",\n        \"num_unique_values\": 2321,\n        \"samples\": [\n          \"Arjun Fauzdar\",\n          \"Tara Deshpande\",\n          \"Saurabh Shukla\"\n        ],\n        \"semantic_type\": \"\",\n        \"description\": \"\"\n      }\n    },\n    {\n      \"column\": \"Actor 3\",\n      \"properties\": {\n        \"dtype\": \"category\",\n        \"num_unique_values\": 2556,\n        \"samples\": [\n          \"Reema Sen\",\n          \"Nitya Shetty\",\n          \"Siddharth\"\n        ],\n        \"semantic_type\": \"\",\n        \"description\": \"\"\n      }\n    }\n  ]\n}"
            }
          },
          "metadata": {},
          "execution_count": 33
        }
      ]
    },
    {
      "cell_type": "code",
      "source": [
        "data.shape"
      ],
      "metadata": {
        "id": "ZK6-SxS3k6RB",
        "colab": {
          "base_uri": "https://localhost:8080/"
        },
        "outputId": "99f6d8f1-e6c6-4a93-c450-732bd82773f2"
      },
      "execution_count": 34,
      "outputs": [
        {
          "output_type": "execute_result",
          "data": {
            "text/plain": [
              "(11979, 9)"
            ]
          },
          "metadata": {},
          "execution_count": 34
        }
      ]
    },
    {
      "cell_type": "code",
      "source": [
        "data.info()"
      ],
      "metadata": {
        "colab": {
          "base_uri": "https://localhost:8080/"
        },
        "id": "AXfLshimlsG5",
        "outputId": "3dda641a-a514-4025-c3d9-49730b976d97"
      },
      "execution_count": null,
      "outputs": [
        {
          "output_type": "stream",
          "name": "stdout",
          "text": [
            "<class 'pandas.core.frame.DataFrame'>\n",
            "RangeIndex: 15509 entries, 0 to 15508\n",
            "Data columns (total 10 columns):\n",
            " #   Column    Non-Null Count  Dtype  \n",
            "---  ------    --------------  -----  \n",
            " 0   Name      15509 non-null  object \n",
            " 1   Year      14981 non-null  object \n",
            " 2   Duration  7240 non-null   object \n",
            " 3   Genre     13632 non-null  object \n",
            " 4   Rating    7919 non-null   float64\n",
            " 5   Votes     7920 non-null   object \n",
            " 6   Director  14984 non-null  object \n",
            " 7   Actor 1   13892 non-null  object \n",
            " 8   Actor 2   13125 non-null  object \n",
            " 9   Actor 3   12365 non-null  object \n",
            "dtypes: float64(1), object(9)\n",
            "memory usage: 1.2+ MB\n"
          ]
        }
      ]
    },
    {
      "cell_type": "markdown",
      "source": [
        "# DATA CLEANING :-"
      ],
      "metadata": {
        "id": "fBbhKUXjl4nS"
      }
    },
    {
      "cell_type": "code",
      "source": [
        "data.isnull().sum()"
      ],
      "metadata": {
        "colab": {
          "base_uri": "https://localhost:8080/",
          "height": 397
        },
        "id": "D24OHKzRl5zb",
        "outputId": "f6f8c1ca-7f33-4cba-e4e0-3f5c5c247ebf"
      },
      "execution_count": null,
      "outputs": [
        {
          "output_type": "execute_result",
          "data": {
            "text/plain": [
              "Name           0\n",
              "Year         528\n",
              "Duration    8269\n",
              "Genre       1877\n",
              "Rating      7590\n",
              "Votes       7589\n",
              "Director     525\n",
              "Actor 1     1617\n",
              "Actor 2     2384\n",
              "Actor 3     3144\n",
              "dtype: int64"
            ],
            "text/html": [
              "<div>\n",
              "<style scoped>\n",
              "    .dataframe tbody tr th:only-of-type {\n",
              "        vertical-align: middle;\n",
              "    }\n",
              "\n",
              "    .dataframe tbody tr th {\n",
              "        vertical-align: top;\n",
              "    }\n",
              "\n",
              "    .dataframe thead th {\n",
              "        text-align: right;\n",
              "    }\n",
              "</style>\n",
              "<table border=\"1\" class=\"dataframe\">\n",
              "  <thead>\n",
              "    <tr style=\"text-align: right;\">\n",
              "      <th></th>\n",
              "      <th>0</th>\n",
              "    </tr>\n",
              "  </thead>\n",
              "  <tbody>\n",
              "    <tr>\n",
              "      <th>Name</th>\n",
              "      <td>0</td>\n",
              "    </tr>\n",
              "    <tr>\n",
              "      <th>Year</th>\n",
              "      <td>528</td>\n",
              "    </tr>\n",
              "    <tr>\n",
              "      <th>Duration</th>\n",
              "      <td>8269</td>\n",
              "    </tr>\n",
              "    <tr>\n",
              "      <th>Genre</th>\n",
              "      <td>1877</td>\n",
              "    </tr>\n",
              "    <tr>\n",
              "      <th>Rating</th>\n",
              "      <td>7590</td>\n",
              "    </tr>\n",
              "    <tr>\n",
              "      <th>Votes</th>\n",
              "      <td>7589</td>\n",
              "    </tr>\n",
              "    <tr>\n",
              "      <th>Director</th>\n",
              "      <td>525</td>\n",
              "    </tr>\n",
              "    <tr>\n",
              "      <th>Actor 1</th>\n",
              "      <td>1617</td>\n",
              "    </tr>\n",
              "    <tr>\n",
              "      <th>Actor 2</th>\n",
              "      <td>2384</td>\n",
              "    </tr>\n",
              "    <tr>\n",
              "      <th>Actor 3</th>\n",
              "      <td>3144</td>\n",
              "    </tr>\n",
              "  </tbody>\n",
              "</table>\n",
              "</div><br><label><b>dtype:</b> int64</label>"
            ]
          },
          "metadata": {},
          "execution_count": 7
        }
      ]
    },
    {
      "cell_type": "code",
      "source": [
        "data.duplicated().sum()"
      ],
      "metadata": {
        "colab": {
          "base_uri": "https://localhost:8080/"
        },
        "id": "BOH_vYCMl_ix",
        "outputId": "1f55cee8-1963-4742-fd55-7092ef871d87"
      },
      "execution_count": null,
      "outputs": [
        {
          "output_type": "execute_result",
          "data": {
            "text/plain": [
              "6"
            ]
          },
          "metadata": {},
          "execution_count": 8
        }
      ]
    },
    {
      "cell_type": "code",
      "source": [
        "data.dropna(inplace=True)"
      ],
      "metadata": {
        "id": "hG5rSiTBmJjx"
      },
      "execution_count": null,
      "outputs": []
    },
    {
      "cell_type": "code",
      "source": [
        "data.shape"
      ],
      "metadata": {
        "colab": {
          "base_uri": "https://localhost:8080/"
        },
        "id": "Kz9F33qpmUjm",
        "outputId": "a4555f24-54b3-4fca-93de-f86d6dd04d1a"
      },
      "execution_count": null,
      "outputs": [
        {
          "output_type": "execute_result",
          "data": {
            "text/plain": [
              "(5659, 10)"
            ]
          },
          "metadata": {},
          "execution_count": 10
        }
      ]
    },
    {
      "cell_type": "code",
      "source": [
        "data.columns"
      ],
      "metadata": {
        "colab": {
          "base_uri": "https://localhost:8080/"
        },
        "id": "RqWHmsbpm5Pq",
        "outputId": "2097d405-e323-459e-f0e0-5b5bd6cdbb93"
      },
      "execution_count": null,
      "outputs": [
        {
          "output_type": "execute_result",
          "data": {
            "text/plain": [
              "Index(['Name', 'Year', 'Duration', 'Genre', 'Rating', 'Votes', 'Director',\n",
              "       'Actor 1', 'Actor 2', 'Actor 3'],\n",
              "      dtype='object')"
            ]
          },
          "metadata": {},
          "execution_count": 11
        }
      ]
    },
    {
      "cell_type": "markdown",
      "source": [
        "# DATA PRE-PROCESSING :-"
      ],
      "metadata": {
        "id": "-A0dxKqVm-i3"
      }
    },
    {
      "cell_type": "code",
      "source": [
        "# Replacing the brackets from your column :-\n",
        "data['Year'] = data['Year'].astype(str).str.replace(r'[()]','',regex=True).astype(int)"
      ],
      "metadata": {
        "id": "2MPhxaG1nCx3"
      },
      "execution_count": null,
      "outputs": []
    },
    {
      "cell_type": "code",
      "source": [
        "# Remove the min word from 'Duration' cloumn and convert all values to numeric :-\n",
        "data['Duration'] = data['Duration'].astype(str).str.replace(r' min','').astype(int)"
      ],
      "metadata": {
        "id": "_XbDIPOgswo1"
      },
      "execution_count": null,
      "outputs": []
    },
    {
      "cell_type": "code",
      "source": [
        "# Splitting the Genre by, to keep unique genres and replace null values with mode :-\n",
        "data['Genre'] = data['Genre'].str.split(', ')\n",
        "data = data.explode('Genre')\n",
        "data['Genre'].fillna(data['Genre'].mode()[0], inplace=True)"
      ],
      "metadata": {
        "id": "xlDaEYCPrMHK"
      },
      "execution_count": null,
      "outputs": []
    },
    {
      "cell_type": "code",
      "source": [
        "# Convert 'Votes' to numeric and repalcing commas to keep only numeric part :-\n",
        "data['Votes'] = pd.to_numeric(data['Votes'].str.replace(',',''))"
      ],
      "metadata": {
        "id": "FHsn0aEvr6Jt"
      },
      "execution_count": null,
      "outputs": []
    },
    {
      "cell_type": "code",
      "source": [
        "data.info()"
      ],
      "metadata": {
        "colab": {
          "base_uri": "https://localhost:8080/"
        },
        "id": "TWQ0IGoxtp3w",
        "outputId": "25fe00c4-f46e-4a41-fa09-43d79d9dc4a9"
      },
      "execution_count": null,
      "outputs": [
        {
          "output_type": "stream",
          "name": "stdout",
          "text": [
            "<class 'pandas.core.frame.DataFrame'>\n",
            "Index: 11979 entries, 1 to 15508\n",
            "Data columns (total 10 columns):\n",
            " #   Column    Non-Null Count  Dtype  \n",
            "---  ------    --------------  -----  \n",
            " 0   Name      11979 non-null  object \n",
            " 1   Year      11979 non-null  int64  \n",
            " 2   Duration  11979 non-null  int64  \n",
            " 3   Genre     11979 non-null  object \n",
            " 4   Rating    11979 non-null  float64\n",
            " 5   Votes     11979 non-null  int64  \n",
            " 6   Director  11979 non-null  object \n",
            " 7   Actor 1   11979 non-null  object \n",
            " 8   Actor 2   11979 non-null  object \n",
            " 9   Actor 3   11979 non-null  object \n",
            "dtypes: float64(1), int64(3), object(6)\n",
            "memory usage: 1.0+ MB\n"
          ]
        }
      ]
    },
    {
      "cell_type": "markdown",
      "source": [
        "# DATA VISUALIZATION :-"
      ],
      "metadata": {
        "id": "8XvIrnb_rrLC"
      }
    },
    {
      "cell_type": "code",
      "source": [
        "# CREATING A HISTOGRAM TO EXAMINE DATA OVER THE YEARS...\n",
        "\n",
        "data_sorted = data.sort_values('Year')\n",
        "year = px.histogram(data_sorted, x='Year', title='Distribution of Movies Over the Years', nbins=30, labels={'Year': 'Year of Release'}, template='plotly_white')\n",
        "\n",
        "year.update_layout(title_x=0.5)\n",
        "year.update_layout(xaxis_title='Year of Release',yaxis_title='Number of Movies',font=dict(family='Arial', size=14),bargap=0.1)\n",
        "\n",
        "year.show()"
      ],
      "metadata": {
        "colab": {
          "base_uri": "https://localhost:8080/",
          "height": 542
        },
        "id": "tAXEqvVAtJMK",
        "outputId": "f929c4e6-9391-4b88-fa8c-9b5f4faa74a5"
      },
      "execution_count": null,
      "outputs": [
        {
          "output_type": "display_data",
          "data": {
            "text/html": [
              "<html>\n",
              "<head><meta charset=\"utf-8\" /></head>\n",
              "<body>\n",
              "    <div>            <script src=\"https://cdnjs.cloudflare.com/ajax/libs/mathjax/2.7.5/MathJax.js?config=TeX-AMS-MML_SVG\"></script><script type=\"text/javascript\">if (window.MathJax && window.MathJax.Hub && window.MathJax.Hub.Config) {window.MathJax.Hub.Config({SVG: {font: \"STIX-Web\"}});}</script>                <script type=\"text/javascript\">window.PlotlyConfig = {MathJaxConfig: 'local'};</script>\n",
              "        <script charset=\"utf-8\" src=\"https://cdn.plot.ly/plotly-2.24.1.min.js\"></script>                <div id=\"b127fff5-8629-47ef-a74a-ea6905e74e09\" class=\"plotly-graph-div\" style=\"height:525px; width:100%;\"></div>            <script type=\"text/javascript\">                                    window.PLOTLYENV=window.PLOTLYENV || {};                                    if (document.getElementById(\"b127fff5-8629-47ef-a74a-ea6905e74e09\")) {                    Plotly.newPlot(                        \"b127fff5-8629-47ef-a74a-ea6905e74e09\",                        [{\"alignmentgroup\":\"True\",\"bingroup\":\"x\",\"hovertemplate\":\"Year of Release=%{x}\\u003cbr\\u003ecount=%{y}\\u003cextra\\u003e\\u003c\\u002fextra\\u003e\",\"legendgroup\":\"\",\"marker\":{\"color\":\"#636efa\",\"pattern\":{\"shape\":\"\"}},\"name\":\"\",\"nbinsx\":30,\"offsetgroup\":\"\",\"orientation\":\"v\",\"showlegend\":false,\"x\":[1931,1931,1931,1932,1932,1933,1933,1934,1934,1934,1935,1935,1935,1935,1935,1935,1936,1936,1936,1936,1936,1936,1936,1936,1936,1936,1937,1937,1937,1937,1937,1937,1937,1937,1938,1938,1938,1938,1938,1938,1939,1939,1939,1939,1940,1940,1940,1940,1940,1940,1940,1940,1940,1941,1941,1941,1941,1941,1942,1942,1942,1942,1942,1942,1942,1942,1942,1942,1943,1943,1943,1943,1943,1943,1943,1943,1943,1943,1943,1943,1943,1944,1944,1944,1944,1944,1944,1944,1945,1945,1945,1945,1945,1946,1946,1946,1946,1946,1946,1946,1946,1946,1946,1946,1947,1947,1947,1947,1947,1947,1947,1947,1947,1947,1947,1948,1948,1948,1948,1948,1948,1948,1948,1948,1948,1948,1948,1948,1948,1948,1948,1948,1948,1949,1949,1949,1949,1949,1949,1949,1949,1949,1949,1949,1949,1949,1949,1949,1949,1949,1949,1949,1949,1949,1949,1949,1949,1949,1949,1949,1949,1950,1950,1950,1950,1950,1950,1950,1950,1950,1950,1950,1950,1950,1950,1950,1950,1950,1950,1950,1950,1950,1950,1950,1950,1950,1950,1950,1950,1950,1950,1950,1951,1951,1951,1951,1951,1951,1951,1951,1951,1951,1951,1951,1951,1951,1951,1951,1951,1951,1951,1951,1951,1951,1951,1951,1951,1951,1951,1951,1952,1952,1952,1952,1952,1952,1952,1952,1952,1952,1952,1952,1952,1952,1952,1952,1952,1952,1952,1952,1952,1952,1952,1952,1952,1952,1952,1952,1952,1952,1952,1952,1952,1952,1953,1953,1953,1953,1953,1953,1953,1953,1953,1953,1953,1953,1953,1953,1953,1953,1953,1953,1953,1953,1953,1953,1953,1953,1953,1953,1953,1953,1953,1953,1953,1953,1953,1953,1953,1954,1954,1954,1954,1954,1954,1954,1954,1954,1954,1954,1954,1954,1954,1954,1954,1954,1954,1954,1954,1954,1954,1954,1954,1954,1954,1954,1954,1954,1954,1954,1954,1954,1954,1954,1954,1954,1954,1954,1954,1954,1954,1954,1954,1954,1954,1955,1955,1955,1955,1955,1955,1955,1955,1955,1955,1955,1955,1955,1955,1955,1955,1955,1955,1955,1955,1955,1955,1955,1955,1955,1955,1955,1955,1955,1955,1955,1955,1955,1955,1955,1955,1955,1955,1955,1955,1955,1955,1955,1955,1955,1955,1955,1955,1955,1955,1955,1955,1955,1955,1955,1955,1955,1955,1955,1955,1955,1956,1956,1956,1956,1956,1956,1956,1956,1956,1956,1956,1956,1956,1956,1956,1956,1956,1956,1956,1956,1956,1956,1956,1956,1956,1956,1956,1956,1956,1956,1956,1956,1956,1956,1956,1956,1956,1956,1956,1956,1956,1956,1956,1956,1956,1956,1956,1957,1957,1957,1957,1957,1957,1957,1957,1957,1957,1957,1957,1957,1957,1957,1957,1957,1957,1957,1957,1957,1957,1957,1957,1957,1957,1957,1957,1957,1957,1957,1957,1957,1957,1957,1957,1957,1957,1957,1957,1957,1957,1957,1957,1957,1957,1957,1957,1957,1957,1957,1957,1957,1957,1957,1957,1957,1957,1957,1957,1957,1957,1957,1957,1957,1957,1958,1958,1958,1958,1958,1958,1958,1958,1958,1958,1958,1958,1958,1958,1958,1958,1958,1958,1958,1958,1958,1958,1958,1958,1958,1958,1958,1958,1958,1958,1958,1958,1958,1958,1958,1958,1958,1958,1958,1958,1958,1958,1958,1958,1958,1958,1958,1958,1958,1958,1958,1958,1958,1958,1958,1958,1958,1958,1958,1958,1958,1958,1958,1958,1958,1958,1959,1959,1959,1959,1959,1959,1959,1959,1959,1959,1959,1959,1959,1959,1959,1959,1959,1959,1959,1959,1959,1959,1959,1959,1959,1959,1959,1959,1959,1959,1959,1959,1959,1959,1959,1959,1959,1959,1959,1959,1959,1959,1959,1959,1959,1959,1959,1959,1959,1959,1959,1960,1960,1960,1960,1960,1960,1960,1960,1960,1960,1960,1960,1960,1960,1960,1960,1960,1960,1960,1960,1960,1960,1960,1960,1960,1960,1960,1960,1960,1960,1960,1960,1960,1960,1960,1960,1960,1960,1960,1960,1960,1960,1960,1960,1960,1960,1960,1960,1960,1960,1960,1960,1960,1960,1960,1960,1960,1960,1960,1960,1960,1961,1961,1961,1961,1961,1961,1961,1961,1961,1961,1961,1961,1961,1961,1961,1961,1961,1961,1961,1961,1961,1961,1961,1961,1961,1961,1961,1961,1961,1961,1961,1961,1961,1961,1961,1961,1961,1961,1961,1961,1961,1961,1961,1961,1961,1961,1961,1961,1961,1961,1961,1961,1961,1961,1961,1961,1961,1961,1962,1962,1962,1962,1962,1962,1962,1962,1962,1962,1962,1962,1962,1962,1962,1962,1962,1962,1962,1962,1962,1962,1962,1962,1962,1962,1962,1962,1962,1962,1962,1962,1962,1962,1962,1962,1962,1962,1962,1962,1962,1962,1962,1962,1962,1962,1962,1962,1962,1962,1962,1962,1962,1962,1962,1962,1962,1962,1962,1962,1962,1962,1962,1962,1962,1962,1962,1962,1962,1962,1963,1963,1963,1963,1963,1963,1963,1963,1963,1963,1963,1963,1963,1963,1963,1963,1963,1963,1963,1963,1963,1963,1963,1963,1963,1963,1963,1963,1963,1963,1963,1963,1963,1963,1963,1963,1963,1963,1963,1963,1963,1963,1963,1963,1963,1963,1963,1963,1963,1963,1963,1963,1963,1963,1963,1963,1963,1963,1963,1963,1963,1963,1963,1963,1963,1963,1964,1964,1964,1964,1964,1964,1964,1964,1964,1964,1964,1964,1964,1964,1964,1964,1964,1964,1964,1964,1964,1964,1964,1964,1964,1964,1964,1964,1964,1964,1964,1964,1964,1964,1964,1964,1964,1964,1964,1964,1964,1964,1964,1964,1964,1964,1964,1964,1964,1964,1964,1964,1964,1964,1964,1964,1964,1964,1964,1964,1964,1964,1964,1964,1964,1964,1964,1964,1964,1964,1964,1964,1964,1964,1964,1964,1964,1964,1964,1964,1964,1964,1964,1964,1965,1965,1965,1965,1965,1965,1965,1965,1965,1965,1965,1965,1965,1965,1965,1965,1965,1965,1965,1965,1965,1965,1965,1965,1965,1965,1965,1965,1965,1965,1965,1965,1965,1965,1965,1965,1965,1965,1965,1965,1965,1965,1965,1965,1965,1965,1965,1965,1965,1965,1965,1965,1965,1965,1965,1965,1965,1965,1965,1965,1965,1965,1965,1965,1965,1965,1965,1965,1965,1965,1965,1965,1965,1965,1965,1965,1965,1965,1965,1965,1965,1965,1965,1965,1965,1966,1966,1966,1966,1966,1966,1966,1966,1966,1966,1966,1966,1966,1966,1966,1966,1966,1966,1966,1966,1966,1966,1966,1966,1966,1966,1966,1966,1966,1966,1966,1966,1966,1966,1966,1966,1966,1966,1966,1966,1966,1966,1966,1966,1966,1966,1966,1966,1966,1966,1966,1966,1966,1966,1966,1966,1966,1966,1966,1966,1966,1966,1966,1966,1966,1966,1966,1966,1966,1966,1966,1966,1966,1966,1966,1966,1966,1966,1966,1966,1966,1966,1966,1966,1966,1966,1966,1966,1966,1966,1966,1966,1966,1966,1966,1966,1966,1966,1966,1966,1967,1967,1967,1967,1967,1967,1967,1967,1967,1967,1967,1967,1967,1967,1967,1967,1967,1967,1967,1967,1967,1967,1967,1967,1967,1967,1967,1967,1967,1967,1967,1967,1967,1967,1967,1967,1967,1967,1967,1967,1967,1967,1967,1967,1967,1967,1967,1967,1967,1967,1967,1967,1967,1967,1967,1967,1967,1967,1967,1967,1967,1967,1967,1967,1967,1967,1967,1967,1967,1967,1967,1967,1967,1967,1967,1967,1967,1967,1967,1967,1967,1967,1967,1967,1967,1967,1967,1967,1967,1967,1967,1967,1967,1967,1967,1967,1967,1967,1967,1967,1968,1968,1968,1968,1968,1968,1968,1968,1968,1968,1968,1968,1968,1968,1968,1968,1968,1968,1968,1968,1968,1968,1968,1968,1968,1968,1968,1968,1968,1968,1968,1968,1968,1968,1968,1968,1968,1968,1968,1968,1968,1968,1968,1968,1968,1968,1968,1968,1968,1968,1968,1968,1968,1968,1968,1968,1968,1968,1968,1968,1968,1968,1968,1968,1968,1968,1968,1968,1968,1968,1968,1968,1968,1968,1968,1968,1968,1968,1968,1968,1968,1968,1968,1968,1968,1968,1968,1968,1968,1968,1968,1968,1968,1968,1968,1968,1968,1968,1968,1968,1968,1968,1968,1968,1968,1968,1968,1968,1968,1969,1969,1969,1969,1969,1969,1969,1969,1969,1969,1969,1969,1969,1969,1969,1969,1969,1969,1969,1969,1969,1969,1969,1969,1969,1969,1969,1969,1969,1969,1969,1969,1969,1969,1969,1969,1969,1969,1969,1969,1969,1969,1969,1969,1969,1969,1969,1969,1969,1969,1969,1969,1969,1969,1969,1969,1969,1969,1969,1969,1969,1969,1969,1969,1969,1969,1969,1969,1969,1969,1969,1969,1969,1969,1969,1969,1969,1969,1969,1969,1969,1969,1969,1969,1969,1969,1969,1969,1969,1969,1969,1969,1969,1969,1969,1969,1969,1969,1969,1970,1970,1970,1970,1970,1970,1970,1970,1970,1970,1970,1970,1970,1970,1970,1970,1970,1970,1970,1970,1970,1970,1970,1970,1970,1970,1970,1970,1970,1970,1970,1970,1970,1970,1970,1970,1970,1970,1970,1970,1970,1970,1970,1970,1970,1970,1970,1970,1970,1970,1970,1970,1970,1970,1970,1970,1970,1970,1970,1970,1970,1970,1970,1970,1970,1970,1970,1970,1970,1970,1970,1970,1970,1970,1970,1970,1970,1970,1970,1970,1970,1970,1970,1970,1970,1970,1970,1970,1970,1970,1970,1970,1970,1970,1970,1970,1970,1970,1970,1970,1970,1971,1971,1971,1971,1971,1971,1971,1971,1971,1971,1971,1971,1971,1971,1971,1971,1971,1971,1971,1971,1971,1971,1971,1971,1971,1971,1971,1971,1971,1971,1971,1971,1971,1971,1971,1971,1971,1971,1971,1971,1971,1971,1971,1971,1971,1971,1971,1971,1971,1971,1971,1971,1971,1971,1971,1971,1971,1971,1971,1971,1971,1971,1971,1971,1971,1971,1971,1971,1971,1971,1971,1971,1971,1971,1971,1971,1971,1971,1971,1971,1971,1971,1971,1971,1971,1971,1971,1971,1971,1971,1971,1971,1971,1971,1971,1971,1971,1971,1971,1971,1971,1971,1971,1971,1971,1971,1971,1971,1971,1971,1971,1972,1972,1972,1972,1972,1972,1972,1972,1972,1972,1972,1972,1972,1972,1972,1972,1972,1972,1972,1972,1972,1972,1972,1972,1972,1972,1972,1972,1972,1972,1972,1972,1972,1972,1972,1972,1972,1972,1972,1972,1972,1972,1972,1972,1972,1972,1972,1972,1972,1972,1972,1972,1972,1972,1972,1972,1972,1972,1972,1972,1972,1972,1972,1972,1972,1972,1972,1972,1972,1972,1972,1972,1972,1972,1972,1972,1972,1972,1972,1972,1972,1972,1972,1972,1972,1972,1972,1972,1972,1972,1972,1972,1972,1972,1972,1972,1972,1972,1972,1972,1972,1972,1972,1972,1972,1972,1972,1972,1972,1972,1972,1972,1972,1972,1972,1972,1972,1972,1973,1973,1973,1973,1973,1973,1973,1973,1973,1973,1973,1973,1973,1973,1973,1973,1973,1973,1973,1973,1973,1973,1973,1973,1973,1973,1973,1973,1973,1973,1973,1973,1973,1973,1973,1973,1973,1973,1973,1973,1973,1973,1973,1973,1973,1973,1973,1973,1973,1973,1973,1973,1973,1973,1973,1973,1973,1973,1973,1973,1973,1973,1973,1973,1973,1973,1973,1973,1973,1973,1973,1973,1973,1973,1973,1973,1973,1973,1973,1973,1973,1973,1973,1973,1973,1973,1973,1973,1973,1973,1973,1973,1973,1973,1973,1973,1973,1973,1973,1973,1973,1973,1973,1974,1974,1974,1974,1974,1974,1974,1974,1974,1974,1974,1974,1974,1974,1974,1974,1974,1974,1974,1974,1974,1974,1974,1974,1974,1974,1974,1974,1974,1974,1974,1974,1974,1974,1974,1974,1974,1974,1974,1974,1974,1974,1974,1974,1974,1974,1974,1974,1974,1974,1974,1974,1974,1974,1974,1974,1974,1974,1974,1974,1974,1974,1974,1974,1974,1974,1974,1974,1974,1974,1974,1974,1974,1974,1974,1974,1974,1974,1974,1974,1974,1974,1974,1974,1974,1974,1974,1974,1974,1974,1974,1974,1974,1974,1974,1974,1974,1974,1974,1974,1974,1974,1974,1974,1974,1974,1974,1974,1974,1974,1974,1974,1974,1974,1975,1975,1975,1975,1975,1975,1975,1975,1975,1975,1975,1975,1975,1975,1975,1975,1975,1975,1975,1975,1975,1975,1975,1975,1975,1975,1975,1975,1975,1975,1975,1975,1975,1975,1975,1975,1975,1975,1975,1975,1975,1975,1975,1975,1975,1975,1975,1975,1975,1975,1975,1975,1975,1975,1975,1975,1975,1975,1975,1975,1975,1975,1975,1975,1975,1975,1975,1975,1975,1975,1975,1975,1975,1975,1975,1975,1975,1975,1975,1975,1975,1975,1975,1975,1975,1975,1975,1975,1975,1975,1975,1975,1975,1975,1975,1975,1975,1975,1975,1975,1975,1975,1975,1975,1975,1975,1975,1975,1975,1975,1975,1975,1975,1975,1976,1976,1976,1976,1976,1976,1976,1976,1976,1976,1976,1976,1976,1976,1976,1976,1976,1976,1976,1976,1976,1976,1976,1976,1976,1976,1976,1976,1976,1976,1976,1976,1976,1976,1976,1976,1976,1976,1976,1976,1976,1976,1976,1976,1976,1976,1976,1976,1976,1976,1976,1976,1976,1976,1976,1976,1976,1976,1976,1976,1976,1976,1976,1976,1976,1976,1976,1976,1976,1976,1976,1976,1976,1976,1976,1976,1976,1976,1976,1976,1976,1976,1976,1976,1976,1976,1976,1976,1976,1976,1976,1976,1976,1976,1976,1976,1976,1976,1977,1977,1977,1977,1977,1977,1977,1977,1977,1977,1977,1977,1977,1977,1977,1977,1977,1977,1977,1977,1977,1977,1977,1977,1977,1977,1977,1977,1977,1977,1977,1977,1977,1977,1977,1977,1977,1977,1977,1977,1977,1977,1977,1977,1977,1977,1977,1977,1977,1977,1977,1977,1977,1977,1977,1977,1977,1977,1977,1977,1977,1977,1977,1977,1977,1977,1977,1977,1977,1977,1977,1977,1977,1977,1977,1977,1977,1977,1977,1977,1977,1977,1977,1977,1977,1977,1977,1977,1977,1977,1977,1977,1977,1977,1977,1977,1977,1977,1977,1977,1977,1977,1977,1977,1977,1977,1977,1977,1977,1977,1977,1977,1977,1977,1977,1977,1977,1977,1977,1977,1977,1977,1977,1977,1977,1977,1977,1978,1978,1978,1978,1978,1978,1978,1978,1978,1978,1978,1978,1978,1978,1978,1978,1978,1978,1978,1978,1978,1978,1978,1978,1978,1978,1978,1978,1978,1978,1978,1978,1978,1978,1978,1978,1978,1978,1978,1978,1978,1978,1978,1978,1978,1978,1978,1978,1978,1978,1978,1978,1978,1978,1978,1978,1978,1978,1978,1978,1978,1978,1978,1978,1978,1978,1978,1978,1978,1978,1978,1978,1978,1978,1978,1978,1978,1978,1978,1978,1978,1978,1978,1978,1978,1978,1978,1978,1978,1978,1978,1978,1978,1978,1978,1978,1978,1978,1978,1978,1978,1978,1979,1979,1979,1979,1979,1979,1979,1979,1979,1979,1979,1979,1979,1979,1979,1979,1979,1979,1979,1979,1979,1979,1979,1979,1979,1979,1979,1979,1979,1979,1979,1979,1979,1979,1979,1979,1979,1979,1979,1979,1979,1979,1979,1979,1979,1979,1979,1979,1979,1979,1979,1979,1979,1979,1979,1979,1979,1979,1979,1979,1979,1979,1979,1979,1979,1979,1979,1979,1979,1979,1979,1979,1979,1979,1979,1979,1979,1979,1979,1979,1979,1979,1979,1979,1979,1979,1979,1979,1979,1979,1979,1979,1979,1979,1979,1979,1979,1979,1979,1979,1979,1979,1979,1979,1979,1979,1979,1979,1979,1979,1979,1979,1979,1979,1979,1979,1979,1979,1979,1979,1979,1979,1980,1980,1980,1980,1980,1980,1980,1980,1980,1980,1980,1980,1980,1980,1980,1980,1980,1980,1980,1980,1980,1980,1980,1980,1980,1980,1980,1980,1980,1980,1980,1980,1980,1980,1980,1980,1980,1980,1980,1980,1980,1980,1980,1980,1980,1980,1980,1980,1980,1980,1980,1980,1980,1980,1980,1980,1980,1980,1980,1980,1980,1980,1980,1980,1980,1980,1980,1980,1980,1980,1980,1980,1980,1980,1980,1980,1980,1980,1980,1980,1980,1980,1980,1980,1980,1980,1980,1980,1980,1980,1980,1980,1980,1980,1980,1980,1980,1980,1980,1980,1980,1980,1980,1980,1980,1980,1980,1980,1980,1980,1980,1980,1980,1980,1980,1980,1980,1980,1980,1980,1980,1980,1980,1980,1980,1980,1980,1980,1980,1980,1980,1980,1980,1980,1980,1980,1980,1980,1980,1980,1980,1980,1980,1980,1980,1980,1980,1980,1980,1980,1981,1981,1981,1981,1981,1981,1981,1981,1981,1981,1981,1981,1981,1981,1981,1981,1981,1981,1981,1981,1981,1981,1981,1981,1981,1981,1981,1981,1981,1981,1981,1981,1981,1981,1981,1981,1981,1981,1981,1981,1981,1981,1981,1981,1981,1981,1981,1981,1981,1981,1981,1981,1981,1981,1981,1981,1981,1981,1981,1981,1981,1981,1981,1981,1981,1981,1981,1981,1981,1981,1981,1981,1981,1981,1981,1981,1981,1981,1981,1981,1981,1981,1981,1981,1981,1981,1981,1981,1981,1981,1981,1981,1981,1981,1981,1981,1981,1981,1981,1981,1981,1981,1981,1981,1981,1981,1981,1981,1981,1981,1981,1981,1981,1981,1981,1981,1981,1981,1981,1981,1981,1981,1981,1981,1981,1981,1981,1981,1981,1981,1981,1981,1981,1981,1981,1981,1981,1981,1981,1981,1981,1981,1981,1981,1981,1981,1981,1981,1982,1982,1982,1982,1982,1982,1982,1982,1982,1982,1982,1982,1982,1982,1982,1982,1982,1982,1982,1982,1982,1982,1982,1982,1982,1982,1982,1982,1982,1982,1982,1982,1982,1982,1982,1982,1982,1982,1982,1982,1982,1982,1982,1982,1982,1982,1982,1982,1982,1982,1982,1982,1982,1982,1982,1982,1982,1982,1982,1982,1982,1982,1982,1982,1982,1982,1982,1982,1982,1982,1982,1982,1982,1982,1982,1982,1982,1982,1982,1982,1982,1982,1982,1982,1982,1982,1982,1982,1982,1982,1982,1982,1982,1982,1982,1982,1982,1982,1982,1982,1982,1982,1982,1982,1982,1982,1982,1982,1982,1982,1982,1982,1982,1982,1982,1982,1982,1982,1982,1982,1982,1982,1982,1982,1982,1982,1982,1982,1982,1982,1982,1982,1982,1982,1982,1982,1982,1983,1983,1983,1983,1983,1983,1983,1983,1983,1983,1983,1983,1983,1983,1983,1983,1983,1983,1983,1983,1983,1983,1983,1983,1983,1983,1983,1983,1983,1983,1983,1983,1983,1983,1983,1983,1983,1983,1983,1983,1983,1983,1983,1983,1983,1983,1983,1983,1983,1983,1983,1983,1983,1983,1983,1983,1983,1983,1983,1983,1983,1983,1983,1983,1983,1983,1983,1983,1983,1983,1983,1983,1983,1983,1983,1983,1983,1983,1983,1983,1983,1983,1983,1983,1983,1983,1983,1983,1983,1983,1983,1983,1983,1983,1983,1983,1983,1983,1983,1983,1983,1983,1983,1983,1983,1983,1983,1983,1983,1983,1983,1983,1983,1983,1983,1983,1983,1983,1983,1983,1983,1983,1983,1983,1984,1984,1984,1984,1984,1984,1984,1984,1984,1984,1984,1984,1984,1984,1984,1984,1984,1984,1984,1984,1984,1984,1984,1984,1984,1984,1984,1984,1984,1984,1984,1984,1984,1984,1984,1984,1984,1984,1984,1984,1984,1984,1984,1984,1984,1984,1984,1984,1984,1984,1984,1984,1984,1984,1984,1984,1984,1984,1984,1984,1984,1984,1984,1984,1984,1984,1984,1984,1984,1984,1984,1984,1984,1984,1984,1984,1984,1984,1984,1984,1984,1984,1984,1984,1984,1984,1984,1984,1984,1984,1984,1984,1984,1984,1984,1984,1984,1984,1984,1984,1984,1984,1984,1984,1984,1984,1984,1984,1984,1984,1984,1984,1984,1984,1984,1984,1984,1984,1984,1984,1984,1984,1984,1985,1985,1985,1985,1985,1985,1985,1985,1985,1985,1985,1985,1985,1985,1985,1985,1985,1985,1985,1985,1985,1985,1985,1985,1985,1985,1985,1985,1985,1985,1985,1985,1985,1985,1985,1985,1985,1985,1985,1985,1985,1985,1985,1985,1985,1985,1985,1985,1985,1985,1985,1985,1985,1985,1985,1985,1985,1985,1985,1985,1985,1985,1985,1985,1985,1985,1985,1985,1985,1985,1985,1985,1985,1985,1985,1985,1985,1985,1985,1985,1985,1985,1985,1985,1985,1985,1985,1985,1985,1985,1985,1985,1985,1985,1985,1985,1985,1985,1985,1985,1985,1985,1985,1985,1985,1985,1985,1985,1985,1985,1985,1985,1985,1985,1985,1985,1985,1985,1985,1985,1985,1985,1985,1985,1985,1985,1985,1985,1985,1985,1985,1985,1985,1985,1985,1985,1985,1985,1985,1985,1985,1985,1985,1985,1985,1985,1985,1985,1985,1985,1985,1985,1985,1985,1985,1985,1985,1985,1985,1985,1986,1986,1986,1986,1986,1986,1986,1986,1986,1986,1986,1986,1986,1986,1986,1986,1986,1986,1986,1986,1986,1986,1986,1986,1986,1986,1986,1986,1986,1986,1986,1986,1986,1986,1986,1986,1986,1986,1986,1986,1986,1986,1986,1986,1986,1986,1986,1986,1986,1986,1986,1986,1986,1986,1986,1986,1986,1986,1986,1986,1986,1986,1986,1986,1986,1986,1986,1986,1986,1986,1986,1986,1986,1986,1986,1986,1986,1986,1986,1986,1986,1986,1986,1986,1986,1986,1986,1986,1986,1986,1986,1986,1986,1986,1986,1986,1986,1986,1986,1986,1986,1986,1986,1986,1986,1986,1986,1986,1986,1986,1986,1986,1986,1986,1986,1986,1986,1986,1986,1986,1986,1986,1986,1986,1986,1986,1986,1986,1986,1986,1986,1986,1986,1986,1986,1986,1986,1986,1986,1987,1987,1987,1987,1987,1987,1987,1987,1987,1987,1987,1987,1987,1987,1987,1987,1987,1987,1987,1987,1987,1987,1987,1987,1987,1987,1987,1987,1987,1987,1987,1987,1987,1987,1987,1987,1987,1987,1987,1987,1987,1987,1987,1987,1987,1987,1987,1987,1987,1987,1987,1987,1987,1987,1987,1987,1987,1987,1987,1987,1987,1987,1987,1987,1987,1987,1987,1987,1987,1987,1987,1987,1987,1987,1987,1987,1987,1987,1987,1987,1987,1987,1987,1987,1987,1987,1987,1987,1987,1987,1987,1987,1987,1987,1987,1987,1987,1987,1987,1987,1987,1987,1988,1988,1988,1988,1988,1988,1988,1988,1988,1988,1988,1988,1988,1988,1988,1988,1988,1988,1988,1988,1988,1988,1988,1988,1988,1988,1988,1988,1988,1988,1988,1988,1988,1988,1988,1988,1988,1988,1988,1988,1988,1988,1988,1988,1988,1988,1988,1988,1988,1988,1988,1988,1988,1988,1988,1988,1988,1988,1988,1988,1988,1988,1988,1988,1988,1988,1988,1988,1988,1988,1988,1988,1988,1988,1988,1988,1988,1988,1988,1988,1988,1988,1988,1988,1988,1988,1988,1988,1988,1988,1988,1988,1988,1988,1988,1988,1988,1988,1988,1988,1988,1988,1988,1988,1988,1988,1988,1988,1988,1988,1988,1988,1988,1988,1988,1988,1988,1988,1988,1988,1988,1988,1988,1988,1988,1988,1988,1988,1988,1988,1988,1988,1988,1988,1989,1989,1989,1989,1989,1989,1989,1989,1989,1989,1989,1989,1989,1989,1989,1989,1989,1989,1989,1989,1989,1989,1989,1989,1989,1989,1989,1989,1989,1989,1989,1989,1989,1989,1989,1989,1989,1989,1989,1989,1989,1989,1989,1989,1989,1989,1989,1989,1989,1989,1989,1989,1989,1989,1989,1989,1989,1989,1989,1989,1989,1989,1989,1989,1989,1989,1989,1989,1989,1989,1989,1989,1989,1989,1989,1989,1989,1989,1989,1989,1989,1989,1989,1989,1989,1989,1989,1989,1989,1989,1989,1989,1989,1989,1989,1989,1989,1989,1989,1989,1989,1989,1989,1989,1989,1989,1989,1989,1989,1989,1989,1989,1989,1989,1989,1989,1989,1989,1989,1989,1989,1989,1989,1989,1989,1989,1989,1989,1989,1989,1989,1989,1989,1989,1989,1989,1989,1989,1989,1989,1989,1989,1989,1989,1989,1989,1989,1989,1989,1989,1989,1989,1989,1989,1989,1989,1989,1989,1989,1989,1989,1989,1989,1989,1989,1989,1989,1989,1989,1989,1989,1989,1989,1989,1989,1989,1989,1989,1989,1989,1989,1989,1990,1990,1990,1990,1990,1990,1990,1990,1990,1990,1990,1990,1990,1990,1990,1990,1990,1990,1990,1990,1990,1990,1990,1990,1990,1990,1990,1990,1990,1990,1990,1990,1990,1990,1990,1990,1990,1990,1990,1990,1990,1990,1990,1990,1990,1990,1990,1990,1990,1990,1990,1990,1990,1990,1990,1990,1990,1990,1990,1990,1990,1990,1990,1990,1990,1990,1990,1990,1990,1990,1990,1990,1990,1990,1990,1990,1990,1990,1990,1990,1990,1990,1990,1990,1990,1990,1990,1990,1990,1990,1990,1990,1990,1990,1990,1990,1990,1990,1990,1990,1990,1990,1990,1990,1990,1990,1990,1990,1990,1990,1990,1990,1990,1990,1990,1990,1990,1990,1990,1990,1990,1990,1990,1990,1990,1990,1990,1990,1990,1990,1990,1990,1990,1990,1990,1990,1990,1990,1990,1990,1990,1990,1990,1990,1990,1990,1990,1990,1990,1990,1990,1990,1990,1990,1991,1991,1991,1991,1991,1991,1991,1991,1991,1991,1991,1991,1991,1991,1991,1991,1991,1991,1991,1991,1991,1991,1991,1991,1991,1991,1991,1991,1991,1991,1991,1991,1991,1991,1991,1991,1991,1991,1991,1991,1991,1991,1991,1991,1991,1991,1991,1991,1991,1991,1991,1991,1991,1991,1991,1991,1991,1991,1991,1991,1991,1991,1991,1991,1991,1991,1991,1991,1991,1991,1991,1991,1991,1991,1991,1991,1991,1991,1991,1991,1991,1991,1991,1991,1991,1991,1991,1991,1991,1991,1991,1991,1991,1991,1991,1991,1991,1991,1991,1991,1991,1991,1991,1991,1991,1991,1991,1991,1991,1991,1991,1991,1991,1991,1991,1991,1991,1991,1991,1991,1991,1991,1991,1991,1991,1991,1991,1991,1991,1991,1991,1991,1991,1991,1991,1991,1991,1991,1991,1991,1991,1991,1991,1991,1991,1991,1991,1991,1991,1991,1991,1991,1991,1991,1991,1992,1992,1992,1992,1992,1992,1992,1992,1992,1992,1992,1992,1992,1992,1992,1992,1992,1992,1992,1992,1992,1992,1992,1992,1992,1992,1992,1992,1992,1992,1992,1992,1992,1992,1992,1992,1992,1992,1992,1992,1992,1992,1992,1992,1992,1992,1992,1992,1992,1992,1992,1992,1992,1992,1992,1992,1992,1992,1992,1992,1992,1992,1992,1992,1992,1992,1992,1992,1992,1992,1992,1992,1992,1992,1992,1992,1992,1992,1992,1992,1992,1992,1992,1992,1992,1992,1992,1992,1992,1992,1992,1992,1992,1992,1992,1992,1992,1992,1992,1992,1992,1992,1992,1992,1992,1992,1992,1992,1992,1992,1992,1992,1992,1992,1992,1992,1992,1992,1992,1992,1992,1992,1992,1992,1992,1992,1992,1992,1992,1992,1992,1992,1992,1992,1992,1992,1992,1992,1992,1992,1992,1992,1992,1992,1992,1992,1992,1992,1992,1992,1992,1992,1992,1992,1992,1992,1992,1992,1992,1992,1992,1992,1992,1992,1992,1992,1992,1992,1992,1992,1992,1992,1992,1992,1992,1992,1992,1992,1992,1992,1992,1992,1992,1992,1993,1993,1993,1993,1993,1993,1993,1993,1993,1993,1993,1993,1993,1993,1993,1993,1993,1993,1993,1993,1993,1993,1993,1993,1993,1993,1993,1993,1993,1993,1993,1993,1993,1993,1993,1993,1993,1993,1993,1993,1993,1993,1993,1993,1993,1993,1993,1993,1993,1993,1993,1993,1993,1993,1993,1993,1993,1993,1993,1993,1993,1993,1993,1993,1993,1993,1993,1993,1993,1993,1993,1993,1993,1993,1993,1993,1993,1993,1993,1993,1993,1993,1993,1993,1993,1993,1993,1993,1993,1993,1993,1993,1993,1993,1993,1993,1993,1993,1993,1993,1993,1993,1993,1993,1993,1993,1993,1993,1993,1993,1993,1993,1993,1993,1993,1993,1993,1993,1993,1993,1993,1993,1993,1993,1993,1993,1993,1993,1993,1993,1993,1993,1993,1993,1993,1993,1993,1993,1993,1993,1993,1993,1993,1993,1993,1993,1993,1993,1993,1993,1993,1993,1993,1993,1993,1993,1993,1993,1993,1993,1993,1993,1993,1993,1993,1993,1993,1993,1993,1993,1993,1993,1993,1993,1993,1993,1993,1993,1993,1993,1993,1993,1993,1993,1993,1993,1993,1993,1993,1993,1993,1993,1993,1993,1994,1994,1994,1994,1994,1994,1994,1994,1994,1994,1994,1994,1994,1994,1994,1994,1994,1994,1994,1994,1994,1994,1994,1994,1994,1994,1994,1994,1994,1994,1994,1994,1994,1994,1994,1994,1994,1994,1994,1994,1994,1994,1994,1994,1994,1994,1994,1994,1994,1994,1994,1994,1994,1994,1994,1994,1994,1994,1994,1994,1994,1994,1994,1994,1994,1994,1994,1994,1994,1994,1994,1994,1994,1994,1994,1994,1994,1994,1994,1994,1994,1994,1994,1994,1994,1994,1994,1994,1994,1994,1994,1994,1994,1994,1994,1994,1994,1994,1994,1994,1994,1994,1994,1994,1994,1994,1994,1994,1994,1994,1994,1994,1994,1994,1994,1994,1994,1994,1994,1994,1994,1994,1994,1994,1994,1994,1994,1994,1994,1994,1994,1994,1994,1994,1994,1994,1994,1994,1994,1994,1994,1994,1994,1994,1994,1994,1994,1994,1994,1994,1994,1994,1994,1994,1994,1994,1994,1994,1994,1994,1994,1994,1994,1994,1994,1994,1994,1994,1994,1994,1994,1994,1994,1994,1994,1994,1995,1995,1995,1995,1995,1995,1995,1995,1995,1995,1995,1995,1995,1995,1995,1995,1995,1995,1995,1995,1995,1995,1995,1995,1995,1995,1995,1995,1995,1995,1995,1995,1995,1995,1995,1995,1995,1995,1995,1995,1995,1995,1995,1995,1995,1995,1995,1995,1995,1995,1995,1995,1995,1995,1995,1995,1995,1995,1995,1995,1995,1995,1995,1995,1995,1995,1995,1995,1995,1995,1995,1995,1995,1995,1995,1995,1995,1995,1995,1995,1995,1995,1995,1995,1995,1995,1995,1995,1995,1995,1995,1995,1995,1995,1995,1995,1995,1995,1995,1995,1995,1995,1995,1995,1995,1995,1995,1995,1995,1995,1995,1995,1995,1995,1995,1995,1995,1995,1995,1995,1995,1995,1995,1995,1995,1995,1995,1995,1995,1995,1995,1995,1995,1995,1995,1995,1995,1995,1995,1995,1995,1995,1995,1995,1995,1995,1995,1996,1996,1996,1996,1996,1996,1996,1996,1996,1996,1996,1996,1996,1996,1996,1996,1996,1996,1996,1996,1996,1996,1996,1996,1996,1996,1996,1996,1996,1996,1996,1996,1996,1996,1996,1996,1996,1996,1996,1996,1996,1996,1996,1996,1996,1996,1996,1996,1996,1996,1996,1996,1996,1996,1996,1996,1996,1996,1996,1996,1996,1996,1996,1996,1996,1996,1996,1996,1996,1996,1996,1996,1996,1996,1996,1996,1996,1996,1996,1996,1996,1996,1996,1996,1996,1996,1996,1996,1996,1996,1996,1996,1996,1996,1996,1996,1996,1996,1996,1996,1996,1996,1996,1996,1996,1996,1996,1996,1996,1996,1996,1996,1996,1996,1996,1996,1996,1996,1996,1996,1996,1996,1996,1996,1996,1996,1996,1996,1996,1996,1996,1996,1996,1996,1996,1996,1996,1996,1996,1996,1996,1996,1996,1996,1996,1996,1996,1996,1996,1996,1996,1996,1996,1996,1996,1997,1997,1997,1997,1997,1997,1997,1997,1997,1997,1997,1997,1997,1997,1997,1997,1997,1997,1997,1997,1997,1997,1997,1997,1997,1997,1997,1997,1997,1997,1997,1997,1997,1997,1997,1997,1997,1997,1997,1997,1997,1997,1997,1997,1997,1997,1997,1997,1997,1997,1997,1997,1997,1997,1997,1997,1997,1997,1997,1997,1997,1997,1997,1997,1997,1997,1997,1997,1997,1997,1997,1997,1997,1997,1997,1997,1997,1997,1997,1997,1997,1997,1997,1997,1997,1997,1997,1997,1997,1997,1997,1997,1997,1997,1997,1997,1997,1997,1997,1997,1997,1997,1997,1997,1997,1997,1997,1997,1997,1997,1997,1997,1997,1997,1997,1997,1997,1997,1997,1997,1997,1997,1997,1997,1997,1997,1997,1997,1997,1997,1997,1997,1997,1997,1997,1997,1997,1997,1997,1997,1997,1997,1997,1997,1997,1997,1997,1997,1997,1997,1997,1997,1997,1997,1997,1997,1997,1997,1997,1997,1997,1998,1998,1998,1998,1998,1998,1998,1998,1998,1998,1998,1998,1998,1998,1998,1998,1998,1998,1998,1998,1998,1998,1998,1998,1998,1998,1998,1998,1998,1998,1998,1998,1998,1998,1998,1998,1998,1998,1998,1998,1998,1998,1998,1998,1998,1998,1998,1998,1998,1998,1998,1998,1998,1998,1998,1998,1998,1998,1998,1998,1998,1998,1998,1998,1998,1998,1998,1998,1998,1998,1998,1998,1998,1998,1998,1998,1998,1998,1998,1998,1998,1998,1998,1998,1998,1998,1998,1998,1998,1998,1998,1998,1998,1998,1998,1998,1998,1998,1998,1998,1998,1998,1998,1998,1998,1998,1998,1998,1998,1998,1998,1998,1998,1998,1998,1998,1998,1998,1998,1998,1998,1998,1998,1998,1998,1998,1998,1998,1998,1998,1998,1998,1998,1998,1998,1998,1998,1998,1998,1998,1998,1998,1998,1998,1998,1998,1998,1998,1998,1998,1998,1998,1998,1998,1998,1998,1998,1998,1998,1998,1998,1998,1998,1998,1998,1999,1999,1999,1999,1999,1999,1999,1999,1999,1999,1999,1999,1999,1999,1999,1999,1999,1999,1999,1999,1999,1999,1999,1999,1999,1999,1999,1999,1999,1999,1999,1999,1999,1999,1999,1999,1999,1999,1999,1999,1999,1999,1999,1999,1999,1999,1999,1999,1999,1999,1999,1999,1999,1999,1999,1999,1999,1999,1999,1999,1999,1999,1999,1999,1999,1999,1999,1999,1999,1999,1999,1999,1999,1999,1999,1999,1999,1999,1999,1999,1999,1999,1999,1999,1999,1999,1999,1999,1999,1999,1999,1999,1999,1999,1999,1999,1999,1999,1999,1999,1999,1999,1999,1999,1999,1999,1999,1999,1999,1999,1999,1999,1999,1999,1999,1999,1999,1999,1999,1999,1999,1999,1999,1999,1999,1999,1999,1999,1999,1999,1999,1999,1999,1999,1999,1999,1999,1999,1999,1999,1999,1999,1999,1999,1999,1999,1999,1999,1999,1999,1999,1999,1999,1999,1999,1999,1999,1999,1999,1999,1999,1999,1999,1999,1999,1999,1999,1999,1999,1999,1999,1999,1999,1999,2000,2000,2000,2000,2000,2000,2000,2000,2000,2000,2000,2000,2000,2000,2000,2000,2000,2000,2000,2000,2000,2000,2000,2000,2000,2000,2000,2000,2000,2000,2000,2000,2000,2000,2000,2000,2000,2000,2000,2000,2000,2000,2000,2000,2000,2000,2000,2000,2000,2000,2000,2000,2000,2000,2000,2000,2000,2000,2000,2000,2000,2000,2000,2000,2000,2000,2000,2000,2000,2000,2000,2000,2000,2000,2000,2000,2000,2000,2000,2000,2000,2000,2000,2000,2000,2000,2000,2000,2000,2000,2000,2000,2000,2000,2000,2000,2000,2000,2000,2000,2000,2000,2000,2000,2000,2000,2000,2000,2000,2000,2000,2000,2000,2000,2000,2000,2000,2000,2000,2000,2000,2000,2000,2000,2000,2000,2000,2000,2000,2000,2000,2000,2000,2000,2000,2000,2000,2000,2000,2000,2000,2000,2000,2000,2000,2000,2000,2000,2000,2000,2000,2000,2000,2000,2000,2000,2000,2000,2000,2000,2000,2000,2000,2000,2000,2000,2000,2000,2000,2000,2000,2000,2000,2000,2000,2000,2000,2000,2000,2000,2000,2000,2000,2000,2000,2001,2001,2001,2001,2001,2001,2001,2001,2001,2001,2001,2001,2001,2001,2001,2001,2001,2001,2001,2001,2001,2001,2001,2001,2001,2001,2001,2001,2001,2001,2001,2001,2001,2001,2001,2001,2001,2001,2001,2001,2001,2001,2001,2001,2001,2001,2001,2001,2001,2001,2001,2001,2001,2001,2001,2001,2001,2001,2001,2001,2001,2001,2001,2001,2001,2001,2001,2001,2001,2001,2001,2001,2001,2001,2001,2001,2001,2001,2001,2001,2001,2001,2001,2001,2001,2001,2001,2001,2001,2001,2001,2001,2001,2001,2001,2001,2001,2001,2001,2001,2001,2001,2001,2001,2001,2001,2001,2001,2001,2001,2001,2001,2001,2001,2001,2001,2001,2001,2001,2001,2001,2001,2001,2001,2001,2001,2001,2001,2001,2001,2001,2001,2001,2001,2001,2001,2001,2001,2001,2001,2001,2001,2001,2001,2001,2001,2001,2001,2001,2001,2001,2001,2001,2001,2001,2001,2001,2001,2001,2001,2001,2001,2001,2001,2001,2001,2001,2001,2001,2001,2001,2001,2001,2001,2001,2001,2001,2001,2001,2001,2001,2001,2001,2001,2001,2001,2001,2001,2001,2001,2001,2001,2001,2001,2001,2001,2001,2002,2002,2002,2002,2002,2002,2002,2002,2002,2002,2002,2002,2002,2002,2002,2002,2002,2002,2002,2002,2002,2002,2002,2002,2002,2002,2002,2002,2002,2002,2002,2002,2002,2002,2002,2002,2002,2002,2002,2002,2002,2002,2002,2002,2002,2002,2002,2002,2002,2002,2002,2002,2002,2002,2002,2002,2002,2002,2002,2002,2002,2002,2002,2002,2002,2002,2002,2002,2002,2002,2002,2002,2002,2002,2002,2002,2002,2002,2002,2002,2002,2002,2002,2002,2002,2002,2002,2002,2002,2002,2002,2002,2002,2002,2002,2002,2002,2002,2002,2002,2002,2002,2002,2002,2002,2002,2002,2002,2002,2002,2002,2002,2002,2002,2002,2002,2002,2002,2002,2002,2002,2002,2002,2002,2002,2002,2002,2002,2002,2002,2002,2002,2002,2002,2002,2002,2002,2002,2002,2002,2002,2002,2002,2002,2002,2002,2002,2002,2002,2002,2002,2002,2002,2002,2002,2002,2002,2002,2002,2002,2002,2002,2002,2002,2002,2002,2002,2002,2002,2002,2002,2002,2002,2002,2002,2002,2002,2002,2002,2002,2002,2002,2002,2002,2002,2002,2002,2002,2002,2002,2002,2002,2002,2002,2002,2002,2002,2002,2002,2002,2002,2002,2002,2002,2002,2002,2002,2002,2002,2002,2003,2003,2003,2003,2003,2003,2003,2003,2003,2003,2003,2003,2003,2003,2003,2003,2003,2003,2003,2003,2003,2003,2003,2003,2003,2003,2003,2003,2003,2003,2003,2003,2003,2003,2003,2003,2003,2003,2003,2003,2003,2003,2003,2003,2003,2003,2003,2003,2003,2003,2003,2003,2003,2003,2003,2003,2003,2003,2003,2003,2003,2003,2003,2003,2003,2003,2003,2003,2003,2003,2003,2003,2003,2003,2003,2003,2003,2003,2003,2003,2003,2003,2003,2003,2003,2003,2003,2003,2003,2003,2003,2003,2003,2003,2003,2003,2003,2003,2003,2003,2003,2003,2003,2003,2003,2003,2003,2003,2003,2003,2003,2003,2003,2003,2003,2003,2003,2003,2003,2003,2003,2003,2003,2003,2003,2003,2003,2003,2003,2003,2003,2003,2003,2003,2003,2003,2003,2003,2003,2003,2003,2003,2003,2003,2003,2003,2003,2003,2003,2003,2003,2003,2003,2003,2003,2003,2003,2003,2003,2003,2003,2003,2003,2003,2003,2003,2003,2003,2003,2003,2003,2003,2003,2003,2003,2003,2003,2003,2003,2003,2003,2003,2003,2003,2003,2003,2003,2003,2003,2003,2003,2003,2003,2003,2003,2003,2003,2003,2003,2003,2003,2003,2003,2003,2003,2003,2003,2003,2003,2003,2003,2003,2003,2003,2003,2003,2003,2003,2003,2003,2003,2003,2003,2003,2003,2003,2003,2003,2003,2003,2003,2003,2003,2003,2003,2003,2003,2003,2003,2003,2003,2003,2003,2003,2003,2004,2004,2004,2004,2004,2004,2004,2004,2004,2004,2004,2004,2004,2004,2004,2004,2004,2004,2004,2004,2004,2004,2004,2004,2004,2004,2004,2004,2004,2004,2004,2004,2004,2004,2004,2004,2004,2004,2004,2004,2004,2004,2004,2004,2004,2004,2004,2004,2004,2004,2004,2004,2004,2004,2004,2004,2004,2004,2004,2004,2004,2004,2004,2004,2004,2004,2004,2004,2004,2004,2004,2004,2004,2004,2004,2004,2004,2004,2004,2004,2004,2004,2004,2004,2004,2004,2004,2004,2004,2004,2004,2004,2004,2004,2004,2004,2004,2004,2004,2004,2004,2004,2004,2004,2004,2004,2004,2004,2004,2004,2004,2004,2004,2004,2004,2004,2004,2004,2004,2004,2004,2004,2004,2004,2004,2004,2004,2004,2004,2004,2004,2004,2004,2004,2004,2004,2004,2004,2004,2004,2004,2004,2004,2004,2004,2004,2004,2004,2004,2004,2004,2004,2004,2004,2004,2004,2004,2004,2004,2004,2004,2004,2004,2004,2004,2004,2004,2004,2004,2004,2004,2004,2004,2004,2004,2004,2004,2004,2004,2004,2004,2004,2004,2004,2004,2004,2004,2004,2004,2004,2004,2004,2004,2004,2004,2004,2004,2004,2004,2004,2004,2004,2004,2004,2004,2004,2004,2004,2004,2004,2004,2004,2004,2004,2004,2004,2004,2004,2004,2004,2004,2004,2004,2004,2004,2004,2004,2004,2004,2004,2004,2004,2004,2004,2004,2004,2004,2004,2004,2004,2004,2004,2004,2005,2005,2005,2005,2005,2005,2005,2005,2005,2005,2005,2005,2005,2005,2005,2005,2005,2005,2005,2005,2005,2005,2005,2005,2005,2005,2005,2005,2005,2005,2005,2005,2005,2005,2005,2005,2005,2005,2005,2005,2005,2005,2005,2005,2005,2005,2005,2005,2005,2005,2005,2005,2005,2005,2005,2005,2005,2005,2005,2005,2005,2005,2005,2005,2005,2005,2005,2005,2005,2005,2005,2005,2005,2005,2005,2005,2005,2005,2005,2005,2005,2005,2005,2005,2005,2005,2005,2005,2005,2005,2005,2005,2005,2005,2005,2005,2005,2005,2005,2005,2005,2005,2005,2005,2005,2005,2005,2005,2005,2005,2005,2005,2005,2005,2005,2005,2005,2005,2005,2005,2005,2005,2005,2005,2005,2005,2005,2005,2005,2005,2005,2005,2005,2005,2005,2005,2005,2005,2005,2005,2005,2005,2005,2005,2005,2005,2005,2005,2005,2005,2005,2005,2005,2005,2005,2005,2005,2005,2005,2005,2005,2005,2005,2005,2005,2005,2005,2005,2005,2005,2005,2005,2005,2005,2005,2005,2005,2005,2005,2005,2005,2005,2005,2005,2005,2005,2005,2005,2005,2005,2005,2005,2005,2005,2005,2005,2005,2005,2005,2005,2005,2005,2005,2005,2005,2005,2005,2005,2005,2005,2005,2005,2005,2005,2005,2005,2005,2005,2005,2005,2005,2005,2005,2005,2005,2005,2005,2005,2005,2005,2005,2005,2005,2005,2005,2005,2005,2005,2005,2005,2005,2005,2005,2005,2005,2005,2005,2005,2005,2005,2005,2005,2005,2005,2005,2005,2005,2005,2005,2005,2005,2005,2005,2005,2005,2005,2005,2005,2005,2005,2005,2005,2005,2005,2005,2005,2005,2005,2005,2005,2005,2005,2005,2005,2005,2005,2005,2005,2005,2005,2005,2005,2005,2005,2005,2005,2005,2005,2005,2006,2006,2006,2006,2006,2006,2006,2006,2006,2006,2006,2006,2006,2006,2006,2006,2006,2006,2006,2006,2006,2006,2006,2006,2006,2006,2006,2006,2006,2006,2006,2006,2006,2006,2006,2006,2006,2006,2006,2006,2006,2006,2006,2006,2006,2006,2006,2006,2006,2006,2006,2006,2006,2006,2006,2006,2006,2006,2006,2006,2006,2006,2006,2006,2006,2006,2006,2006,2006,2006,2006,2006,2006,2006,2006,2006,2006,2006,2006,2006,2006,2006,2006,2006,2006,2006,2006,2006,2006,2006,2006,2006,2006,2006,2006,2006,2006,2006,2006,2006,2006,2006,2006,2006,2006,2006,2006,2006,2006,2006,2006,2006,2006,2006,2006,2006,2006,2006,2006,2006,2006,2006,2006,2006,2006,2006,2006,2006,2006,2006,2006,2006,2006,2006,2006,2006,2006,2006,2006,2006,2006,2006,2006,2006,2006,2006,2006,2006,2006,2006,2006,2006,2006,2006,2006,2006,2006,2006,2006,2006,2006,2006,2006,2006,2006,2006,2006,2006,2006,2006,2006,2006,2006,2006,2006,2006,2006,2006,2006,2006,2006,2006,2006,2006,2006,2006,2006,2006,2006,2006,2006,2006,2006,2006,2006,2006,2006,2006,2006,2006,2006,2006,2006,2006,2006,2006,2006,2006,2006,2006,2006,2006,2006,2006,2006,2006,2006,2006,2006,2006,2006,2006,2006,2006,2006,2006,2006,2006,2006,2006,2006,2006,2006,2006,2006,2006,2006,2006,2006,2006,2006,2006,2006,2006,2006,2006,2006,2006,2006,2006,2006,2006,2007,2007,2007,2007,2007,2007,2007,2007,2007,2007,2007,2007,2007,2007,2007,2007,2007,2007,2007,2007,2007,2007,2007,2007,2007,2007,2007,2007,2007,2007,2007,2007,2007,2007,2007,2007,2007,2007,2007,2007,2007,2007,2007,2007,2007,2007,2007,2007,2007,2007,2007,2007,2007,2007,2007,2007,2007,2007,2007,2007,2007,2007,2007,2007,2007,2007,2007,2007,2007,2007,2007,2007,2007,2007,2007,2007,2007,2007,2007,2007,2007,2007,2007,2007,2007,2007,2007,2007,2007,2007,2007,2007,2007,2007,2007,2007,2007,2007,2007,2007,2007,2007,2007,2007,2007,2007,2007,2007,2007,2007,2007,2007,2007,2007,2007,2007,2007,2007,2007,2007,2007,2007,2007,2007,2007,2007,2007,2007,2007,2007,2007,2007,2007,2007,2007,2007,2007,2007,2007,2007,2007,2007,2007,2007,2007,2007,2007,2007,2007,2007,2007,2007,2007,2007,2007,2007,2007,2007,2007,2007,2007,2007,2007,2007,2007,2007,2007,2007,2007,2007,2007,2007,2007,2007,2007,2007,2007,2007,2007,2007,2007,2007,2007,2007,2007,2007,2007,2007,2007,2007,2007,2007,2007,2007,2007,2007,2007,2007,2007,2007,2007,2007,2007,2007,2007,2007,2007,2007,2007,2007,2007,2007,2007,2007,2007,2007,2007,2007,2007,2007,2007,2007,2007,2007,2007,2007,2007,2007,2007,2007,2007,2007,2007,2007,2007,2007,2007,2007,2007,2007,2007,2007,2007,2007,2007,2007,2007,2007,2007,2007,2007,2007,2007,2007,2007,2007,2007,2007,2007,2007,2007,2007,2007,2007,2007,2007,2007,2007,2007,2007,2007,2007,2007,2007,2007,2007,2007,2007,2007,2007,2008,2008,2008,2008,2008,2008,2008,2008,2008,2008,2008,2008,2008,2008,2008,2008,2008,2008,2008,2008,2008,2008,2008,2008,2008,2008,2008,2008,2008,2008,2008,2008,2008,2008,2008,2008,2008,2008,2008,2008,2008,2008,2008,2008,2008,2008,2008,2008,2008,2008,2008,2008,2008,2008,2008,2008,2008,2008,2008,2008,2008,2008,2008,2008,2008,2008,2008,2008,2008,2008,2008,2008,2008,2008,2008,2008,2008,2008,2008,2008,2008,2008,2008,2008,2008,2008,2008,2008,2008,2008,2008,2008,2008,2008,2008,2008,2008,2008,2008,2008,2008,2008,2008,2008,2008,2008,2008,2008,2008,2008,2008,2008,2008,2008,2008,2008,2008,2008,2008,2008,2008,2008,2008,2008,2008,2008,2008,2008,2008,2008,2008,2008,2008,2008,2008,2008,2008,2008,2008,2008,2008,2008,2008,2008,2008,2008,2008,2008,2008,2008,2008,2008,2008,2008,2008,2008,2008,2008,2008,2008,2008,2008,2008,2008,2008,2008,2008,2008,2008,2008,2008,2008,2008,2008,2008,2008,2008,2008,2008,2008,2008,2008,2008,2008,2008,2008,2008,2008,2008,2008,2008,2008,2008,2008,2008,2008,2008,2008,2008,2008,2008,2008,2008,2008,2008,2008,2008,2008,2008,2008,2008,2008,2008,2008,2008,2008,2008,2008,2008,2008,2008,2008,2008,2008,2008,2008,2008,2008,2008,2008,2008,2008,2008,2008,2008,2008,2008,2008,2008,2008,2008,2008,2008,2008,2008,2008,2008,2008,2008,2008,2008,2008,2008,2008,2008,2008,2008,2008,2008,2008,2008,2008,2008,2008,2008,2008,2008,2008,2008,2008,2008,2009,2009,2009,2009,2009,2009,2009,2009,2009,2009,2009,2009,2009,2009,2009,2009,2009,2009,2009,2009,2009,2009,2009,2009,2009,2009,2009,2009,2009,2009,2009,2009,2009,2009,2009,2009,2009,2009,2009,2009,2009,2009,2009,2009,2009,2009,2009,2009,2009,2009,2009,2009,2009,2009,2009,2009,2009,2009,2009,2009,2009,2009,2009,2009,2009,2009,2009,2009,2009,2009,2009,2009,2009,2009,2009,2009,2009,2009,2009,2009,2009,2009,2009,2009,2009,2009,2009,2009,2009,2009,2009,2009,2009,2009,2009,2009,2009,2009,2009,2009,2009,2009,2009,2009,2009,2009,2009,2009,2009,2009,2009,2009,2009,2009,2009,2009,2009,2009,2009,2009,2009,2009,2009,2009,2009,2009,2009,2009,2009,2009,2009,2009,2009,2009,2009,2009,2009,2009,2009,2009,2009,2009,2009,2009,2009,2009,2009,2009,2009,2009,2009,2009,2009,2009,2009,2009,2009,2009,2009,2009,2009,2009,2009,2009,2009,2009,2009,2009,2009,2009,2009,2009,2009,2009,2009,2009,2009,2009,2009,2009,2009,2009,2009,2009,2009,2009,2009,2009,2009,2009,2009,2009,2009,2009,2009,2009,2009,2009,2009,2009,2009,2009,2009,2009,2009,2009,2009,2009,2009,2009,2009,2009,2009,2009,2009,2009,2009,2009,2009,2009,2009,2009,2009,2009,2009,2009,2009,2009,2009,2009,2009,2009,2009,2009,2009,2009,2009,2009,2009,2009,2009,2009,2009,2009,2009,2009,2009,2009,2009,2009,2009,2009,2009,2009,2009,2009,2009,2009,2009,2009,2009,2009,2009,2009,2009,2009,2009,2009,2009,2009,2009,2009,2009,2009,2009,2009,2009,2009,2009,2009,2009,2009,2009,2010,2010,2010,2010,2010,2010,2010,2010,2010,2010,2010,2010,2010,2010,2010,2010,2010,2010,2010,2010,2010,2010,2010,2010,2010,2010,2010,2010,2010,2010,2010,2010,2010,2010,2010,2010,2010,2010,2010,2010,2010,2010,2010,2010,2010,2010,2010,2010,2010,2010,2010,2010,2010,2010,2010,2010,2010,2010,2010,2010,2010,2010,2010,2010,2010,2010,2010,2010,2010,2010,2010,2010,2010,2010,2010,2010,2010,2010,2010,2010,2010,2010,2010,2010,2010,2010,2010,2010,2010,2010,2010,2010,2010,2010,2010,2010,2010,2010,2010,2010,2010,2010,2010,2010,2010,2010,2010,2010,2010,2010,2010,2010,2010,2010,2010,2010,2010,2010,2010,2010,2010,2010,2010,2010,2010,2010,2010,2010,2010,2010,2010,2010,2010,2010,2010,2010,2010,2010,2010,2010,2010,2010,2010,2010,2010,2010,2010,2010,2010,2010,2010,2010,2010,2010,2010,2010,2010,2010,2010,2010,2010,2010,2010,2010,2010,2010,2010,2010,2010,2010,2010,2010,2010,2010,2010,2010,2010,2010,2010,2010,2010,2010,2010,2010,2010,2010,2010,2010,2010,2010,2010,2010,2010,2010,2010,2010,2010,2010,2010,2010,2010,2010,2010,2010,2010,2010,2010,2010,2010,2010,2010,2010,2010,2010,2010,2010,2010,2010,2010,2010,2010,2010,2010,2010,2010,2010,2010,2010,2010,2010,2010,2010,2010,2010,2010,2010,2010,2010,2010,2010,2010,2010,2010,2010,2010,2010,2010,2010,2010,2010,2010,2010,2010,2010,2010,2010,2010,2010,2010,2010,2010,2010,2010,2010,2010,2010,2010,2010,2010,2010,2010,2010,2010,2010,2010,2010,2010,2010,2010,2010,2010,2010,2010,2010,2010,2010,2010,2010,2010,2010,2010,2010,2010,2010,2010,2010,2010,2010,2010,2010,2010,2010,2010,2010,2010,2010,2010,2010,2010,2010,2010,2010,2010,2010,2010,2010,2010,2010,2010,2010,2010,2010,2010,2010,2010,2011,2011,2011,2011,2011,2011,2011,2011,2011,2011,2011,2011,2011,2011,2011,2011,2011,2011,2011,2011,2011,2011,2011,2011,2011,2011,2011,2011,2011,2011,2011,2011,2011,2011,2011,2011,2011,2011,2011,2011,2011,2011,2011,2011,2011,2011,2011,2011,2011,2011,2011,2011,2011,2011,2011,2011,2011,2011,2011,2011,2011,2011,2011,2011,2011,2011,2011,2011,2011,2011,2011,2011,2011,2011,2011,2011,2011,2011,2011,2011,2011,2011,2011,2011,2011,2011,2011,2011,2011,2011,2011,2011,2011,2011,2011,2011,2011,2011,2011,2011,2011,2011,2011,2011,2011,2011,2011,2011,2011,2011,2011,2011,2011,2011,2011,2011,2011,2011,2011,2011,2011,2011,2011,2011,2011,2011,2011,2011,2011,2011,2011,2011,2011,2011,2011,2011,2011,2011,2011,2011,2011,2011,2011,2011,2011,2011,2011,2011,2011,2011,2011,2011,2011,2011,2011,2011,2011,2011,2011,2011,2011,2011,2011,2011,2011,2011,2011,2011,2011,2011,2011,2011,2011,2011,2011,2011,2011,2011,2011,2011,2011,2011,2011,2011,2011,2011,2011,2011,2011,2011,2011,2011,2011,2011,2011,2011,2011,2011,2011,2011,2011,2011,2011,2011,2011,2011,2011,2011,2011,2011,2011,2011,2011,2011,2011,2011,2011,2011,2011,2011,2011,2011,2011,2011,2011,2011,2011,2011,2011,2011,2011,2011,2011,2011,2011,2011,2011,2011,2011,2011,2011,2011,2011,2011,2011,2011,2011,2011,2011,2011,2011,2011,2011,2011,2011,2011,2011,2011,2011,2011,2011,2011,2011,2011,2011,2011,2011,2011,2011,2011,2011,2011,2011,2011,2011,2011,2011,2011,2011,2011,2011,2011,2011,2011,2011,2011,2011,2011,2011,2011,2011,2011,2011,2011,2011,2011,2011,2011,2011,2011,2011,2011,2011,2011,2011,2012,2012,2012,2012,2012,2012,2012,2012,2012,2012,2012,2012,2012,2012,2012,2012,2012,2012,2012,2012,2012,2012,2012,2012,2012,2012,2012,2012,2012,2012,2012,2012,2012,2012,2012,2012,2012,2012,2012,2012,2012,2012,2012,2012,2012,2012,2012,2012,2012,2012,2012,2012,2012,2012,2012,2012,2012,2012,2012,2012,2012,2012,2012,2012,2012,2012,2012,2012,2012,2012,2012,2012,2012,2012,2012,2012,2012,2012,2012,2012,2012,2012,2012,2012,2012,2012,2012,2012,2012,2012,2012,2012,2012,2012,2012,2012,2012,2012,2012,2012,2012,2012,2012,2012,2012,2012,2012,2012,2012,2012,2012,2012,2012,2012,2012,2012,2012,2012,2012,2012,2012,2012,2012,2012,2012,2012,2012,2012,2012,2012,2012,2012,2012,2012,2012,2012,2012,2012,2012,2012,2012,2012,2012,2012,2012,2012,2012,2012,2012,2012,2012,2012,2012,2012,2012,2012,2012,2012,2012,2012,2012,2012,2012,2012,2012,2012,2012,2012,2012,2012,2012,2012,2012,2012,2012,2012,2012,2012,2012,2012,2012,2012,2012,2012,2012,2012,2012,2012,2012,2012,2012,2012,2012,2012,2012,2012,2012,2012,2012,2012,2012,2012,2012,2012,2012,2012,2012,2012,2012,2012,2012,2012,2012,2012,2012,2012,2012,2012,2012,2012,2012,2012,2012,2012,2012,2012,2012,2012,2012,2012,2012,2012,2012,2012,2012,2012,2012,2012,2012,2012,2012,2012,2012,2012,2012,2012,2012,2012,2012,2012,2012,2012,2012,2012,2012,2012,2012,2012,2012,2012,2012,2012,2012,2012,2012,2012,2012,2012,2012,2012,2012,2012,2012,2012,2012,2012,2012,2012,2012,2012,2012,2012,2012,2012,2012,2012,2012,2012,2012,2012,2012,2012,2013,2013,2013,2013,2013,2013,2013,2013,2013,2013,2013,2013,2013,2013,2013,2013,2013,2013,2013,2013,2013,2013,2013,2013,2013,2013,2013,2013,2013,2013,2013,2013,2013,2013,2013,2013,2013,2013,2013,2013,2013,2013,2013,2013,2013,2013,2013,2013,2013,2013,2013,2013,2013,2013,2013,2013,2013,2013,2013,2013,2013,2013,2013,2013,2013,2013,2013,2013,2013,2013,2013,2013,2013,2013,2013,2013,2013,2013,2013,2013,2013,2013,2013,2013,2013,2013,2013,2013,2013,2013,2013,2013,2013,2013,2013,2013,2013,2013,2013,2013,2013,2013,2013,2013,2013,2013,2013,2013,2013,2013,2013,2013,2013,2013,2013,2013,2013,2013,2013,2013,2013,2013,2013,2013,2013,2013,2013,2013,2013,2013,2013,2013,2013,2013,2013,2013,2013,2013,2013,2013,2013,2013,2013,2013,2013,2013,2013,2013,2013,2013,2013,2013,2013,2013,2013,2013,2013,2013,2013,2013,2013,2013,2013,2013,2013,2013,2013,2013,2013,2013,2013,2013,2013,2013,2013,2013,2013,2013,2013,2013,2013,2013,2013,2013,2013,2013,2013,2013,2013,2013,2013,2013,2013,2013,2013,2013,2013,2013,2013,2013,2013,2013,2013,2013,2013,2013,2013,2013,2013,2013,2013,2013,2013,2013,2013,2013,2013,2013,2013,2013,2013,2013,2013,2013,2013,2013,2013,2013,2013,2013,2013,2013,2013,2013,2013,2013,2013,2013,2013,2013,2013,2013,2013,2013,2013,2013,2013,2013,2013,2013,2013,2013,2013,2013,2013,2013,2013,2013,2013,2013,2013,2013,2013,2013,2013,2013,2013,2013,2013,2013,2013,2013,2013,2013,2013,2013,2013,2013,2013,2013,2013,2013,2013,2013,2013,2013,2013,2013,2013,2013,2013,2013,2013,2013,2013,2013,2013,2013,2013,2013,2013,2013,2013,2013,2013,2013,2013,2013,2013,2013,2013,2013,2013,2013,2013,2013,2013,2013,2013,2013,2013,2013,2013,2013,2013,2013,2013,2013,2013,2013,2013,2013,2013,2013,2013,2013,2013,2013,2013,2013,2013,2013,2013,2013,2013,2013,2013,2013,2013,2013,2013,2013,2013,2013,2013,2013,2013,2013,2013,2013,2013,2013,2013,2013,2013,2013,2013,2013,2013,2013,2013,2013,2013,2013,2014,2014,2014,2014,2014,2014,2014,2014,2014,2014,2014,2014,2014,2014,2014,2014,2014,2014,2014,2014,2014,2014,2014,2014,2014,2014,2014,2014,2014,2014,2014,2014,2014,2014,2014,2014,2014,2014,2014,2014,2014,2014,2014,2014,2014,2014,2014,2014,2014,2014,2014,2014,2014,2014,2014,2014,2014,2014,2014,2014,2014,2014,2014,2014,2014,2014,2014,2014,2014,2014,2014,2014,2014,2014,2014,2014,2014,2014,2014,2014,2014,2014,2014,2014,2014,2014,2014,2014,2014,2014,2014,2014,2014,2014,2014,2014,2014,2014,2014,2014,2014,2014,2014,2014,2014,2014,2014,2014,2014,2014,2014,2014,2014,2014,2014,2014,2014,2014,2014,2014,2014,2014,2014,2014,2014,2014,2014,2014,2014,2014,2014,2014,2014,2014,2014,2014,2014,2014,2014,2014,2014,2014,2014,2014,2014,2014,2014,2014,2014,2014,2014,2014,2014,2014,2014,2014,2014,2014,2014,2014,2014,2014,2014,2014,2014,2014,2014,2014,2014,2014,2014,2014,2014,2014,2014,2014,2014,2014,2014,2014,2014,2014,2014,2014,2014,2014,2014,2014,2014,2014,2014,2014,2014,2014,2014,2014,2014,2014,2014,2014,2014,2014,2014,2014,2014,2014,2014,2014,2014,2014,2014,2014,2014,2014,2014,2014,2014,2014,2014,2014,2014,2014,2014,2014,2014,2014,2014,2014,2014,2014,2014,2014,2014,2014,2014,2014,2014,2014,2014,2014,2014,2014,2014,2014,2014,2014,2014,2014,2014,2014,2014,2014,2014,2014,2014,2014,2014,2014,2014,2014,2014,2014,2014,2014,2014,2014,2014,2014,2014,2014,2014,2014,2014,2014,2014,2014,2014,2014,2014,2014,2014,2014,2014,2014,2014,2014,2014,2014,2014,2014,2014,2014,2014,2014,2014,2014,2014,2014,2014,2014,2014,2014,2014,2014,2014,2014,2014,2014,2014,2014,2014,2014,2014,2014,2014,2014,2014,2014,2014,2014,2014,2014,2014,2014,2014,2014,2014,2014,2014,2014,2014,2014,2014,2014,2014,2014,2014,2014,2014,2015,2015,2015,2015,2015,2015,2015,2015,2015,2015,2015,2015,2015,2015,2015,2015,2015,2015,2015,2015,2015,2015,2015,2015,2015,2015,2015,2015,2015,2015,2015,2015,2015,2015,2015,2015,2015,2015,2015,2015,2015,2015,2015,2015,2015,2015,2015,2015,2015,2015,2015,2015,2015,2015,2015,2015,2015,2015,2015,2015,2015,2015,2015,2015,2015,2015,2015,2015,2015,2015,2015,2015,2015,2015,2015,2015,2015,2015,2015,2015,2015,2015,2015,2015,2015,2015,2015,2015,2015,2015,2015,2015,2015,2015,2015,2015,2015,2015,2015,2015,2015,2015,2015,2015,2015,2015,2015,2015,2015,2015,2015,2015,2015,2015,2015,2015,2015,2015,2015,2015,2015,2015,2015,2015,2015,2015,2015,2015,2015,2015,2015,2015,2015,2015,2015,2015,2015,2015,2015,2015,2015,2015,2015,2015,2015,2015,2015,2015,2015,2015,2015,2015,2015,2015,2015,2015,2015,2015,2015,2015,2015,2015,2015,2015,2015,2015,2015,2015,2015,2015,2015,2015,2015,2015,2015,2015,2015,2015,2015,2015,2015,2015,2015,2015,2015,2015,2015,2015,2015,2015,2015,2015,2015,2015,2015,2015,2015,2015,2015,2015,2015,2015,2015,2015,2015,2015,2015,2015,2015,2015,2015,2015,2015,2015,2015,2015,2015,2015,2015,2015,2015,2015,2015,2015,2015,2015,2015,2015,2015,2015,2015,2015,2015,2015,2015,2015,2015,2015,2015,2015,2015,2015,2015,2015,2015,2015,2015,2015,2015,2015,2015,2015,2015,2015,2015,2015,2015,2015,2015,2015,2015,2015,2015,2015,2015,2015,2015,2015,2015,2015,2015,2015,2015,2015,2015,2015,2015,2015,2015,2015,2015,2015,2015,2015,2015,2015,2015,2015,2015,2015,2015,2015,2015,2015,2015,2015,2015,2015,2015,2015,2015,2015,2015,2015,2015,2015,2015,2015,2015,2015,2015,2015,2015,2015,2015,2015,2015,2015,2015,2015,2015,2015,2015,2015,2015,2015,2015,2015,2015,2015,2015,2015,2015,2015,2015,2015,2015,2015,2015,2015,2015,2015,2015,2015,2015,2015,2015,2015,2015,2015,2015,2015,2015,2016,2016,2016,2016,2016,2016,2016,2016,2016,2016,2016,2016,2016,2016,2016,2016,2016,2016,2016,2016,2016,2016,2016,2016,2016,2016,2016,2016,2016,2016,2016,2016,2016,2016,2016,2016,2016,2016,2016,2016,2016,2016,2016,2016,2016,2016,2016,2016,2016,2016,2016,2016,2016,2016,2016,2016,2016,2016,2016,2016,2016,2016,2016,2016,2016,2016,2016,2016,2016,2016,2016,2016,2016,2016,2016,2016,2016,2016,2016,2016,2016,2016,2016,2016,2016,2016,2016,2016,2016,2016,2016,2016,2016,2016,2016,2016,2016,2016,2016,2016,2016,2016,2016,2016,2016,2016,2016,2016,2016,2016,2016,2016,2016,2016,2016,2016,2016,2016,2016,2016,2016,2016,2016,2016,2016,2016,2016,2016,2016,2016,2016,2016,2016,2016,2016,2016,2016,2016,2016,2016,2016,2016,2016,2016,2016,2016,2016,2016,2016,2016,2016,2016,2016,2016,2016,2016,2016,2016,2016,2016,2016,2016,2016,2016,2016,2016,2016,2016,2016,2016,2016,2016,2016,2016,2016,2016,2016,2016,2016,2016,2016,2016,2016,2016,2016,2016,2016,2016,2016,2016,2016,2016,2016,2016,2016,2016,2016,2016,2016,2016,2016,2016,2016,2016,2016,2016,2016,2016,2016,2016,2016,2016,2016,2016,2016,2016,2016,2016,2016,2016,2016,2016,2016,2016,2016,2016,2016,2016,2016,2016,2016,2016,2016,2016,2016,2016,2016,2016,2016,2016,2016,2016,2016,2016,2016,2016,2016,2016,2016,2016,2016,2016,2016,2016,2016,2016,2016,2016,2016,2016,2016,2016,2016,2016,2016,2016,2016,2016,2016,2016,2016,2016,2016,2016,2016,2016,2016,2016,2016,2016,2016,2016,2016,2016,2016,2016,2016,2016,2016,2016,2016,2016,2016,2016,2016,2016,2016,2016,2016,2016,2016,2016,2016,2016,2016,2016,2016,2016,2016,2016,2016,2016,2016,2016,2016,2016,2016,2016,2016,2016,2016,2016,2016,2016,2016,2016,2016,2016,2016,2016,2016,2016,2016,2016,2016,2016,2016,2016,2016,2016,2016,2016,2016,2016,2016,2016,2016,2017,2017,2017,2017,2017,2017,2017,2017,2017,2017,2017,2017,2017,2017,2017,2017,2017,2017,2017,2017,2017,2017,2017,2017,2017,2017,2017,2017,2017,2017,2017,2017,2017,2017,2017,2017,2017,2017,2017,2017,2017,2017,2017,2017,2017,2017,2017,2017,2017,2017,2017,2017,2017,2017,2017,2017,2017,2017,2017,2017,2017,2017,2017,2017,2017,2017,2017,2017,2017,2017,2017,2017,2017,2017,2017,2017,2017,2017,2017,2017,2017,2017,2017,2017,2017,2017,2017,2017,2017,2017,2017,2017,2017,2017,2017,2017,2017,2017,2017,2017,2017,2017,2017,2017,2017,2017,2017,2017,2017,2017,2017,2017,2017,2017,2017,2017,2017,2017,2017,2017,2017,2017,2017,2017,2017,2017,2017,2017,2017,2017,2017,2017,2017,2017,2017,2017,2017,2017,2017,2017,2017,2017,2017,2017,2017,2017,2017,2017,2017,2017,2017,2017,2017,2017,2017,2017,2017,2017,2017,2017,2017,2017,2017,2017,2017,2017,2017,2017,2017,2017,2017,2017,2017,2017,2017,2017,2017,2017,2017,2017,2017,2017,2017,2017,2017,2017,2017,2017,2017,2017,2017,2017,2017,2017,2017,2017,2017,2017,2017,2017,2017,2017,2017,2017,2017,2017,2017,2017,2017,2017,2017,2017,2017,2017,2017,2017,2017,2017,2017,2017,2017,2017,2017,2017,2017,2017,2017,2017,2017,2017,2017,2017,2017,2017,2017,2017,2017,2017,2017,2017,2017,2017,2017,2017,2017,2017,2017,2017,2017,2017,2017,2017,2017,2017,2017,2017,2017,2017,2017,2017,2017,2017,2017,2017,2017,2017,2017,2017,2017,2017,2017,2017,2017,2017,2017,2017,2017,2017,2017,2017,2017,2017,2017,2017,2017,2017,2017,2017,2017,2017,2017,2017,2017,2017,2017,2017,2017,2017,2017,2017,2017,2017,2017,2017,2017,2017,2017,2017,2017,2017,2017,2017,2017,2017,2017,2017,2017,2017,2017,2017,2017,2017,2017,2017,2017,2017,2017,2017,2017,2017,2017,2017,2017,2017,2017,2017,2017,2017,2017,2017,2017,2017,2017,2017,2017,2017,2017,2017,2017,2017,2017,2017,2017,2017,2017,2017,2017,2017,2017,2017,2017,2017,2017,2017,2017,2017,2017,2017,2017,2017,2017,2017,2018,2018,2018,2018,2018,2018,2018,2018,2018,2018,2018,2018,2018,2018,2018,2018,2018,2018,2018,2018,2018,2018,2018,2018,2018,2018,2018,2018,2018,2018,2018,2018,2018,2018,2018,2018,2018,2018,2018,2018,2018,2018,2018,2018,2018,2018,2018,2018,2018,2018,2018,2018,2018,2018,2018,2018,2018,2018,2018,2018,2018,2018,2018,2018,2018,2018,2018,2018,2018,2018,2018,2018,2018,2018,2018,2018,2018,2018,2018,2018,2018,2018,2018,2018,2018,2018,2018,2018,2018,2018,2018,2018,2018,2018,2018,2018,2018,2018,2018,2018,2018,2018,2018,2018,2018,2018,2018,2018,2018,2018,2018,2018,2018,2018,2018,2018,2018,2018,2018,2018,2018,2018,2018,2018,2018,2018,2018,2018,2018,2018,2018,2018,2018,2018,2018,2018,2018,2018,2018,2018,2018,2018,2018,2018,2018,2018,2018,2018,2018,2018,2018,2018,2018,2018,2018,2018,2018,2018,2018,2018,2018,2018,2018,2018,2018,2018,2018,2018,2018,2018,2018,2018,2018,2018,2018,2018,2018,2018,2018,2018,2018,2018,2018,2018,2018,2018,2018,2018,2018,2018,2018,2018,2018,2018,2018,2018,2018,2018,2018,2018,2018,2018,2018,2018,2018,2018,2018,2018,2018,2018,2018,2018,2018,2018,2018,2018,2018,2018,2018,2018,2018,2018,2018,2018,2018,2018,2018,2018,2018,2018,2018,2018,2018,2018,2018,2018,2018,2018,2018,2018,2018,2018,2018,2018,2018,2018,2018,2018,2018,2018,2018,2018,2018,2018,2018,2018,2018,2018,2018,2018,2018,2018,2018,2018,2018,2018,2018,2018,2018,2018,2018,2018,2018,2018,2018,2018,2018,2018,2018,2018,2018,2018,2018,2018,2018,2018,2018,2018,2018,2018,2018,2018,2018,2018,2018,2018,2018,2018,2018,2018,2018,2018,2018,2018,2018,2018,2018,2018,2018,2018,2018,2018,2018,2018,2018,2018,2018,2018,2018,2018,2018,2018,2018,2018,2018,2018,2018,2018,2018,2018,2018,2018,2018,2018,2018,2018,2018,2018,2018,2018,2018,2018,2018,2018,2018,2018,2018,2018,2018,2018,2018,2018,2018,2018,2018,2018,2018,2018,2019,2019,2019,2019,2019,2019,2019,2019,2019,2019,2019,2019,2019,2019,2019,2019,2019,2019,2019,2019,2019,2019,2019,2019,2019,2019,2019,2019,2019,2019,2019,2019,2019,2019,2019,2019,2019,2019,2019,2019,2019,2019,2019,2019,2019,2019,2019,2019,2019,2019,2019,2019,2019,2019,2019,2019,2019,2019,2019,2019,2019,2019,2019,2019,2019,2019,2019,2019,2019,2019,2019,2019,2019,2019,2019,2019,2019,2019,2019,2019,2019,2019,2019,2019,2019,2019,2019,2019,2019,2019,2019,2019,2019,2019,2019,2019,2019,2019,2019,2019,2019,2019,2019,2019,2019,2019,2019,2019,2019,2019,2019,2019,2019,2019,2019,2019,2019,2019,2019,2019,2019,2019,2019,2019,2019,2019,2019,2019,2019,2019,2019,2019,2019,2019,2019,2019,2019,2019,2019,2019,2019,2019,2019,2019,2019,2019,2019,2019,2019,2019,2019,2019,2019,2019,2019,2019,2019,2019,2019,2019,2019,2019,2019,2019,2019,2019,2019,2019,2019,2019,2019,2019,2019,2019,2019,2019,2019,2019,2019,2019,2019,2019,2019,2019,2019,2019,2019,2019,2019,2019,2019,2019,2019,2019,2019,2019,2019,2019,2019,2019,2019,2019,2019,2019,2019,2019,2019,2019,2019,2019,2019,2019,2019,2019,2019,2019,2019,2019,2019,2019,2019,2019,2019,2019,2019,2019,2019,2019,2019,2019,2019,2019,2019,2019,2019,2019,2019,2019,2019,2019,2019,2019,2019,2019,2019,2019,2019,2019,2019,2019,2019,2019,2019,2019,2019,2019,2019,2019,2019,2019,2019,2019,2019,2019,2019,2019,2019,2019,2019,2019,2019,2019,2019,2019,2019,2019,2019,2019,2019,2019,2019,2019,2019,2019,2019,2019,2019,2019,2019,2019,2019,2019,2019,2019,2019,2019,2019,2019,2019,2019,2019,2019,2019,2019,2019,2019,2019,2019,2019,2019,2019,2019,2019,2019,2019,2019,2019,2019,2019,2019,2019,2019,2019,2019,2019,2019,2019,2019,2019,2019,2019,2019,2019,2019,2019,2019,2019,2019,2019,2019,2019,2019,2019,2019,2019,2019,2019,2019,2019,2019,2019,2019,2019,2019,2019,2019,2019,2019,2019,2019,2019,2019,2019,2019,2019,2019,2019,2019,2019,2019,2019,2019,2019,2019,2019,2019,2019,2019,2019,2019,2019,2019,2019,2019,2019,2019,2019,2019,2019,2019,2019,2019,2019,2019,2019,2019,2019,2019,2019,2019,2019,2019,2019,2019,2019,2019,2019,2019,2019,2019,2019,2019,2019,2019,2019,2019,2019,2019,2019,2019,2019,2019,2019,2020,2020,2020,2020,2020,2020,2020,2020,2020,2020,2020,2020,2020,2020,2020,2020,2020,2020,2020,2020,2020,2020,2020,2020,2020,2020,2020,2020,2020,2020,2020,2020,2020,2020,2020,2020,2020,2020,2020,2020,2020,2020,2020,2020,2020,2020,2020,2020,2020,2020,2020,2020,2020,2020,2020,2020,2020,2020,2020,2020,2020,2020,2020,2020,2020,2020,2020,2020,2020,2020,2020,2020,2020,2020,2020,2020,2020,2020,2020,2020,2020,2020,2020,2020,2020,2020,2020,2020,2020,2020,2020,2020,2020,2020,2020,2020,2020,2020,2020,2020,2020,2020,2020,2020,2020,2020,2020,2020,2020,2020,2020,2020,2020,2020,2020,2020,2020,2020,2020,2020,2020,2020,2020,2020,2020,2020,2020,2020,2020,2020,2020,2020,2020,2020,2020,2020,2020,2020,2020,2020,2020,2020,2020,2020,2020,2020,2020,2020,2020,2020,2020,2020,2020,2020,2020,2020,2020,2020,2020,2020,2020,2020,2020,2020,2020,2020,2020,2020,2020,2020,2020,2020,2020,2020,2020,2020,2020,2020,2020,2020,2020,2020,2020,2020,2020,2020,2020,2020,2020,2020,2020,2020,2020,2020,2020,2020,2020,2020,2020,2020,2020,2020,2020,2020,2020,2020,2020,2020,2020,2020,2020,2020,2020,2020,2020,2020,2020,2020,2020,2020,2020,2020,2020,2020,2020,2020,2020,2020,2020,2020,2020,2020,2020,2020,2020,2020,2020,2020,2020,2020,2020,2020,2020,2020,2020,2020,2020,2020,2020,2020,2020,2020,2020,2020,2020,2020,2020,2020,2020,2020,2020,2020,2020,2020,2020,2020,2020,2020,2020,2020,2020,2020,2020,2021,2021,2021,2021,2021,2021,2021,2021,2021,2021,2021,2021,2021,2021,2021,2021,2021,2021,2021,2021,2021,2021,2021,2021,2021,2021,2021,2021,2021,2021,2021,2021,2021,2021,2021,2021,2021,2021,2021,2021,2021,2021,2021,2021,2021,2021,2021,2021,2021,2021,2021,2021,2021,2021,2021,2021,2021,2021,2021,2021,2021,2021,2021,2021,2021,2021,2021,2021,2021,2021,2021,2021,2021,2021,2021,2021,2021,2021,2021,2021,2021,2021,2021,2021,2021,2021,2021,2021,2021,2021,2021,2021,2021,2021,2021,2021,2021,2021,2021,2021,2021,2021,2021,2021,2021,2021,2021,2021,2021,2021,2021,2021,2021,2021,2021,2021,2021,2021,2021,2021,2021],\"xaxis\":\"x\",\"yaxis\":\"y\",\"type\":\"histogram\"}],                        {\"template\":{\"data\":{\"barpolar\":[{\"marker\":{\"line\":{\"color\":\"white\",\"width\":0.5},\"pattern\":{\"fillmode\":\"overlay\",\"size\":10,\"solidity\":0.2}},\"type\":\"barpolar\"}],\"bar\":[{\"error_x\":{\"color\":\"#2a3f5f\"},\"error_y\":{\"color\":\"#2a3f5f\"},\"marker\":{\"line\":{\"color\":\"white\",\"width\":0.5},\"pattern\":{\"fillmode\":\"overlay\",\"size\":10,\"solidity\":0.2}},\"type\":\"bar\"}],\"carpet\":[{\"aaxis\":{\"endlinecolor\":\"#2a3f5f\",\"gridcolor\":\"#C8D4E3\",\"linecolor\":\"#C8D4E3\",\"minorgridcolor\":\"#C8D4E3\",\"startlinecolor\":\"#2a3f5f\"},\"baxis\":{\"endlinecolor\":\"#2a3f5f\",\"gridcolor\":\"#C8D4E3\",\"linecolor\":\"#C8D4E3\",\"minorgridcolor\":\"#C8D4E3\",\"startlinecolor\":\"#2a3f5f\"},\"type\":\"carpet\"}],\"choropleth\":[{\"colorbar\":{\"outlinewidth\":0,\"ticks\":\"\"},\"type\":\"choropleth\"}],\"contourcarpet\":[{\"colorbar\":{\"outlinewidth\":0,\"ticks\":\"\"},\"type\":\"contourcarpet\"}],\"contour\":[{\"colorbar\":{\"outlinewidth\":0,\"ticks\":\"\"},\"colorscale\":[[0.0,\"#0d0887\"],[0.1111111111111111,\"#46039f\"],[0.2222222222222222,\"#7201a8\"],[0.3333333333333333,\"#9c179e\"],[0.4444444444444444,\"#bd3786\"],[0.5555555555555556,\"#d8576b\"],[0.6666666666666666,\"#ed7953\"],[0.7777777777777778,\"#fb9f3a\"],[0.8888888888888888,\"#fdca26\"],[1.0,\"#f0f921\"]],\"type\":\"contour\"}],\"heatmapgl\":[{\"colorbar\":{\"outlinewidth\":0,\"ticks\":\"\"},\"colorscale\":[[0.0,\"#0d0887\"],[0.1111111111111111,\"#46039f\"],[0.2222222222222222,\"#7201a8\"],[0.3333333333333333,\"#9c179e\"],[0.4444444444444444,\"#bd3786\"],[0.5555555555555556,\"#d8576b\"],[0.6666666666666666,\"#ed7953\"],[0.7777777777777778,\"#fb9f3a\"],[0.8888888888888888,\"#fdca26\"],[1.0,\"#f0f921\"]],\"type\":\"heatmapgl\"}],\"heatmap\":[{\"colorbar\":{\"outlinewidth\":0,\"ticks\":\"\"},\"colorscale\":[[0.0,\"#0d0887\"],[0.1111111111111111,\"#46039f\"],[0.2222222222222222,\"#7201a8\"],[0.3333333333333333,\"#9c179e\"],[0.4444444444444444,\"#bd3786\"],[0.5555555555555556,\"#d8576b\"],[0.6666666666666666,\"#ed7953\"],[0.7777777777777778,\"#fb9f3a\"],[0.8888888888888888,\"#fdca26\"],[1.0,\"#f0f921\"]],\"type\":\"heatmap\"}],\"histogram2dcontour\":[{\"colorbar\":{\"outlinewidth\":0,\"ticks\":\"\"},\"colorscale\":[[0.0,\"#0d0887\"],[0.1111111111111111,\"#46039f\"],[0.2222222222222222,\"#7201a8\"],[0.3333333333333333,\"#9c179e\"],[0.4444444444444444,\"#bd3786\"],[0.5555555555555556,\"#d8576b\"],[0.6666666666666666,\"#ed7953\"],[0.7777777777777778,\"#fb9f3a\"],[0.8888888888888888,\"#fdca26\"],[1.0,\"#f0f921\"]],\"type\":\"histogram2dcontour\"}],\"histogram2d\":[{\"colorbar\":{\"outlinewidth\":0,\"ticks\":\"\"},\"colorscale\":[[0.0,\"#0d0887\"],[0.1111111111111111,\"#46039f\"],[0.2222222222222222,\"#7201a8\"],[0.3333333333333333,\"#9c179e\"],[0.4444444444444444,\"#bd3786\"],[0.5555555555555556,\"#d8576b\"],[0.6666666666666666,\"#ed7953\"],[0.7777777777777778,\"#fb9f3a\"],[0.8888888888888888,\"#fdca26\"],[1.0,\"#f0f921\"]],\"type\":\"histogram2d\"}],\"histogram\":[{\"marker\":{\"pattern\":{\"fillmode\":\"overlay\",\"size\":10,\"solidity\":0.2}},\"type\":\"histogram\"}],\"mesh3d\":[{\"colorbar\":{\"outlinewidth\":0,\"ticks\":\"\"},\"type\":\"mesh3d\"}],\"parcoords\":[{\"line\":{\"colorbar\":{\"outlinewidth\":0,\"ticks\":\"\"}},\"type\":\"parcoords\"}],\"pie\":[{\"automargin\":true,\"type\":\"pie\"}],\"scatter3d\":[{\"line\":{\"colorbar\":{\"outlinewidth\":0,\"ticks\":\"\"}},\"marker\":{\"colorbar\":{\"outlinewidth\":0,\"ticks\":\"\"}},\"type\":\"scatter3d\"}],\"scattercarpet\":[{\"marker\":{\"colorbar\":{\"outlinewidth\":0,\"ticks\":\"\"}},\"type\":\"scattercarpet\"}],\"scattergeo\":[{\"marker\":{\"colorbar\":{\"outlinewidth\":0,\"ticks\":\"\"}},\"type\":\"scattergeo\"}],\"scattergl\":[{\"marker\":{\"colorbar\":{\"outlinewidth\":0,\"ticks\":\"\"}},\"type\":\"scattergl\"}],\"scattermapbox\":[{\"marker\":{\"colorbar\":{\"outlinewidth\":0,\"ticks\":\"\"}},\"type\":\"scattermapbox\"}],\"scatterpolargl\":[{\"marker\":{\"colorbar\":{\"outlinewidth\":0,\"ticks\":\"\"}},\"type\":\"scatterpolargl\"}],\"scatterpolar\":[{\"marker\":{\"colorbar\":{\"outlinewidth\":0,\"ticks\":\"\"}},\"type\":\"scatterpolar\"}],\"scatter\":[{\"fillpattern\":{\"fillmode\":\"overlay\",\"size\":10,\"solidity\":0.2},\"type\":\"scatter\"}],\"scatterternary\":[{\"marker\":{\"colorbar\":{\"outlinewidth\":0,\"ticks\":\"\"}},\"type\":\"scatterternary\"}],\"surface\":[{\"colorbar\":{\"outlinewidth\":0,\"ticks\":\"\"},\"colorscale\":[[0.0,\"#0d0887\"],[0.1111111111111111,\"#46039f\"],[0.2222222222222222,\"#7201a8\"],[0.3333333333333333,\"#9c179e\"],[0.4444444444444444,\"#bd3786\"],[0.5555555555555556,\"#d8576b\"],[0.6666666666666666,\"#ed7953\"],[0.7777777777777778,\"#fb9f3a\"],[0.8888888888888888,\"#fdca26\"],[1.0,\"#f0f921\"]],\"type\":\"surface\"}],\"table\":[{\"cells\":{\"fill\":{\"color\":\"#EBF0F8\"},\"line\":{\"color\":\"white\"}},\"header\":{\"fill\":{\"color\":\"#C8D4E3\"},\"line\":{\"color\":\"white\"}},\"type\":\"table\"}]},\"layout\":{\"annotationdefaults\":{\"arrowcolor\":\"#2a3f5f\",\"arrowhead\":0,\"arrowwidth\":1},\"autotypenumbers\":\"strict\",\"coloraxis\":{\"colorbar\":{\"outlinewidth\":0,\"ticks\":\"\"}},\"colorscale\":{\"diverging\":[[0,\"#8e0152\"],[0.1,\"#c51b7d\"],[0.2,\"#de77ae\"],[0.3,\"#f1b6da\"],[0.4,\"#fde0ef\"],[0.5,\"#f7f7f7\"],[0.6,\"#e6f5d0\"],[0.7,\"#b8e186\"],[0.8,\"#7fbc41\"],[0.9,\"#4d9221\"],[1,\"#276419\"]],\"sequential\":[[0.0,\"#0d0887\"],[0.1111111111111111,\"#46039f\"],[0.2222222222222222,\"#7201a8\"],[0.3333333333333333,\"#9c179e\"],[0.4444444444444444,\"#bd3786\"],[0.5555555555555556,\"#d8576b\"],[0.6666666666666666,\"#ed7953\"],[0.7777777777777778,\"#fb9f3a\"],[0.8888888888888888,\"#fdca26\"],[1.0,\"#f0f921\"]],\"sequentialminus\":[[0.0,\"#0d0887\"],[0.1111111111111111,\"#46039f\"],[0.2222222222222222,\"#7201a8\"],[0.3333333333333333,\"#9c179e\"],[0.4444444444444444,\"#bd3786\"],[0.5555555555555556,\"#d8576b\"],[0.6666666666666666,\"#ed7953\"],[0.7777777777777778,\"#fb9f3a\"],[0.8888888888888888,\"#fdca26\"],[1.0,\"#f0f921\"]]},\"colorway\":[\"#636efa\",\"#EF553B\",\"#00cc96\",\"#ab63fa\",\"#FFA15A\",\"#19d3f3\",\"#FF6692\",\"#B6E880\",\"#FF97FF\",\"#FECB52\"],\"font\":{\"color\":\"#2a3f5f\"},\"geo\":{\"bgcolor\":\"white\",\"lakecolor\":\"white\",\"landcolor\":\"white\",\"showlakes\":true,\"showland\":true,\"subunitcolor\":\"#C8D4E3\"},\"hoverlabel\":{\"align\":\"left\"},\"hovermode\":\"closest\",\"mapbox\":{\"style\":\"light\"},\"paper_bgcolor\":\"white\",\"plot_bgcolor\":\"white\",\"polar\":{\"angularaxis\":{\"gridcolor\":\"#EBF0F8\",\"linecolor\":\"#EBF0F8\",\"ticks\":\"\"},\"bgcolor\":\"white\",\"radialaxis\":{\"gridcolor\":\"#EBF0F8\",\"linecolor\":\"#EBF0F8\",\"ticks\":\"\"}},\"scene\":{\"xaxis\":{\"backgroundcolor\":\"white\",\"gridcolor\":\"#DFE8F3\",\"gridwidth\":2,\"linecolor\":\"#EBF0F8\",\"showbackground\":true,\"ticks\":\"\",\"zerolinecolor\":\"#EBF0F8\"},\"yaxis\":{\"backgroundcolor\":\"white\",\"gridcolor\":\"#DFE8F3\",\"gridwidth\":2,\"linecolor\":\"#EBF0F8\",\"showbackground\":true,\"ticks\":\"\",\"zerolinecolor\":\"#EBF0F8\"},\"zaxis\":{\"backgroundcolor\":\"white\",\"gridcolor\":\"#DFE8F3\",\"gridwidth\":2,\"linecolor\":\"#EBF0F8\",\"showbackground\":true,\"ticks\":\"\",\"zerolinecolor\":\"#EBF0F8\"}},\"shapedefaults\":{\"line\":{\"color\":\"#2a3f5f\"}},\"ternary\":{\"aaxis\":{\"gridcolor\":\"#DFE8F3\",\"linecolor\":\"#A2B1C6\",\"ticks\":\"\"},\"baxis\":{\"gridcolor\":\"#DFE8F3\",\"linecolor\":\"#A2B1C6\",\"ticks\":\"\"},\"bgcolor\":\"white\",\"caxis\":{\"gridcolor\":\"#DFE8F3\",\"linecolor\":\"#A2B1C6\",\"ticks\":\"\"}},\"title\":{\"x\":0.05},\"xaxis\":{\"automargin\":true,\"gridcolor\":\"#EBF0F8\",\"linecolor\":\"#EBF0F8\",\"ticks\":\"\",\"title\":{\"standoff\":15},\"zerolinecolor\":\"#EBF0F8\",\"zerolinewidth\":2},\"yaxis\":{\"automargin\":true,\"gridcolor\":\"#EBF0F8\",\"linecolor\":\"#EBF0F8\",\"ticks\":\"\",\"title\":{\"standoff\":15},\"zerolinecolor\":\"#EBF0F8\",\"zerolinewidth\":2}}},\"xaxis\":{\"anchor\":\"y\",\"domain\":[0.0,1.0],\"title\":{\"text\":\"Year of Release\"}},\"yaxis\":{\"anchor\":\"x\",\"domain\":[0.0,1.0],\"title\":{\"text\":\"Number of Movies\"}},\"legend\":{\"tracegroupgap\":0},\"title\":{\"text\":\"Distribution of Movies Over the Years\",\"x\":0.5},\"barmode\":\"relative\",\"font\":{\"family\":\"Arial\",\"size\":14},\"bargap\":0.1},                        {\"responsive\": true}                    ).then(function(){\n",
              "                            \n",
              "var gd = document.getElementById('b127fff5-8629-47ef-a74a-ea6905e74e09');\n",
              "var x = new MutationObserver(function (mutations, observer) {{\n",
              "        var display = window.getComputedStyle(gd).display;\n",
              "        if (!display || display === 'none') {{\n",
              "            console.log([gd, 'removed!']);\n",
              "            Plotly.purge(gd);\n",
              "            observer.disconnect();\n",
              "        }}\n",
              "}});\n",
              "\n",
              "// Listen for the removal of the full notebook cells\n",
              "var notebookContainer = gd.closest('#notebook-container');\n",
              "if (notebookContainer) {{\n",
              "    x.observe(notebookContainer, {childList: true});\n",
              "}}\n",
              "\n",
              "// Listen for the clearing of the current output cell\n",
              "var outputEl = gd.closest('.output');\n",
              "if (outputEl) {{\n",
              "    x.observe(outputEl, {childList: true});\n",
              "}}\n",
              "\n",
              "                        })                };                            </script>        </div>\n",
              "</body>\n",
              "</html>"
            ]
          },
          "metadata": {}
        }
      ]
    },
    {
      "cell_type": "code",
      "source": [
        "# CALCULATING MIN, MAX, AND AVERAGE MOVIES RELEASED PER YEAR...\n",
        "\n",
        "min_movies = data_sorted.groupby('Year')['Year'].count().min()\n",
        "max_movies = data_sorted.groupby('Year')['Year'].count().max()\n",
        "avg_movies = data_sorted.groupby('Year')['Year'].count().mean()\n",
        "\n",
        "print(f\"Minimum movies released in a year: {min_movies}\")\n",
        "print(f\"Maximum movies released in a year: {max_movies}\")\n",
        "print(f\"Average movies released per year: {avg_movies:.2f}\")\n"
      ],
      "metadata": {
        "colab": {
          "base_uri": "https://localhost:8080/"
        },
        "id": "bs21NamzutTz",
        "outputId": "743e1b02-1575-41a4-9b7b-4d21eed23cff"
      },
      "execution_count": null,
      "outputs": [
        {
          "output_type": "stream",
          "name": "stdout",
          "text": [
            "Minimum movies released in a year: 2\n",
            "Maximum movies released in a year: 423\n",
            "Average movies released per year: 131.64\n"
          ]
        }
      ]
    },
    {
      "cell_type": "code",
      "source": [
        "# CALCULATING AVERAGE RATING BY YEAR FOR TOP GENRES...\n",
        "\n",
        "avg_rating_by_year = data.groupby(['Year', 'Genre'])['Rating'].mean().reset_index()\n",
        "\n",
        "top_genres = data['Genre'].value_counts().head(10).index\n",
        "\n",
        "average_ratings = avg_rating_by_year[avg_rating_by_year['Genre'].isin(top_genres)]\n",
        "\n",
        "fig = px.line(average_ratings, x='Year', y='Rating', color='Genre', title='Average Movie Rating by Year for Top Genres')\n",
        "fig.update_layout(title_text='Average Movie Rating by Year for Top Genres', title_x=0.5, title_y=0.95)\n",
        "fig.update_layout(xaxis_title='Year', yaxis_title='Average Rating', font=dict(family='Arial', size=14), legend_title_text='Genre')\n",
        "fig.show()"
      ],
      "metadata": {
        "colab": {
          "base_uri": "https://localhost:8080/",
          "height": 542
        },
        "id": "u6CDP4-txOXD",
        "outputId": "e69e0a17-c824-438b-f60e-2038846a3062"
      },
      "execution_count": null,
      "outputs": [
        {
          "output_type": "display_data",
          "data": {
            "text/html": [
              "<html>\n",
              "<head><meta charset=\"utf-8\" /></head>\n",
              "<body>\n",
              "    <div>            <script src=\"https://cdnjs.cloudflare.com/ajax/libs/mathjax/2.7.5/MathJax.js?config=TeX-AMS-MML_SVG\"></script><script type=\"text/javascript\">if (window.MathJax && window.MathJax.Hub && window.MathJax.Hub.Config) {window.MathJax.Hub.Config({SVG: {font: \"STIX-Web\"}});}</script>                <script type=\"text/javascript\">window.PlotlyConfig = {MathJaxConfig: 'local'};</script>\n",
              "        <script charset=\"utf-8\" src=\"https://cdn.plot.ly/plotly-2.24.1.min.js\"></script>                <div id=\"5ff5fbe9-308d-4631-a696-65ed93fc9f0c\" class=\"plotly-graph-div\" style=\"height:525px; width:100%;\"></div>            <script type=\"text/javascript\">                                    window.PLOTLYENV=window.PLOTLYENV || {};                                    if (document.getElementById(\"5ff5fbe9-308d-4631-a696-65ed93fc9f0c\")) {                    Plotly.newPlot(                        \"5ff5fbe9-308d-4631-a696-65ed93fc9f0c\",                        [{\"hovertemplate\":\"Genre=Drama\\u003cbr\\u003eYear=%{x}\\u003cbr\\u003eRating=%{y}\\u003cextra\\u003e\\u003c\\u002fextra\\u003e\",\"legendgroup\":\"Drama\",\"line\":{\"color\":\"#636efa\",\"dash\":\"solid\"},\"marker\":{\"symbol\":\"circle\"},\"mode\":\"lines\",\"name\":\"Drama\",\"orientation\":\"v\",\"showlegend\":true,\"x\":[1931,1933,1934,1935,1936,1937,1938,1939,1940,1941,1942,1943,1944,1945,1946,1947,1948,1949,1950,1951,1952,1953,1954,1955,1956,1957,1958,1959,1960,1961,1962,1963,1964,1965,1966,1967,1968,1969,1970,1971,1972,1973,1974,1975,1976,1977,1978,1979,1980,1981,1982,1983,1984,1985,1986,1987,1988,1989,1990,1991,1992,1993,1994,1995,1996,1997,1998,1999,2000,2001,2002,2003,2004,2005,2006,2007,2008,2009,2010,2011,2012,2013,2014,2015,2016,2017,2018,2019,2020,2021],\"xaxis\":\"x\",\"y\":[5.75,6.2,8.5,6.633333333333333,6.3500000000000005,6.525,6.05,6.4,6.859999999999999,6.475,6.783333333333334,7.257142857142857,7.033333333333334,6.466666666666666,6.933333333333334,6.85,6.8875,6.99,6.806666666666667,6.618181818181818,7.408333333333334,7.161538461538461,6.493333333333334,6.823529411764706,6.592307692307693,7.131818181818182,6.42,6.746666666666667,6.921052631578948,6.8,6.515789473684211,6.504545454545454,6.72,6.75,6.653571428571429,6.64375,6.513333333333334,6.4,6.861764705882353,6.685714285714286,6.373809523809523,6.511428571428572,6.732558139534884,6.625,6.3625,6.462790697674418,6.561111111111111,6.371794871794871,6.43,6.5,6.51,6.519148936170212,6.191304347826088,6.290909090909091,6.005357142857143,5.854054054054054,6.032,5.874193548387097,5.524528301886793,5.5653061224489795,5.657692307692307,5.46271186440678,5.346296296296296,5.343181818181818,5.5260869565217385,5.679245283018868,5.789795918367346,5.540816326530612,5.484615384615385,5.58,5.415254237288136,5.354166666666667,5.311764705882353,5.729126213592234,5.495945945945945,5.7552941176470584,5.478571428571429,5.583529411764706,5.527722772277227,5.642708333333334,6.150769230769231,5.965137614678899,5.940217391304348,5.922641509433962,6.214423076923077,6.142276422764228,6.440625,6.447260273972603,6.392941176470588,6.797435897435898],\"yaxis\":\"y\",\"type\":\"scatter\"},{\"hovertemplate\":\"Genre=Musical\\u003cbr\\u003eYear=%{x}\\u003cbr\\u003eRating=%{y}\\u003cextra\\u003e\\u003c\\u002fextra\\u003e\",\"legendgroup\":\"Musical\",\"line\":{\"color\":\"#EF553B\",\"dash\":\"solid\"},\"marker\":{\"symbol\":\"circle\"},\"mode\":\"lines\",\"name\":\"Musical\",\"orientation\":\"v\",\"showlegend\":true,\"x\":[1932,1936,1942,1943,1944,1946,1947,1948,1949,1950,1951,1952,1953,1954,1955,1956,1957,1958,1959,1960,1961,1962,1963,1964,1965,1966,1967,1968,1969,1970,1971,1972,1973,1974,1975,1977,1978,1979,1980,1981,1982,1983,1984,1985,1986,1987,1988,1989,1990,1991,1992,1993,1994,1995,1996,1997,1998,1999,2000,2001,2002,2003,2004,2005,2006,2007,2008,2009,2010,2011,2012,2013,2014,2015,2016,2017,2018,2019,2020,2021],\"xaxis\":\"x\",\"y\":[6.0,6.5,6.8,7.5,7.2,7.3,7.7,6.833333333333333,7.133333333333333,7.2,7.45,7.4,7.233333333333333,6.6499999999999995,7.1000000000000005,7.26,7.6,7.0625,6.942857142857143,7.125,7.116666666666667,7.1,6.459999999999999,7.31,6.844444444444445,6.8,6.725,6.8999999999999995,6.88,6.628571428571428,6.959999999999999,7.24,7.116666666666667,6.671428571428572,6.949999999999999,6.925,6.800000000000001,7.140000000000001,6.56,6.883333333333333,6.933333333333334,5.966666666666666,6.8,6.9399999999999995,7.3,6.475,7.8,6.4,6.95,6.257142857142858,5.566666666666666,5.633333333333333,6.675,5.375,6.0,5.7272727272727275,5.466666666666666,5.971428571428571,5.390909090909091,5.672727272727273,5.3133333333333335,4.7444444444444445,4.892307692307693,5.266666666666667,5.285714285714286,4.516666666666667,2.966666666666667,5.271428571428571,5.8,5.75,5.483333333333333,5.866666666666667,5.3500000000000005,3.966666666666667,6.0,4.55,2.8,5.4,5.966666666666666,4.1000000000000005],\"yaxis\":\"y\",\"type\":\"scatter\"},{\"hovertemplate\":\"Genre=Romance\\u003cbr\\u003eYear=%{x}\\u003cbr\\u003eRating=%{y}\\u003cextra\\u003e\\u003c\\u002fextra\\u003e\",\"legendgroup\":\"Romance\",\"line\":{\"color\":\"#00cc96\",\"dash\":\"solid\"},\"marker\":{\"symbol\":\"circle\"},\"mode\":\"lines\",\"name\":\"Romance\",\"orientation\":\"v\",\"showlegend\":true,\"x\":[1932,1933,1936,1937,1938,1939,1943,1944,1946,1947,1948,1949,1950,1951,1952,1953,1954,1955,1956,1957,1958,1959,1960,1961,1962,1963,1964,1965,1966,1967,1968,1969,1970,1971,1972,1973,1974,1975,1976,1977,1978,1979,1980,1981,1982,1983,1984,1985,1986,1987,1988,1989,1990,1991,1992,1993,1994,1995,1996,1997,1998,1999,2000,2001,2002,2003,2004,2005,2006,2007,2008,2009,2010,2011,2012,2013,2014,2015,2016,2017,2018,2019,2020,2021],\"xaxis\":\"x\",\"y\":[6.0,6.2,6.35,5.9,5.2,6.4,7.5,7.166666666666667,7.1,6.433333333333334,7.140000000000001,7.0,7.0,6.959999999999999,7.3500000000000005,7.2,6.475,7.3,6.314285714285715,7.141666666666667,6.8,6.7555555555555555,6.875,6.5375,6.833333333333333,6.607692307692308,6.708333333333333,6.95625,6.590000000000001,6.728571428571429,6.58125,6.463157894736842,6.8625,6.7266666666666675,6.363636363636363,6.7,6.689473684210526,6.96,6.382352941176471,6.7299999999999995,6.718181818181819,6.792857142857143,6.566666666666666,6.609999999999999,6.5600000000000005,6.473333333333333,6.0636363636363635,6.214285714285714,6.33,6.266666666666667,5.483333333333333,6.375,5.872727272727272,5.604347826086957,5.55,5.044827586206897,5.133333333333334,4.761111111111111,5.671428571428571,5.08125,5.604761904761905,5.171428571428572,5.104347826086957,5.492592592592593,4.990625,5.487096774193549,4.685185185185185,4.705882352941177,5.075675675675676,5.163333333333333,5.174074074074074,5.247058823529412,5.203703703703703,5.504761904761905,5.1499999999999995,5.561764705882353,5.340476190476191,5.453488372093023,4.703448275862069,5.490322580645161,5.7696969696969695,6.178787878787879,5.791666666666667,6.336363636363637],\"yaxis\":\"y\",\"type\":\"scatter\"},{\"hovertemplate\":\"Genre=Adventure\\u003cbr\\u003eYear=%{x}\\u003cbr\\u003eRating=%{y}\\u003cextra\\u003e\\u003c\\u002fextra\\u003e\",\"legendgroup\":\"Adventure\",\"line\":{\"color\":\"#ab63fa\",\"dash\":\"solid\"},\"marker\":{\"symbol\":\"circle\"},\"mode\":\"lines\",\"name\":\"Adventure\",\"orientation\":\"v\",\"showlegend\":true,\"x\":[1934,1935,1936,1937,1938,1939,1940,1942,1952,1953,1954,1955,1956,1957,1958,1959,1960,1961,1962,1963,1964,1965,1966,1967,1968,1969,1971,1972,1975,1976,1977,1978,1979,1980,1981,1982,1983,1984,1985,1986,1987,1988,1989,1991,1992,1993,1994,1996,1997,1998,2000,2001,2002,2003,2004,2005,2006,2007,2008,2009,2010,2011,2012,2013,2014,2015,2016,2017,2018,2019,2020,2021],\"xaxis\":\"x\",\"y\":[2.7,4.3,3.1,3.4,6.4,6.6,6.1,6.6,6.6000000000000005,7.3,6.266666666666667,6.0,6.025,6.866666666666667,5.475,6.2,6.449999999999999,7.4,6.9,6.12,5.783333333333334,6.56,5.82,5.8,5.800000000000001,6.5,6.8999999999999995,6.65,6.5,6.7,6.28,6.075,6.685714285714285,6.65,6.459999999999999,5.8,7.8,6.95,5.4,6.659999999999999,5.1,6.133333333333333,2.9,6.066666666666666,5.55,7.050000000000001,7.8,6.0,5.95,5.466666666666666,5.12,6.7,5.466666666666666,4.95,3.4,5.333333333333333,6.014285714285714,5.3999999999999995,3.7399999999999998,4.6,4.942857142857143,3.9,6.0875,6.4375,5.6,6.1499999999999995,6.218181818181819,5.763636363636364,6.65,5.791666666666667,6.550000000000001,6.5],\"yaxis\":\"y\",\"type\":\"scatter\"},{\"hovertemplate\":\"Genre=Action\\u003cbr\\u003eYear=%{x}\\u003cbr\\u003eRating=%{y}\\u003cextra\\u003e\\u003c\\u002fextra\\u003e\",\"legendgroup\":\"Action\",\"line\":{\"color\":\"#FFA15A\",\"dash\":\"solid\"},\"marker\":{\"symbol\":\"circle\"},\"mode\":\"lines\",\"name\":\"Action\",\"orientation\":\"v\",\"showlegend\":true,\"x\":[1935,1939,1940,1951,1952,1953,1954,1955,1956,1957,1958,1959,1960,1961,1962,1963,1964,1965,1966,1967,1968,1969,1970,1971,1972,1973,1974,1975,1976,1977,1978,1979,1980,1981,1982,1983,1984,1985,1986,1987,1988,1989,1990,1991,1992,1993,1994,1995,1996,1997,1998,1999,2000,2001,2002,2003,2004,2005,2006,2007,2008,2009,2010,2011,2012,2013,2014,2015,2016,2017,2018,2019,2020,2021],\"xaxis\":\"x\",\"y\":[4.5,6.6,6.1,6.550000000000001,6.95,5.949999999999999,6.15,6.3,6.2,6.8,6.033333333333334,6.225,6.640000000000001,6.25,5.666666666666667,6.14,5.7,6.257142857142857,6.3125,6.016666666666667,6.2,6.32,6.207692307692308,6.214285714285714,5.864705882352942,6.22,6.369230769230769,6.371428571428572,6.076470588235294,5.823076923076924,6.2625,6.078947368421052,6.4639999999999995,6.1499999999999995,6.132000000000001,5.961904761904762,5.746666666666667,5.7,5.862962962962963,5.5636363636363635,5.474285714285714,5.521739130434782,5.386842105263158,5.1775,5.478378378378378,5.3,5.071428571428571,5.174418604651163,5.175675675675675,5.160526315789474,5.062162162162163,5.2924999999999995,4.9184210526315795,5.387096774193548,5.220512820512821,4.833333333333333,5.174418604651163,5.447826086956522,4.8,5.23,4.9678571428571425,4.934210526315789,5.277777777777778,5.290909090909091,5.4423076923076925,5.288095238095238,5.152777777777778,5.697297297297298,5.6421052631578945,5.935135135135135,5.814705882352941,5.764705882352941,5.896,5.9125],\"yaxis\":\"y\",\"type\":\"scatter\"},{\"hovertemplate\":\"Genre=Family\\u003cbr\\u003eYear=%{x}\\u003cbr\\u003eRating=%{y}\\u003cextra\\u003e\\u003c\\u002fextra\\u003e\",\"legendgroup\":\"Family\",\"line\":{\"color\":\"#19d3f3\",\"dash\":\"solid\"},\"marker\":{\"symbol\":\"circle\"},\"mode\":\"lines\",\"name\":\"Family\",\"orientation\":\"v\",\"showlegend\":true,\"x\":[1937,1942,1943,1948,1949,1950,1951,1953,1954,1955,1957,1958,1959,1960,1961,1962,1963,1964,1965,1966,1967,1968,1969,1970,1971,1972,1973,1974,1975,1976,1977,1978,1979,1980,1981,1982,1983,1984,1985,1986,1987,1988,1989,1990,1991,1992,1993,1994,1995,1996,1997,1998,1999,2000,2001,2002,2003,2004,2005,2006,2007,2008,2009,2010,2011,2012,2013,2014,2015,2016,2017,2018,2019,2020,2021],\"xaxis\":\"x\",\"y\":[5.9,6.2,7.2,6.6,6.833333333333333,6.85,7.0,7.05,6.575,7.25,7.279999999999999,6.5,6.5,6.6,6.6000000000000005,6.58,6.6,6.875,6.575,6.6000000000000005,6.416666666666667,6.466666666666666,6.228571428571429,6.45,6.62,6.575,6.271428571428571,6.833333333333333,6.333333333333333,6.42,6.8,6.855555555555556,6.172727272727273,6.216666666666666,6.872727272727272,6.369230769230769,6.38,5.977777777777778,6.216666666666666,6.720000000000001,5.8,5.333333333333333,6.01,4.5,4.1,5.833333333333333,5.8,5.949999999999999,3.8499999999999996,5.5,6.666666666666667,4.7,6.2,6.416666666666667,5.1499999999999995,6.34,5.2,5.633333333333333,5.985714285714286,5.65,6.540000000000001,5.071428571428571,6.0,6.144444444444444,6.214285714285714,6.181818181818182,6.6499999999999995,5.416666666666667,5.788888888888889,6.775,6.355555555555556,6.277777777777778,7.6000000000000005,7.6000000000000005,7.375],\"yaxis\":\"y\",\"type\":\"scatter\"},{\"hovertemplate\":\"Genre=Mystery\\u003cbr\\u003eYear=%{x}\\u003cbr\\u003eRating=%{y}\\u003cextra\\u003e\\u003c\\u002fextra\\u003e\",\"legendgroup\":\"Mystery\",\"line\":{\"color\":\"#FF6692\",\"dash\":\"solid\"},\"marker\":{\"symbol\":\"circle\"},\"mode\":\"lines\",\"name\":\"Mystery\",\"orientation\":\"v\",\"showlegend\":true,\"x\":[1941,1943,1949,1950,1952,1957,1958,1959,1960,1962,1963,1964,1965,1966,1967,1968,1969,1970,1971,1973,1974,1975,1977,1978,1979,1980,1981,1982,1984,1985,1986,1987,1988,1989,1991,1992,1993,1994,1996,1997,1998,1999,2000,2001,2002,2003,2004,2005,2006,2007,2008,2009,2010,2011,2012,2013,2014,2015,2016,2017,2018,2019,2020,2021],\"xaxis\":\"x\",\"y\":[7.0,3.3,7.1,7.1,7.3,6.5,7.0,6.75,6.95,6.949999999999999,5.7,7.3,6.566666666666666,6.525,6.8500000000000005,6.95,6.825,6.5,6.933333333333334,6.566666666666666,6.666666666666667,6.24,6.5,6.4,6.05,6.125,6.24,7.3,4.8,5.2,7.15,5.1,6.0,6.125,4.0,7.2,5.025,4.4,5.0,5.75,3.75,7.8,5.033333333333333,5.833333333333333,5.449999999999999,4.675,4.866666666666666,5.3533333333333335,5.266666666666667,6.233333333333333,5.61,5.576923076923077,5.4,5.328571428571428,6.05,4.6571428571428575,5.285714285714286,5.883333333333333,5.691666666666666,5.661538461538461,5.572727272727272,6.923076923076923,6.13,5.5],\"yaxis\":\"y\",\"type\":\"scatter\"},{\"hovertemplate\":\"Genre=Comedy\\u003cbr\\u003eYear=%{x}\\u003cbr\\u003eRating=%{y}\\u003cextra\\u003e\\u003c\\u002fextra\\u003e\",\"legendgroup\":\"Comedy\",\"line\":{\"color\":\"#B6E880\",\"dash\":\"solid\"},\"marker\":{\"symbol\":\"circle\"},\"mode\":\"lines\",\"name\":\"Comedy\",\"orientation\":\"v\",\"showlegend\":true,\"x\":[1943,1946,1947,1949,1950,1951,1952,1953,1954,1955,1956,1957,1958,1959,1960,1961,1962,1963,1964,1965,1966,1967,1968,1969,1970,1971,1972,1973,1974,1975,1976,1977,1978,1979,1980,1981,1982,1983,1984,1985,1986,1987,1988,1989,1990,1991,1992,1993,1994,1995,1996,1997,1998,1999,2000,2001,2002,2003,2004,2005,2006,2007,2008,2009,2010,2011,2012,2013,2014,2015,2016,2017,2018,2019,2020,2021],\"xaxis\":\"x\",\"y\":[6.9,6.5,7.4,6.4,7.1,6.65,7.4,6.7,6.966666666666666,7.109999999999999,6.655555555555555,7.0,7.5,7.45,6.725,6.866666666666666,6.466666666666667,6.8428571428571425,6.6499999999999995,6.1,6.945454545454546,6.5,6.216666666666666,6.2555555555555555,6.7555555555555555,6.62,6.3428571428571425,6.275,6.583333333333333,6.57,6.871428571428572,6.4750000000000005,6.636363636363637,6.55,6.85,6.681818181818182,6.608333333333333,6.43125,6.442857142857143,6.180000000000001,6.3,6.0,6.228571428571429,5.733333333333333,5.87,5.64,6.066666666666666,5.625,5.8100000000000005,5.571428571428571,5.79375,5.705555555555556,5.7700000000000005,5.17,4.86875,5.389473684210526,4.984210526315789,5.425,4.95,5.411111111111111,5.55,5.5525,5.154761904761905,5.397872340425532,5.627999999999999,5.282456140350877,5.440384615384615,5.334782608695653,5.4,5.411666666666666,5.191666666666666,5.7784313725490195,5.694642857142857,5.901724137931034,5.756410256410256,6.300000000000001],\"yaxis\":\"y\",\"type\":\"scatter\"},{\"hovertemplate\":\"Genre=Crime\\u003cbr\\u003eYear=%{x}\\u003cbr\\u003eRating=%{y}\\u003cextra\\u003e\\u003c\\u002fextra\\u003e\",\"legendgroup\":\"Crime\",\"line\":{\"color\":\"#FF97FF\",\"dash\":\"solid\"},\"marker\":{\"symbol\":\"circle\"},\"mode\":\"lines\",\"name\":\"Crime\",\"orientation\":\"v\",\"showlegend\":true,\"x\":[1949,1950,1951,1952,1953,1954,1955,1956,1957,1958,1959,1960,1961,1962,1963,1965,1966,1967,1968,1969,1970,1971,1972,1973,1974,1975,1976,1977,1978,1979,1980,1981,1982,1983,1984,1985,1986,1987,1988,1989,1990,1991,1992,1993,1994,1995,1996,1997,1998,1999,2000,2001,2002,2003,2004,2005,2006,2007,2008,2009,2010,2011,2012,2013,2014,2015,2016,2017,2018,2019,2020,2021],\"xaxis\":\"x\",\"y\":[7.45,7.1,7.3,7.2,7.55,6.2,6.58,6.466666666666666,7.05,6.833333333333333,6.949999999999999,7.220000000000001,6.3999999999999995,5.7,6.666666666666667,6.35,6.5,6.614285714285714,6.36,6.55,5.86,6.333333333333333,5.983333333333333,6.0,6.325,6.1625,6.2727272727272725,6.185714285714285,6.016666666666667,6.575,6.55,6.345454545454545,6.1571428571428575,6.771428571428571,5.728571428571429,5.884615384615385,6.5,5.840000000000001,6.109090909090909,5.496428571428572,5.329411764705882,4.83,5.738461538461538,5.75,4.891666666666667,5.3,5.288888888888889,5.8428571428571425,5.869230769230769,5.864285714285714,5.036842105263158,5.0,5.564285714285715,5.883333333333333,5.652380952380953,5.738095238095238,5.165217391304347,5.125925925925926,5.590625,5.482352941176471,5.614705882352942,5.534285714285714,5.577272727272727,5.403703703703704,6.025925925925925,6.3999999999999995,6.179166666666667,6.115,5.89375,6.382608695652174,6.665217391304348,5.62],\"yaxis\":\"y\",\"type\":\"scatter\"},{\"hovertemplate\":\"Genre=Thriller\\u003cbr\\u003eYear=%{x}\\u003cbr\\u003eRating=%{y}\\u003cextra\\u003e\\u003c\\u002fextra\\u003e\",\"legendgroup\":\"Thriller\",\"line\":{\"color\":\"#FECB52\",\"dash\":\"solid\"},\"marker\":{\"symbol\":\"circle\"},\"mode\":\"lines\",\"name\":\"Thriller\",\"orientation\":\"v\",\"showlegend\":true,\"x\":[1952,1954,1957,1958,1959,1960,1962,1964,1965,1966,1967,1968,1969,1970,1971,1972,1973,1974,1975,1976,1977,1978,1979,1980,1981,1982,1983,1984,1985,1986,1987,1988,1989,1990,1991,1992,1993,1994,1995,1996,1997,1998,1999,2000,2001,2002,2003,2004,2005,2006,2007,2008,2009,2010,2011,2012,2013,2014,2015,2016,2017,2018,2019,2020,2021],\"xaxis\":\"x\",\"y\":[7.2,6.6,6.8,6.233333333333333,6.7,6.4,6.949999999999999,6.566666666666666,6.825,6.0,6.733333333333333,6.725,6.5,6.675,6.466666666666666,6.5,6.155555555555555,6.6,6.1125,6.35,5.733333333333333,6.8,6.433333333333334,6.1125,6.366666666666666,5.900000000000001,4.5,5.75,6.1499999999999995,6.655555555555555,5.6000000000000005,5.35,6.0,5.55,5.644444444444444,5.885714285714286,5.022222222222222,5.91,5.76,4.59,4.95,4.6,5.6000000000000005,5.357142857142857,5.9,5.14,4.91875,4.973684210526316,4.6230769230769235,5.183333333333334,4.3,5.608333333333333,6.0249999999999995,5.23125,5.715,5.052380952380952,5.4,5.446428571428571,5.794444444444444,6.1625,6.0,5.515625,5.697058823529411,5.444,5.3545454545454545],\"yaxis\":\"y\",\"type\":\"scatter\"}],                        {\"template\":{\"data\":{\"histogram2dcontour\":[{\"type\":\"histogram2dcontour\",\"colorbar\":{\"outlinewidth\":0,\"ticks\":\"\"},\"colorscale\":[[0.0,\"#0d0887\"],[0.1111111111111111,\"#46039f\"],[0.2222222222222222,\"#7201a8\"],[0.3333333333333333,\"#9c179e\"],[0.4444444444444444,\"#bd3786\"],[0.5555555555555556,\"#d8576b\"],[0.6666666666666666,\"#ed7953\"],[0.7777777777777778,\"#fb9f3a\"],[0.8888888888888888,\"#fdca26\"],[1.0,\"#f0f921\"]]}],\"choropleth\":[{\"type\":\"choropleth\",\"colorbar\":{\"outlinewidth\":0,\"ticks\":\"\"}}],\"histogram2d\":[{\"type\":\"histogram2d\",\"colorbar\":{\"outlinewidth\":0,\"ticks\":\"\"},\"colorscale\":[[0.0,\"#0d0887\"],[0.1111111111111111,\"#46039f\"],[0.2222222222222222,\"#7201a8\"],[0.3333333333333333,\"#9c179e\"],[0.4444444444444444,\"#bd3786\"],[0.5555555555555556,\"#d8576b\"],[0.6666666666666666,\"#ed7953\"],[0.7777777777777778,\"#fb9f3a\"],[0.8888888888888888,\"#fdca26\"],[1.0,\"#f0f921\"]]}],\"heatmap\":[{\"type\":\"heatmap\",\"colorbar\":{\"outlinewidth\":0,\"ticks\":\"\"},\"colorscale\":[[0.0,\"#0d0887\"],[0.1111111111111111,\"#46039f\"],[0.2222222222222222,\"#7201a8\"],[0.3333333333333333,\"#9c179e\"],[0.4444444444444444,\"#bd3786\"],[0.5555555555555556,\"#d8576b\"],[0.6666666666666666,\"#ed7953\"],[0.7777777777777778,\"#fb9f3a\"],[0.8888888888888888,\"#fdca26\"],[1.0,\"#f0f921\"]]}],\"heatmapgl\":[{\"type\":\"heatmapgl\",\"colorbar\":{\"outlinewidth\":0,\"ticks\":\"\"},\"colorscale\":[[0.0,\"#0d0887\"],[0.1111111111111111,\"#46039f\"],[0.2222222222222222,\"#7201a8\"],[0.3333333333333333,\"#9c179e\"],[0.4444444444444444,\"#bd3786\"],[0.5555555555555556,\"#d8576b\"],[0.6666666666666666,\"#ed7953\"],[0.7777777777777778,\"#fb9f3a\"],[0.8888888888888888,\"#fdca26\"],[1.0,\"#f0f921\"]]}],\"contourcarpet\":[{\"type\":\"contourcarpet\",\"colorbar\":{\"outlinewidth\":0,\"ticks\":\"\"}}],\"contour\":[{\"type\":\"contour\",\"colorbar\":{\"outlinewidth\":0,\"ticks\":\"\"},\"colorscale\":[[0.0,\"#0d0887\"],[0.1111111111111111,\"#46039f\"],[0.2222222222222222,\"#7201a8\"],[0.3333333333333333,\"#9c179e\"],[0.4444444444444444,\"#bd3786\"],[0.5555555555555556,\"#d8576b\"],[0.6666666666666666,\"#ed7953\"],[0.7777777777777778,\"#fb9f3a\"],[0.8888888888888888,\"#fdca26\"],[1.0,\"#f0f921\"]]}],\"surface\":[{\"type\":\"surface\",\"colorbar\":{\"outlinewidth\":0,\"ticks\":\"\"},\"colorscale\":[[0.0,\"#0d0887\"],[0.1111111111111111,\"#46039f\"],[0.2222222222222222,\"#7201a8\"],[0.3333333333333333,\"#9c179e\"],[0.4444444444444444,\"#bd3786\"],[0.5555555555555556,\"#d8576b\"],[0.6666666666666666,\"#ed7953\"],[0.7777777777777778,\"#fb9f3a\"],[0.8888888888888888,\"#fdca26\"],[1.0,\"#f0f921\"]]}],\"mesh3d\":[{\"type\":\"mesh3d\",\"colorbar\":{\"outlinewidth\":0,\"ticks\":\"\"}}],\"scatter\":[{\"fillpattern\":{\"fillmode\":\"overlay\",\"size\":10,\"solidity\":0.2},\"type\":\"scatter\"}],\"parcoords\":[{\"type\":\"parcoords\",\"line\":{\"colorbar\":{\"outlinewidth\":0,\"ticks\":\"\"}}}],\"scatterpolargl\":[{\"type\":\"scatterpolargl\",\"marker\":{\"colorbar\":{\"outlinewidth\":0,\"ticks\":\"\"}}}],\"bar\":[{\"error_x\":{\"color\":\"#2a3f5f\"},\"error_y\":{\"color\":\"#2a3f5f\"},\"marker\":{\"line\":{\"color\":\"#E5ECF6\",\"width\":0.5},\"pattern\":{\"fillmode\":\"overlay\",\"size\":10,\"solidity\":0.2}},\"type\":\"bar\"}],\"scattergeo\":[{\"type\":\"scattergeo\",\"marker\":{\"colorbar\":{\"outlinewidth\":0,\"ticks\":\"\"}}}],\"scatterpolar\":[{\"type\":\"scatterpolar\",\"marker\":{\"colorbar\":{\"outlinewidth\":0,\"ticks\":\"\"}}}],\"histogram\":[{\"marker\":{\"pattern\":{\"fillmode\":\"overlay\",\"size\":10,\"solidity\":0.2}},\"type\":\"histogram\"}],\"scattergl\":[{\"type\":\"scattergl\",\"marker\":{\"colorbar\":{\"outlinewidth\":0,\"ticks\":\"\"}}}],\"scatter3d\":[{\"type\":\"scatter3d\",\"line\":{\"colorbar\":{\"outlinewidth\":0,\"ticks\":\"\"}},\"marker\":{\"colorbar\":{\"outlinewidth\":0,\"ticks\":\"\"}}}],\"scattermapbox\":[{\"type\":\"scattermapbox\",\"marker\":{\"colorbar\":{\"outlinewidth\":0,\"ticks\":\"\"}}}],\"scatterternary\":[{\"type\":\"scatterternary\",\"marker\":{\"colorbar\":{\"outlinewidth\":0,\"ticks\":\"\"}}}],\"scattercarpet\":[{\"type\":\"scattercarpet\",\"marker\":{\"colorbar\":{\"outlinewidth\":0,\"ticks\":\"\"}}}],\"carpet\":[{\"aaxis\":{\"endlinecolor\":\"#2a3f5f\",\"gridcolor\":\"white\",\"linecolor\":\"white\",\"minorgridcolor\":\"white\",\"startlinecolor\":\"#2a3f5f\"},\"baxis\":{\"endlinecolor\":\"#2a3f5f\",\"gridcolor\":\"white\",\"linecolor\":\"white\",\"minorgridcolor\":\"white\",\"startlinecolor\":\"#2a3f5f\"},\"type\":\"carpet\"}],\"table\":[{\"cells\":{\"fill\":{\"color\":\"#EBF0F8\"},\"line\":{\"color\":\"white\"}},\"header\":{\"fill\":{\"color\":\"#C8D4E3\"},\"line\":{\"color\":\"white\"}},\"type\":\"table\"}],\"barpolar\":[{\"marker\":{\"line\":{\"color\":\"#E5ECF6\",\"width\":0.5},\"pattern\":{\"fillmode\":\"overlay\",\"size\":10,\"solidity\":0.2}},\"type\":\"barpolar\"}],\"pie\":[{\"automargin\":true,\"type\":\"pie\"}]},\"layout\":{\"autotypenumbers\":\"strict\",\"colorway\":[\"#636efa\",\"#EF553B\",\"#00cc96\",\"#ab63fa\",\"#FFA15A\",\"#19d3f3\",\"#FF6692\",\"#B6E880\",\"#FF97FF\",\"#FECB52\"],\"font\":{\"color\":\"#2a3f5f\"},\"hovermode\":\"closest\",\"hoverlabel\":{\"align\":\"left\"},\"paper_bgcolor\":\"white\",\"plot_bgcolor\":\"#E5ECF6\",\"polar\":{\"bgcolor\":\"#E5ECF6\",\"angularaxis\":{\"gridcolor\":\"white\",\"linecolor\":\"white\",\"ticks\":\"\"},\"radialaxis\":{\"gridcolor\":\"white\",\"linecolor\":\"white\",\"ticks\":\"\"}},\"ternary\":{\"bgcolor\":\"#E5ECF6\",\"aaxis\":{\"gridcolor\":\"white\",\"linecolor\":\"white\",\"ticks\":\"\"},\"baxis\":{\"gridcolor\":\"white\",\"linecolor\":\"white\",\"ticks\":\"\"},\"caxis\":{\"gridcolor\":\"white\",\"linecolor\":\"white\",\"ticks\":\"\"}},\"coloraxis\":{\"colorbar\":{\"outlinewidth\":0,\"ticks\":\"\"}},\"colorscale\":{\"sequential\":[[0.0,\"#0d0887\"],[0.1111111111111111,\"#46039f\"],[0.2222222222222222,\"#7201a8\"],[0.3333333333333333,\"#9c179e\"],[0.4444444444444444,\"#bd3786\"],[0.5555555555555556,\"#d8576b\"],[0.6666666666666666,\"#ed7953\"],[0.7777777777777778,\"#fb9f3a\"],[0.8888888888888888,\"#fdca26\"],[1.0,\"#f0f921\"]],\"sequentialminus\":[[0.0,\"#0d0887\"],[0.1111111111111111,\"#46039f\"],[0.2222222222222222,\"#7201a8\"],[0.3333333333333333,\"#9c179e\"],[0.4444444444444444,\"#bd3786\"],[0.5555555555555556,\"#d8576b\"],[0.6666666666666666,\"#ed7953\"],[0.7777777777777778,\"#fb9f3a\"],[0.8888888888888888,\"#fdca26\"],[1.0,\"#f0f921\"]],\"diverging\":[[0,\"#8e0152\"],[0.1,\"#c51b7d\"],[0.2,\"#de77ae\"],[0.3,\"#f1b6da\"],[0.4,\"#fde0ef\"],[0.5,\"#f7f7f7\"],[0.6,\"#e6f5d0\"],[0.7,\"#b8e186\"],[0.8,\"#7fbc41\"],[0.9,\"#4d9221\"],[1,\"#276419\"]]},\"xaxis\":{\"gridcolor\":\"white\",\"linecolor\":\"white\",\"ticks\":\"\",\"title\":{\"standoff\":15},\"zerolinecolor\":\"white\",\"automargin\":true,\"zerolinewidth\":2},\"yaxis\":{\"gridcolor\":\"white\",\"linecolor\":\"white\",\"ticks\":\"\",\"title\":{\"standoff\":15},\"zerolinecolor\":\"white\",\"automargin\":true,\"zerolinewidth\":2},\"scene\":{\"xaxis\":{\"backgroundcolor\":\"#E5ECF6\",\"gridcolor\":\"white\",\"linecolor\":\"white\",\"showbackground\":true,\"ticks\":\"\",\"zerolinecolor\":\"white\",\"gridwidth\":2},\"yaxis\":{\"backgroundcolor\":\"#E5ECF6\",\"gridcolor\":\"white\",\"linecolor\":\"white\",\"showbackground\":true,\"ticks\":\"\",\"zerolinecolor\":\"white\",\"gridwidth\":2},\"zaxis\":{\"backgroundcolor\":\"#E5ECF6\",\"gridcolor\":\"white\",\"linecolor\":\"white\",\"showbackground\":true,\"ticks\":\"\",\"zerolinecolor\":\"white\",\"gridwidth\":2}},\"shapedefaults\":{\"line\":{\"color\":\"#2a3f5f\"}},\"annotationdefaults\":{\"arrowcolor\":\"#2a3f5f\",\"arrowhead\":0,\"arrowwidth\":1},\"geo\":{\"bgcolor\":\"white\",\"landcolor\":\"#E5ECF6\",\"subunitcolor\":\"white\",\"showland\":true,\"showlakes\":true,\"lakecolor\":\"white\"},\"title\":{\"x\":0.05},\"mapbox\":{\"style\":\"light\"}}},\"xaxis\":{\"anchor\":\"y\",\"domain\":[0.0,1.0],\"title\":{\"text\":\"Year\"}},\"yaxis\":{\"anchor\":\"x\",\"domain\":[0.0,1.0],\"title\":{\"text\":\"Average Rating\"}},\"legend\":{\"title\":{\"text\":\"Genre\"},\"tracegroupgap\":0},\"title\":{\"text\":\"Average Movie Rating by Year for Top Genres\",\"x\":0.5,\"y\":0.95},\"font\":{\"family\":\"Arial\",\"size\":14}},                        {\"responsive\": true}                    ).then(function(){\n",
              "                            \n",
              "var gd = document.getElementById('5ff5fbe9-308d-4631-a696-65ed93fc9f0c');\n",
              "var x = new MutationObserver(function (mutations, observer) {{\n",
              "        var display = window.getComputedStyle(gd).display;\n",
              "        if (!display || display === 'none') {{\n",
              "            console.log([gd, 'removed!']);\n",
              "            Plotly.purge(gd);\n",
              "            observer.disconnect();\n",
              "        }}\n",
              "}});\n",
              "\n",
              "// Listen for the removal of the full notebook cells\n",
              "var notebookContainer = gd.closest('#notebook-container');\n",
              "if (notebookContainer) {{\n",
              "    x.observe(notebookContainer, {childList: true});\n",
              "}}\n",
              "\n",
              "// Listen for the clearing of the current output cell\n",
              "var outputEl = gd.closest('.output');\n",
              "if (outputEl) {{\n",
              "    x.observe(outputEl, {childList: true});\n",
              "}}\n",
              "\n",
              "                        })                };                            </script>        </div>\n",
              "</body>\n",
              "</html>"
            ]
          },
          "metadata": {}
        }
      ]
    },
    {
      "cell_type": "code",
      "source": [
        "# SHOWING THE DISTRIBUTION OF RATINGS AND ITS PROBABILITY DENSITY USING HISTOGRAM...\n",
        "\n",
        "fig = px.histogram(data, x='Rating', histnorm='probability density', title='Distribution of Movie Ratings', nbins=20, labels={'Rating': 'Movie Rating'}, template='plotly_white')\n",
        "\n",
        "fig.update_layout(title_x=0.5)\n",
        "fig.update_layout(xaxis_title='Movie Rating', yaxis_title='Probability Density', font=dict(family='Arial', size=14), bargap=0.1)\n",
        "\n",
        "fig.show()\n"
      ],
      "metadata": {
        "colab": {
          "base_uri": "https://localhost:8080/",
          "height": 542
        },
        "id": "V-gt3HArzy1y",
        "outputId": "4c0a15d8-38aa-48f5-84ff-01806391af2e"
      },
      "execution_count": null,
      "outputs": [
        {
          "output_type": "display_data",
          "data": {
            "text/html": [
              "<html>\n",
              "<head><meta charset=\"utf-8\" /></head>\n",
              "<body>\n",
              "    <div>            <script src=\"https://cdnjs.cloudflare.com/ajax/libs/mathjax/2.7.5/MathJax.js?config=TeX-AMS-MML_SVG\"></script><script type=\"text/javascript\">if (window.MathJax && window.MathJax.Hub && window.MathJax.Hub.Config) {window.MathJax.Hub.Config({SVG: {font: \"STIX-Web\"}});}</script>                <script type=\"text/javascript\">window.PlotlyConfig = {MathJaxConfig: 'local'};</script>\n",
              "        <script charset=\"utf-8\" src=\"https://cdn.plot.ly/plotly-2.24.1.min.js\"></script>                <div id=\"ecd14630-5be1-480c-94b3-d2095c53beb4\" class=\"plotly-graph-div\" style=\"height:525px; width:100%;\"></div>            <script type=\"text/javascript\">                                    window.PLOTLYENV=window.PLOTLYENV || {};                                    if (document.getElementById(\"ecd14630-5be1-480c-94b3-d2095c53beb4\")) {                    Plotly.newPlot(                        \"ecd14630-5be1-480c-94b3-d2095c53beb4\",                        [{\"alignmentgroup\":\"True\",\"bingroup\":\"x\",\"histnorm\":\"probability density\",\"hovertemplate\":\"Movie Rating=%{x}\\u003cbr\\u003eprobability density=%{y}\\u003cextra\\u003e\\u003c\\u002fextra\\u003e\",\"legendgroup\":\"\",\"marker\":{\"color\":\"#636efa\",\"pattern\":{\"shape\":\"\"}},\"name\":\"\",\"nbinsx\":20,\"offsetgroup\":\"\",\"orientation\":\"v\",\"showlegend\":false,\"x\":[7.0,4.4,4.4,4.7,4.7,4.7,7.4,7.4,7.4,5.6,5.6,5.6,4.0,4.0,4.0,6.2,5.9,6.5,6.5,6.5,5.7,5.7,5.7,7.4,7.4,6.3,6.3,6.3,7.2,7.2,7.2,4.4,4.4,6.6,6.6,7.3,7.3,7.3,7.1,5.6,6.9,6.9,3.5,4.5,6.4,6.4,6.4,4.1,4.1,4.8,4.8,4.8,4.5,4.5,4.5,7.2,7.2,7.2,8.1,8.1,8.1,4.0,5.5,6.8,6.8,6.8,5.0,5.0,5.0,6.9,6.9,6.9,6.2,6.2,3.5,3.5,3.5,6.1,6.1,7.7,7.7,6.1,5.1,5.1,5.1,6.9,5.0,5.0,3.3,3.3,7.8,7.8,6.9,8.4,8.4,6.9,4.3,4.3,5.8,5.8,5.8,5.7,5.7,5.7,7.5,7.5,5.7,5.7,5.6,5.6,3.6,3.6,3.6,6.3,7.3,7.3,7.3,4.8,7.8,7.8,7.8,5.7,6.5,6.5,4.6,4.6,4.6,4.2,6.2,5.3,5.3,5.0,5.7,5.7,6.2,6.1,6.1,6.1,4.1,4.1,4.1,5.3,5.3,5.3,5.3,5.4,5.4,5.4,6.6,6.6,6.6,4.7,4.7,5.3,7.3,7.3,7.3,7.4,7.4,4.8,4.8,8.1,6.3,7.5,7.5,6.8,6.8,4.5,4.5,4.5,3.0,3.0,3.0,6.3,6.3,6.2,6.2,8.0,8.0,7.3,6.0,3.1,3.8,3.8,7.9,8.1,8.1,8.1,5.5,5.5,5.5,8.0,5.0,5.0,5.0,7.2,7.2,7.2,4.4,4.4,2.7,6.8,2.4,5.5,5.5,5.5,7.4,5.5,5.5,5.5,5.1,7.6,6.4,5.4,5.4,5.4,6.7,6.7,6.8,6.8,6.5,6.5,6.5,6.7,6.2,6.2,6.2,5.0,5.0,7.6,5.4,5.4,4.2,5.3,5.3,7.4,7.4,4.6,4.6,4.6,4.1,5.3,4.8,4.8,4.8,3.4,3.4,5.0,3.1,5.0,5.0,5.0,4.2,4.2,4.2,7.2,7.2,7.2,6.0,6.0,6.0,6.0,6.8,5.5,5.6,5.6,3.1,4.7,4.7,4.7,5.1,5.1,5.3,5.3,3.5,3.5,4.3,4.3,3.1,3.1,5.8,5.8,5.0,5.0,3.3,5.6,5.6,5.6,4.4,6.2,6.2,6.2,6.7,6.7,7.1,7.1,7.1,5.2,5.2,4.1,4.1,4.1,5.0,5.0,5.0,4.9,4.9,4.9,6.3,6.3,6.9,7.3,7.3,2.8,6.3,6.3,6.3,7.9,7.9,7.9,7.0,7.0,7.0,5.4,7.2,7.2,3.0,7.7,7.7,4.8,4.8,4.8,7.7,7.7,7.7,6.5,6.5,6.5,6.4,6.4,6.4,6.4,6.4,6.4,6.4,5.7,5.7,5.7,5.6,6.4,6.4,6.4,8.1,8.1,6.1,7.4,4.8,6.6,6.7,6.7,6.7,7.4,7.4,7.4,6.4,6.4,6.5,6.5,6.5,4.2,5.1,5.1,5.1,6.6,6.6,6.6,5.7,5.7,7.0,7.0,6.3,6.3,6.3,3.6,3.6,6.3,6.3,6.3,3.1,3.1,3.1,5.6,5.6,5.6,5.2,5.2,4.5,4.5,4.5,6.1,6.1,6.2,6.2,6.7,6.6,6.6,6.6,6.6,6.6,6.6,4.6,4.6,4.6,5.4,5.4,6.5,6.5,5.3,5.3,5.3,7.1,6.7,3.8,3.8,3.8,4.3,4.3,4.3,5.5,6.3,6.3,6.3,7.0,7.0,7.0,3.7,3.7,7.3,6.1,5.2,5.2,5.2,3.8,4.8,4.8,5.5,6.8,6.8,6.8,4.5,7.2,7.2,6.4,3.9,3.9,5.2,5.2,5.2,4.4,4.4,4.4,4.5,5.8,5.8,5.8,4.2,4.2,4.2,3.8,3.8,3.8,6.4,6.4,7.0,7.0,5.1,6.1,6.1,6.1,5.4,6.6,6.6,4.4,4.4,4.4,5.0,5.0,5.0,6.6,7.6,4.0,4.8,4.8,7.8,7.8,7.8,5.8,5.8,5.8,4.0,4.0,4.6,4.6,4.6,3.2,3.2,6.3,6.3,6.4,6.4,6.4,4.8,4.8,4.8,7.0,5.4,5.4,5.4,6.8,6.8,7.9,7.9,7.0,7.0,7.0,4.6,4.6,4.6,6.7,6.7,5.8,4.0,4.0,4.0,6.8,6.8,4.0,4.0,4.0,6.5,6.5,6.5,5.0,5.0,5.0,4.5,4.5,4.5,3.3,3.3,3.3,4.2,4.2,4.2,3.6,3.6,3.6,6.9,6.9,6.9,6.4,6.4,6.4,6.6,6.6,6.6,6.7,6.7,6.7,5.4,5.4,4.7,6.8,6.8,6.8,7.3,7.3,5.0,6.9,6.9,6.9,3.3,3.3,3.3,5.5,6.6,4.7,6.2,6.2,6.2,4.6,4.6,4.6,5.8,5.8,5.8,4.6,4.6,4.6,4.5,4.5,4.5,6.6,6.6,6.5,6.5,7.8,7.8,3.6,3.6,5.9,5.9,7.1,7.1,6.3,6.3,6.4,6.4,6.6,6.6,6.6,5.7,5.7,5.7,5.2,5.2,5.2,7.1,7.1,5.1,5.1,5.1,3.1,5.6,5.6,5.6,7.7,7.7,7.7,6.9,6.9,6.9,7.8,6.0,6.0,6.1,6.1,6.1,3.6,4.6,4.6,4.6,4.6,6.2,6.2,6.2,2.9,2.9,2.9,7.2,7.2,5.9,4.1,4.1,7.0,7.0,7.0,7.0,5.7,5.7,8.0,8.0,6.6,5.0,5.0,5.0,6.6,6.6,4.1,4.1,4.1,6.9,6.9,6.6,6.6,6.6,5.3,5.3,5.3,4.4,4.4,4.2,4.2,6.4,6.4,6.4,5.8,6.5,6.5,3.7,3.7,3.7,6.7,6.7,6.9,6.4,6.4,6.4,5.3,5.3,5.3,5.0,5.0,6.9,6.9,6.9,6.3,6.3,6.6,5.0,5.0,5.0,7.7,7.7,7.7,5.5,7.0,5.6,5.1,5.1,5.3,5.3,5.8,5.8,5.8,4.8,4.8,4.8,3.6,3.6,3.6,6.7,6.7,5.9,5.9,4.6,4.6,4.6,6.4,6.4,6.4,3.8,3.8,3.8,6.9,6.8,6.6,6.6,6.6,3.7,3.7,3.7,7.0,7.0,7.0,7.5,7.5,7.5,5.5,5.9,6.4,6.4,6.4,6.2,6.2,6.2,6.7,6.7,6.5,6.3,7.8,7.8,3.8,3.8,3.8,7.9,4.8,4.8,6.2,6.2,6.2,6.1,6.1,6.1,4.3,5.4,5.4,3.7,4.0,4.0,4.0,4.7,4.7,6.5,6.5,6.5,6.6,7.0,7.0,6.8,6.8,6.8,6.6,6.6,6.1,8.2,8.2,8.2,4.4,6.5,4.9,4.9,4.9,7.5,7.5,7.5,2.8,2.8,4.2,6.9,6.9,6.9,4.4,6.6,6.6,6.6,6.6,6.6,4.9,5.4,5.4,6.2,5.6,5.6,5.6,8.1,8.1,6.6,6.6,7.0,7.0,7.3,6.9,6.9,6.9,8.7,8.7,5.9,7.1,7.1,7.1,8.3,8.3,7.6,7.6,7.6,7.1,7.1,7.9,7.9,7.9,4.8,4.8,4.8,6.2,6.2,5.0,7.2,7.2,7.2,5.4,5.4,5.3,5.3,5.3,7.2,7.2,7.2,6.7,6.7,4.4,4.4,4.4,8.1,8.1,8.1,6.8,6.8,6.8,6.8,6.8,6.1,6.1,8.2,8.2,8.2,5.1,5.1,5.1,6.8,6.8,5.5,5.5,5.0,5.0,5.0,6.4,6.4,6.4,4.3,4.3,5.3,5.3,5.3,6.3,6.3,8.3,6.1,4.4,4.4,7.3,7.3,7.0,7.0,6.1,6.1,6.1,7.2,7.2,7.2,7.1,7.1,7.1,6.4,6.4,6.4,5.3,6.9,6.9,5.6,5.8,5.8,5.8,3.9,5.8,5.8,5.8,3.4,3.4,3.4,4.8,4.8,4.8,7.1,4.1,4.1,4.1,7.2,7.2,7.2,8.0,8.0,5.5,6.5,6.5,8.0,7.5,7.5,5.6,5.6,5.6,7.3,7.3,7.3,7.0,7.9,7.9,4.9,7.1,7.7,7.7,4.9,4.9,4.9,6.3,7.4,6.3,6.9,6.9,6.6,6.4,6.4,6.4,4.5,4.5,7.3,7.3,7.3,6.6,6.6,6.6,6.3,6.3,6.3,7.2,7.2,7.3,7.3,5.5,7.1,4.4,5.2,5.2,6.7,3.4,7.4,7.4,6.6,6.6,6.6,6.7,6.7,6.8,6.8,6.6,6.6,6.6,5.4,5.4,5.4,5.7,7.4,7.4,7.4,3.5,3.5,3.5,6.2,6.2,6.8,5.3,5.3,5.3,6.5,6.5,6.0,6.0,5.6,5.6,6.2,6.2,6.2,6.8,6.8,6.8,6.1,6.1,6.8,6.8,6.8,7.3,7.5,6.1,6.1,6.1,7.6,7.6,7.6,6.5,8.2,8.2,7.2,7.2,7.2,3.6,3.6,3.6,5.2,5.2,5.2,4.3,4.3,6.8,6.8,6.8,6.8,6.8,5.2,5.2,5.2,4.3,4.3,5.3,5.3,5.3,6.3,6.3,6.2,6.2,7.9,7.9,8.2,8.2,8.2,6.9,7.0,7.0,4.4,4.4,4.4,7.0,7.0,7.1,7.1,7.1,3.4,3.4,3.4,6.7,6.7,4.9,4.9,6.3,6.3,6.3,5.2,5.2,7.6,7.6,3.7,4.8,9.3,6.5,6.5,6.5,4.3,7.5,7.5,7.5,7.3,7.3,5.4,5.4,8.8,4.3,5.4,5.4,5.4,5.6,2.9,2.9,6.0,6.0,5.9,6.4,8.2,8.2,6.9,6.9,6.9,5.3,5.3,3.8,4.3,4.3,4.3,6.0,6.0,6.0,4.2,6.5,6.5,6.5,7.2,7.4,7.4,4.2,4.8,5.9,5.9,6.4,4.5,4.5,4.5,6.5,5.7,5.7,5.7,6.0,6.0,6.0,6.0,6.0,7.2,7.9,7.9,7.9,5.9,6.2,6.2,6.2,5.1,5.1,5.1,6.2,6.2,6.2,7.3,7.3,7.3,8.7,3.6,7.0,7.0,6.2,6.2,5.1,6.4,6.4,6.2,5.5,5.5,5.5,7.6,7.2,7.2,7.2,7.2,7.2,7.2,5.0,5.0,7.1,5.7,5.7,5.7,8.8,6.4,6.4,6.4,2.1,8.3,8.3,6.4,6.4,6.4,5.1,5.1,5.1,5.4,5.4,5.4,6.9,6.9,6.9,4.9,4.9,4.9,4.2,4.2,4.2,5.2,5.2,5.2,4.8,4.8,2.1,2.1,2.1,5.7,5.7,5.7,6.1,7.3,7.0,6.2,6.0,6.0,6.0,6.4,6.4,6.4,5.3,5.3,5.3,6.2,6.2,7.2,7.2,7.2,6.1,3.2,3.2,3.2,6.4,5.1,5.1,6.8,6.8,6.8,7.3,7.3,7.3,3.2,3.2,6.6,6.6,6.6,7.3,7.3,7.3,6.4,6.4,6.4,6.3,6.5,6.5,6.5,7.7,7.7,7.7,7.5,7.5,7.5,6.7,6.7,6.7,7.1,7.1,7.3,4.8,5.9,5.9,6.9,6.9,6.9,8.0,8.0,2.7,2.7,2.7,2.7,2.7,2.7,6.1,6.1,6.1,6.3,6.3,6.3,8.2,6.2,6.2,3.3,3.5,3.5,3.5,5.0,5.0,5.0,6.7,6.7,7.0,7.0,7.0,4.9,4.9,4.9,6.7,6.7,6.3,6.3,6.3,3.6,3.6,3.6,6.0,5.8,5.8,5.8,8.0,8.0,4.5,4.5,4.5,6.9,5.4,5.4,4.4,4.4,4.4,5.4,5.4,6.7,6.2,7.8,7.8,7.8,7.6,7.6,7.4,7.4,7.4,4.7,4.8,4.8,6.0,6.0,6.0,2.5,4.3,4.3,4.6,4.6,7.1,6.6,6.1,6.1,6.1,5.9,7.7,6.4,6.4,7.2,7.4,7.4,5.5,4.7,5.7,7.1,7.1,7.6,7.6,7.1,8.8,6.0,6.5,6.5,6.5,6.5,6.5,6.3,6.8,6.7,6.7,6.7,7.3,7.3,7.3,7.4,7.4,7.4,9.3,5.3,5.3,5.3,7.2,7.2,7.2,7.7,8.0,8.0,8.0,2.7,2.7,4.2,2.3,7.3,5.6,5.6,6.8,6.9,6.9,6.9,8.1,7.5,5.6,4.3,4.3,3.6,6.0,6.0,6.0,7.2,6.1,6.1,3.2,4.2,6.7,6.7,6.1,7.2,7.2,7.2,5.1,5.1,5.1,4.8,4.8,4.8,7.2,7.2,7.2,7.1,7.1,5.8,5.8,7.9,6.2,6.2,7.7,7.7,7.7,7.1,7.1,7.1,6.1,6.1,6.1,7.6,7.6,7.6,5.9,5.9,5.6,5.6,5.6,4.5,4.5,5.1,5.1,4.9,4.9,4.9,5.9,5.9,5.9,3.7,6.0,6.2,6.2,6.8,6.8,6.8,5.6,5.6,5.9,5.9,5.9,5.6,5.6,5.6,8.1,8.1,8.1,4.9,5.1,5.1,6.0,6.0,6.0,4.7,4.7,4.7,7.3,7.3,7.7,7.7,7.7,5.4,5.4,6.3,6.3,6.9,6.9,6.9,3.7,5.9,5.9,5.9,3.7,3.7,3.7,6.8,6.8,6.5,6.5,6.5,7.1,7.1,7.1,6.8,6.8,7.2,7.2,7.2,7.5,7.5,2.8,6.0,6.3,6.3,7.0,8.0,8.0,8.0,6.9,6.9,6.8,6.8,7.3,7.3,4.8,3.1,3.1,3.1,4.8,4.8,4.8,3.9,3.9,5.6,7.1,7.1,7.1,5.1,5.1,3.9,3.9,3.9,5.6,5.6,5.6,5.6,5.9,2.8,2.8,2.8,6.9,6.9,3.7,3.7,4.6,4.6,4.6,7.0,7.0,6.8,6.8,6.8,4.4,4.4,4.4,7.3,7.3,5.3,5.3,6.1,6.1,6.2,6.2,6.8,6.8,6.8,6.3,6.3,6.3,5.4,5.4,3.6,3.6,3.6,6.3,6.3,6.6,6.6,4.4,4.4,4.8,4.8,5.8,6.8,6.8,6.8,7.6,7.6,5.1,5.1,4.4,4.4,5.6,5.6,4.9,6.3,5.5,5.5,5.5,5.2,6.7,6.7,6.7,6.1,6.1,6.1,7.0,7.0,7.3,7.3,4.0,4.0,5.2,5.2,5.2,8.2,8.2,8.2,3.6,4.1,4.1,4.1,6.7,5.4,5.4,8.3,8.3,2.5,6.0,6.0,6.0,6.5,6.5,6.5,4.6,5.6,5.6,6.1,6.1,6.1,4.3,4.3,8.7,6.0,6.0,6.0,4.4,5.1,5.1,4.9,4.9,3.8,5.7,5.7,5.7,3.2,3.2,6.0,6.0,5.8,4.6,7.8,7.8,7.8,5.3,5.3,5.3,7.1,7.1,7.1,7.5,7.5,7.5,4.6,4.6,4.6,4.6,6.2,5.5,5.1,6.0,6.0,6.0,6.2,6.2,6.8,4.9,4.9,4.9,5.7,5.7,5.7,6.6,6.6,6.6,6.8,5.8,5.8,5.8,7.6,7.6,7.6,4.3,4.3,4.3,6.6,6.6,4.3,3.4,4.9,6.4,6.2,6.2,6.2,7.6,7.6,4.7,4.7,6.2,6.1,6.1,6.1,5.9,4.9,4.9,4.9,7.0,4.8,5.0,7.1,7.1,7.3,7.3,7.3,5.3,5.3,5.3,6.5,6.5,6.5,5.8,5.8,5.8,6.5,6.5,6.5,4.0,2.5,2.5,2.5,5.4,5.4,5.4,6.6,6.6,6.6,6.3,6.3,6.3,6.5,7.1,7.2,8.0,8.0,8.0,7.8,6.7,4.6,4.6,4.6,5.6,5.6,5.6,7.4,7.5,7.5,5.0,5.0,5.0,6.5,6.5,6.5,7.0,3.8,3.8,3.8,6.4,4.4,7.5,7.5,7.5,4.5,4.5,4.5,6.2,6.2,6.9,5.7,5.7,5.7,3.8,3.8,3.8,6.0,4.5,5.1,5.1,3.9,7.6,5.9,6.2,5.5,5.5,5.5,7.1,4.1,6.9,5.8,5.8,5.7,5.7,5.7,7.0,7.0,8.2,6.2,6.2,6.2,6.7,6.7,6.7,8.5,8.5,8.5,7.4,7.4,6.6,6.6,6.6,8.6,5.4,5.4,6.7,6.7,6.7,4.1,4.1,4.1,7.1,7.1,6.2,6.2,5.0,5.0,5.0,3.7,3.7,3.7,5.7,5.7,5.7,6.5,7.7,7.7,7.7,6.5,6.6,6.6,6.6,7.1,7.1,7.1,5.5,5.5,5.5,4.8,4.7,4.7,4.7,6.3,6.3,5.5,5.5,6.1,6.1,6.1,7.9,6.0,4.8,6.1,5.2,5.2,5.2,6.4,6.4,7.0,7.0,7.0,4.5,4.5,4.5,6.9,6.9,6.5,6.5,6.5,6.0,6.0,6.0,6.7,4.6,4.6,4.6,6.8,6.8,6.8,5.6,5.6,5.6,5.1,5.1,2.3,2.3,4.2,4.2,4.2,8.0,8.0,8.0,7.9,7.9,7.9,2.9,5.1,5.1,5.1,6.4,7.5,7.6,7.6,6.9,6.9,6.9,6.9,5.2,5.2,5.2,5.7,5.7,5.7,6.3,6.3,6.3,6.2,6.2,6.2,3.9,3.9,3.9,6.5,6.5,6.5,7.6,7.3,7.2,7.2,7.2,6.7,6.7,2.6,7.0,7.0,7.0,7.6,7.6,7.6,7.4,7.4,7.4,5.4,5.4,6.6,6.6,6.6,6.8,7.8,6.9,6.9,6.9,3.6,3.6,5.0,5.0,5.0,6.0,6.1,6.1,6.1,4.8,6.8,6.8,6.2,6.2,6.2,6.1,6.1,5.4,5.4,5.4,5.4,5.4,5.4,4.1,4.1,4.1,7.3,7.3,7.3,5.8,5.8,5.8,3.4,3.4,3.4,4.5,5.7,5.7,5.7,4.2,6.8,6.8,6.8,5.6,4.2,4.2,4.2,6.5,6.5,7.0,7.0,7.7,7.7,7.7,7.0,6.8,6.8,6.8,7.2,7.2,5.7,5.7,5.7,3.4,3.4,3.4,4.1,4.1,4.1,7.9,7.8,3.5,5.5,5.5,3.9,3.9,3.9,6.8,6.8,6.8,5.8,6.1,6.1,4.0,4.0,4.0,7.7,4.1,4.1,4.5,8.6,5.9,5.9,5.8,5.8,5.8,7.4,7.4,7.4,7.9,7.9,4.7,5.6,5.6,5.6,8.2,8.2,8.2,5.6,5.6,5.6,6.8,4.2,6.8,6.8,6.8,6.4,6.4,6.4,3.8,4.6,4.6,4.6,4.9,4.7,4.7,6.1,6.1,7.0,7.0,7.0,6.1,6.1,8.6,6.5,5.9,6.8,6.8,4.4,4.4,4.4,6.0,6.0,6.6,6.6,5.7,5.7,8.0,8.0,8.0,7.0,7.0,6.6,6.6,6.6,7.0,7.5,7.5,7.5,4.0,4.0,4.0,4.3,4.3,4.3,5.5,5.5,5.5,4.7,4.7,4.7,6.8,6.4,6.4,6.4,6.8,6.8,6.7,5.0,5.0,5.0,4.7,4.8,4.6,6.7,6.8,6.8,6.8,7.6,7.6,6.9,4.0,4.0,4.0,4.3,4.3,4.3,4.1,8.3,6.9,7.1,7.1,7.1,8.1,6.7,6.7,5.6,5.6,5.6,8.0,6.5,6.5,6.5,5.3,5.3,5.3,7.1,7.1,4.5,4.9,4.9,4.9,5.4,5.4,8.0,8.0,8.0,5.9,1.7,1.7,1.7,6.8,3.9,3.9,3.9,6.5,6.4,6.8,6.8,6.8,5.7,5.7,5.7,5.8,3.8,6.1,6.1,6.1,7.5,7.7,7.7,6.0,6.0,6.0,6.2,3.1,7.6,7.6,7.6,6.8,6.8,6.8,6.8,6.8,7.4,7.4,5.1,5.1,6.3,8.3,8.3,7.1,7.1,8.3,8.3,4.6,4.6,5.7,5.7,5.7,6.2,5.5,6.5,6.5,6.5,5.2,5.2,5.2,5.7,5.7,5.7,3.7,5.5,5.5,5.5,4.7,4.7,4.7,6.6,6.1,6.1,8.3,8.3,6.7,6.7,4.6,4.6,4.6,8.4,8.4,8.4,5.3,5.6,5.6,5.6,6.4,6.4,6.4,7.2,6.7,6.7,6.7,7.5,7.5,7.5,6.6,6.6,6.6,7.1,7.1,7.1,6.8,4.6,4.0,4.0,4.0,6.0,6.0,7.8,7.8,6.8,6.5,7.5,7.5,3.9,3.9,3.9,7.3,7.3,7.3,4.8,4.8,4.8,5.8,7.4,6.5,6.5,6.9,6.9,6.9,4.7,6.1,6.1,6.5,6.5,6.5,4.2,4.2,4.2,6.5,6.5,6.5,4.5,4.5,5.8,5.8,5.8,7.7,7.7,7.7,4.8,4.8,4.8,5.0,5.0,5.4,5.4,5.4,7.0,7.0,7.0,5.3,5.3,7.1,7.4,7.4,3.1,6.1,6.8,6.8,5.3,4.9,2.4,2.4,6.8,6.8,6.8,8.3,8.3,8.3,5.4,5.4,5.4,3.7,3.7,3.7,6.7,7.4,7.4,6.8,6.8,5.8,5.8,5.8,2.3,2.3,2.3,3.5,3.5,3.5,7.3,6.9,6.9,6.9,6.3,6.3,6.3,5.9,7.0,7.0,7.0,5.6,7.7,7.7,4.2,4.2,4.2,6.2,6.2,6.2,5.3,5.3,5.3,5.7,5.7,5.7,7.9,7.9,7.9,7.1,7.1,7.1,6.5,9.0,9.0,4.0,4.0,4.0,6.2,5.4,5.4,6.6,6.6,6.6,6.6,6.6,6.6,6.7,6.7,6.7,2.9,2.9,2.9,6.5,4.8,4.8,4.8,7.7,6.8,5.3,5.6,5.6,5.6,6.2,6.2,3.1,3.1,3.1,5.7,5.7,5.7,5.1,5.1,5.1,7.3,7.3,7.3,6.9,6.1,6.1,8.3,8.3,6.8,6.8,6.8,4.4,4.4,4.4,4.6,4.6,4.6,6.2,6.2,6.2,6.5,7.0,7.0,7.0,7.0,7.0,4.8,4.8,4.8,6.0,6.0,3.9,3.1,3.1,5.1,5.1,4.5,4.5,4.5,7.1,6.1,6.1,6.1,6.3,6.3,6.3,6.2,6.2,6.2,4.8,4.8,4.8,3.0,3.0,3.0,6.5,6.5,5.0,5.0,5.0,4.8,7.2,7.2,6.4,6.4,6.4,3.8,3.8,7.7,4.9,4.9,6.2,6.2,6.2,7.4,6.3,5.5,5.5,5.5,5.3,5.3,4.7,4.7,3.9,3.9,3.9,3.8,5.0,5.0,5.0,4.9,4.9,3.3,3.3,3.3,7.0,4.0,4.0,4.0,7.8,7.8,6.7,6.1,6.1,6.1,6.6,6.6,2.6,2.6,2.6,3.9,3.9,3.9,3.7,8.4,8.4,8.4,3.9,3.9,3.9,5.7,5.7,7.0,8.3,5.4,5.4,5.4,7.5,6.1,6.1,7.0,5.2,5.1,6.5,5.6,3.8,3.8,3.8,7.2,6.3,5.4,7.7,7.7,7.7,7.1,7.1,7.8,7.8,7.8,4.9,4.9,6.0,4.3,5.3,5.3,5.3,6.4,6.4,3.8,3.8,6.9,6.9,6.9,4.7,4.7,7.1,6.8,6.8,6.8,7.8,7.8,7.4,5.9,5.9,5.9,6.1,6.1,6.1,5.7,5.7,5.7,6.2,6.2,6.2,7.2,6.5,6.5,6.5,8.1,7.3,7.2,7.2,5.5,5.5,5.5,6.6,6.6,6.6,4.1,4.1,4.1,6.4,6.4,6.3,6.3,6.3,6.3,5.8,5.8,7.8,6.6,6.6,7.5,7.5,7.5,7.1,7.1,7.1,4.3,4.3,7.6,7.6,4.6,4.6,6.5,6.5,6.5,8.1,8.1,8.1,6.9,6.9,6.9,2.4,2.4,2.4,6.7,6.7,5.7,5.7,5.7,5.0,5.0,4.7,4.7,5.3,5.3,5.3,6.6,6.6,6.6,6.4,4.5,4.5,4.5,7.4,7.4,6.1,5.6,5.6,5.9,7.6,7.6,7.6,6.2,6.2,5.6,5.6,5.6,6.1,5.9,3.1,3.1,3.1,6.2,6.2,6.2,4.9,5.5,1.4,1.4,6.0,6.0,6.0,3.6,3.6,3.6,5.7,5.7,4.0,6.4,7.7,7.7,7.7,6.2,6.2,6.2,6.9,8.0,8.0,4.2,7.2,7.2,7.2,7.1,7.1,7.6,7.6,7.6,6.2,6.2,7.9,7.9,7.9,6.6,6.6,6.6,7.8,5.8,5.8,5.8,5.2,2.6,2.6,2.6,5.7,5.7,3.5,5.5,3.7,3.7,5.1,5.1,4.5,4.5,6.5,6.5,4.4,4.4,4.4,7.3,7.3,7.3,5.4,5.4,5.4,6.5,5.0,5.0,3.4,3.4,3.4,7.3,7.3,7.3,4.3,4.3,4.4,6.0,6.0,3.5,3.5,6.3,6.7,6.7,6.7,7.0,7.0,5.8,5.8,5.8,5.8,5.8,6.7,6.7,6.7,7.3,7.0,7.0,7.0,6.4,6.4,7.8,7.8,7.0,7.0,6.5,7.0,6.2,6.2,6.2,6.3,6.3,6.3,6.3,6.3,4.5,4.5,4.5,6.7,6.7,6.7,6.7,6.5,6.5,6.5,5.4,5.4,5.4,3.4,3.4,3.4,5.6,5.6,7.2,4.5,8.1,8.1,7.2,6.9,6.9,6.9,7.2,7.2,7.2,2.4,2.4,2.4,8.9,8.9,8.9,6.1,6.1,6.1,6.1,6.1,3.6,7.6,7.6,7.0,6.7,6.7,6.7,5.0,5.0,5.5,5.5,5.5,6.1,6.6,6.6,6.6,4.6,4.6,4.6,8.1,8.1,8.1,7.0,7.0,6.9,6.9,6.9,6.2,6.2,6.4,6.4,6.4,3.5,3.5,3.5,7.0,7.0,7.0,6.7,6.7,6.7,3.1,3.1,3.1,7.3,7.3,7.3,5.3,5.3,7.1,7.1,7.1,5.1,5.1,4.6,4.6,5.3,3.7,3.7,5.7,5.7,4.8,4.8,4.8,5.3,5.3,5.3,5.7,5.7,4.9,4.9,5.3,5.3,5.1,5.1,5.1,5.2,5.2,4.4,4.4,7.0,7.0,4.8,4.8,5.0,5.0,7.6,7.6,5.1,5.1,5.1,7.0,7.0,5.0,5.0,7.0,7.0,7.0,5.8,5.8,5.8,6.5,6.5,5.0,5.3,5.3,5.3,5.5,3.8,3.8,4.5,4.5,4.5,6.7,5.1,5.1,5.8,5.8,5.8,7.4,7.4,5.3,5.3,5.3,6.3,6.3,6.3,3.7,3.7,7.1,7.1,7.1,3.7,3.7,3.7,5.7,5.7,5.7,5.1,5.1,5.1,8.1,8.1,7.2,4.0,4.0,4.0,2.5,6.4,6.4,6.4,7.0,7.0,7.0,5.2,5.2,5.1,5.1,5.1,5.7,5.7,3.8,3.8,6.9,6.9,6.9,8.4,8.4,8.4,7.0,7.0,7.0,6.2,6.2,6.2,8.4,6.3,6.3,5.3,6.0,6.0,7.5,7.5,7.2,7.2,6.1,6.1,6.1,6.5,6.5,6.5,3.6,3.6,6.5,6.5,6.5,7.1,7.1,7.1,7.2,7.2,3.8,6.0,6.0,6.7,6.7,6.7,5.7,5.7,4.4,4.4,7.0,7.0,6.3,3.3,7.1,7.1,7.1,6.4,7.1,3.7,3.7,3.2,3.2,6.5,7.2,7.2,6.4,6.4,4.5,4.5,5.4,5.4,4.9,4.9,7.2,7.2,7.2,7.8,7.8,7.8,7.1,7.1,7.1,4.7,4.7,3.9,3.9,3.9,6.7,6.7,6.7,4.6,4.6,4.6,4.0,8.2,8.2,7.7,6.0,6.2,6.2,7.0,7.0,7.0,6.9,6.9,7.9,5.3,5.3,5.3,7.0,5.2,8.4,8.4,8.4,5.7,5.7,3.3,5.5,5.5,4.2,3.8,3.8,3.8,8.2,7.0,6.0,6.8,6.8,6.8,3.8,1.9,5.3,8.1,8.1,7.0,7.0,6.2,6.2,6.2,5.2,7.1,8.2,8.2,8.2,3.5,3.5,3.5,7.6,7.6,5.9,5.9,5.9,4.6,6.5,6.5,5.2,6.5,6.5,7.1,7.1,7.1,4.2,4.2,4.2,5.1,5.1,5.1,6.7,6.7,6.7,5.1,5.1,5.1,7.9,7.9,7.9,6.6,5.6,5.6,5.6,7.5,7.5,7.5,6.2,6.2,6.2,7.0,7.0,7.0,7.0,6.9,6.3,6.3,3.7,3.7,5.6,5.6,5.6,6.5,6.2,6.2,6.2,4.6,3.8,3.8,5.7,6.6,6.6,6.6,5.6,5.6,5.6,6.9,6.9,6.9,6.9,6.9,5.4,5.4,7.1,4.0,5.0,5.0,4.9,4.9,4.9,7.1,7.0,7.0,7.0,6.1,6.1,6.1,7.7,7.7,7.7,4.3,7.4,7.4,4.5,4.5,7.4,7.4,4.7,4.7,4.7,7.2,7.2,7.2,5.6,5.6,6.8,6.8,6.8,6.5,6.5,7.8,7.7,5.2,5.2,5.2,5.7,6.7,6.3,6.3,6.6,6.6,5.5,5.5,6.7,7.0,7.0,7.0,6.3,8.5,4.7,4.7,7.1,7.3,7.3,7.3,2.9,6.6,3.8,6.4,6.4,6.4,3.9,7.1,8.3,8.3,7.5,7.5,7.5,6.4,7.2,2.5,5.4,5.4,5.4,7.5,7.5,7.5,5.8,5.8,5.8,3.4,7.0,7.0,6.5,6.5,6.3,6.3,6.3,5.7,5.7,5.7,6.5,6.5,5.7,5.7,5.5,5.5,5.5,6.9,5.7,5.7,5.7,6.1,4.0,4.0,4.0,6.8,6.8,6.8,3.7,3.7,3.7,6.9,6.8,6.8,6.8,6.6,6.6,6.6,5.8,5.8,5.8,6.8,7.3,7.3,7.3,8.2,8.2,4.9,4.9,4.9,7.0,7.0,7.0,4.4,4.4,4.3,4.3,4.3,6.6,6.6,5.7,6.9,4.0,4.0,3.9,3.9,5.5,5.5,5.5,5.7,5.7,5.7,6.9,4.4,5.2,5.2,4.7,4.7,4.7,6.9,5.9,5.9,5.7,6.0,6.1,6.1,6.1,5.8,8.0,8.0,8.0,5.3,5.3,5.3,6.0,6.0,6.0,4.4,4.4,6.2,4.2,4.2,4.2,6.5,6.5,5.7,5.7,5.7,6.1,6.1,6.1,6.1,7.8,7.8,7.8,4.3,4.3,4.3,6.2,6.2,6.2,7.1,5.9,5.9,5.9,4.7,4.7,4.7,3.4,3.4,3.4,4.6,4.6,4.5,4.5,5.3,5.3,7.3,7.3,7.3,6.5,6.5,6.5,6.0,6.0,6.0,7.1,7.1,7.1,8.4,8.4,5.6,5.6,5.6,4.9,7.0,7.0,7.0,7.2,7.2,7.2,6.9,6.9,6.9,6.1,6.1,4.5,4.5,4.7,4.7,4.7,4.1,4.1,5.1,5.1,6.2,6.2,6.2,4.3,8.0,8.0,6.9,6.9,5.6,5.6,5.6,4.6,4.6,6.2,6.2,6.6,5.7,5.7,5.7,5.4,6.2,6.2,6.2,5.5,5.5,5.5,6.4,6.4,6.4,5.8,5.8,4.7,4.7,5.5,5.5,5.5,6.1,6.1,6.1,3.3,3.3,5.5,5.5,5.8,5.8,5.8,5.1,7.3,6.9,5.7,5.7,5.7,7.4,7.4,7.4,4.4,4.4,7.2,7.2,7.7,7.7,6.8,4.4,6.2,6.2,7.0,7.0,4.8,5.3,5.3,5.3,5.4,5.4,6.1,6.1,6.1,6.0,5.1,5.1,5.1,8.3,8.3,6.0,6.3,3.4,3.4,3.4,7.5,7.5,7.5,5.0,5.0,5.3,5.3,5.3,6.5,6.5,6.5,6.2,6.2,6.2,6.4,7.5,4.6,4.6,4.6,4.7,5.2,5.2,5.2,4.3,4.3,4.9,4.9,4.9,4.9,6.8,6.6,6.6,6.6,6.5,6.5,6.5,7.1,2.8,2.8,2.8,5.2,5.2,5.4,5.4,4.7,4.7,6.9,6.9,6.9,8.3,8.3,8.3,6.5,7.2,7.2,7.2,3.1,6.2,8.3,6.0,6.0,5.8,5.8,5.8,7.1,7.1,7.1,4.8,7.2,7.2,7.2,4.6,4.6,4.6,7.2,3.7,3.7,5.3,5.3,5.3,5.0,5.0,3.5,5.1,5.1,5.1,7.3,7.1,4.5,4.5,4.5,6.5,6.5,6.5,5.0,5.0,5.0,5.1,5.1,5.1,5.2,5.2,5.2,5.3,5.3,5.3,6.5,6.5,7.1,5.8,8.0,8.0,8.0,2.5,2.5,2.5,7.3,7.3,7.3,4.6,7.6,7.6,7.6,7.6,7.6,6.1,6.1,6.1,3.6,3.6,5.2,4.7,4.7,4.7,6.4,5.4,5.4,5.7,4.6,4.6,4.6,7.8,7.8,7.8,7.3,7.3,8.2,8.2,8.2,7.1,7.1,7.1,5.3,5.3,5.3,6.8,6.8,6.8,4.5,7.3,5.8,5.8,5.8,6.7,3.4,3.4,7.4,7.4,7.4,8.1,7.3,7.0,6.5,6.5,3.5,3.5,3.5,8.8,6.0,6.0,6.0,2.7,5.6,4.2,4.2,4.2,5.9,6.9,6.9,6.9,6.0,6.8,6.8,5.4,5.4,5.4,6.1,6.1,6.1,6.7,5.3,5.3,4.9,4.9,4.9,6.1,6.1,7.3,7.3,7.3,5.8,5.8,5.8,7.0,7.0,5.8,5.8,4.4,4.4,4.4,7.1,5.5,4.9,4.9,7.6,7.6,4.0,4.0,6.0,5.8,5.8,5.9,6.6,6.6,6.6,5.7,5.7,4.7,4.7,4.7,7.1,7.1,7.1,6.9,6.9,4.6,6.7,6.7,7.4,7.4,6.9,6.9,7.6,7.6,7.6,6.3,6.3,6.3,6.8,6.8,6.8,5.4,5.4,9.4,9.4,5.5,5.4,5.4,5.4,2.3,5.0,5.0,4.3,4.3,7.3,7.3,7.3,6.2,6.2,6.6,6.6,6.6,6.6,6.6,7.2,7.2,6.3,6.3,4.9,6.8,5.7,5.7,5.7,5.6,5.6,3.2,2.1,5.6,2.7,2.7,2.7,6.7,6.7,6.7,8.1,8.1,9.3,3.6,3.6,3.6,7.0,7.1,6.7,6.7,6.7,7.3,7.3,7.3,6.3,6.3,6.3,5.9,5.9,5.9,5.5,5.5,5.0,5.0,5.0,5.1,5.1,5.1,7.4,7.4,7.4,7.0,7.0,3.8,3.8,6.9,6.4,6.4,6.4,5.8,5.8,5.8,7.6,7.6,7.0,7.0,7.0,6.9,7.0,7.0,7.0,5.5,5.5,5.5,5.9,5.9,7.4,5.0,5.0,5.0,4.9,4.9,4.9,7.4,7.4,6.7,6.7,6.7,6.1,5.1,5.1,6.8,6.8,4.4,4.4,4.4,3.6,3.6,3.6,5.7,6.9,6.9,7.2,7.2,7.2,4.2,4.2,4.7,5.3,5.3,4.2,4.2,6.7,5.4,8.4,8.4,8.4,5.4,5.4,2.4,2.4,2.4,6.1,6.1,8.1,8.1,8.1,7.5,6.3,6.3,8.0,8.0,8.0,7.0,7.0,7.0,3.7,3.7,7.8,7.8,7.8,6.9,6.9,6.2,6.2,6.2,4.7,4.7,3.3,3.3,3.3,5.6,5.8,5.1,4.9,6.7,6.7,6.7,7.3,7.3,7.3,4.2,2.4,2.4,2.4,4.1,7.6,7.6,7.6,5.3,5.3,5.3,6.8,3.5,3.5,7.3,7.3,7.3,6.5,6.5,5.5,6.7,6.7,6.7,5.6,7.7,7.1,7.1,2.7,6.0,6.0,4.9,4.9,4.9,6.6,6.7,6.7,6.7,7.5,7.5,5.8,3.4,3.4,3.7,3.7,3.7,7.6,7.6,7.6,5.7,6.3,6.3,6.2,6.9,6.9,6.9,5.4,5.4,5.4,4.2,4.2,4.2,7.3,7.3,7.3,5.8,5.8,5.8,4.3,5.3,5.3,4.9,8.4,6.1,2.5,8.1,8.1,8.1,5.3,5.3,4.9,4.9,4.9,6.1,6.1,6.1,7.1,7.1,7.1,6.8,6.8,6.8,4.4,4.4,9.7,9.7,7.4,7.4,7.4,7.2,7.2,6.1,6.1,7.9,7.9,6.4,6.7,5.6,5.6,5.6,7.8,7.5,7.5,7.5,6.7,6.7,5.3,5.3,5.3,7.8,7.1,7.1,7.1,6.4,6.4,6.7,6.7,6.0,6.0,6.0,8.5,8.5,7.7,7.6,5.7,7.6,5.4,5.4,7.4,7.4,7.4,6.5,6.5,5.4,5.4,5.9,5.9,3.2,3.2,5.0,5.0,5.0,4.5,7.8,7.8,7.8,4.6,4.6,4.6,4.6,4.6,4.4,5.2,5.2,5.2,6.6,6.6,6.6,6.4,7.9,6.4,6.4,7.7,7.7,7.7,6.5,6.5,6.5,7.2,7.2,5.5,5.5,5.5,7.5,6.2,6.2,1.9,1.9,1.9,5.7,5.7,6.9,6.9,6.9,6.8,6.8,4.4,6.2,6.2,6.2,6.7,6.7,6.7,5.4,5.4,5.4,4.7,5.3,5.3,4.4,4.4,4.5,4.5,3.3,3.3,3.3,7.9,6.0,6.0,5.6,5.6,5.6,4.2,4.2,4.2,6.9,6.9,6.9,4.1,4.1,4.1,5.6,4.1,6.3,6.3,6.3,6.7,6.2,3.3,3.3,3.3,7.4,7.4,7.4,5.5,5.5,2.7,2.7,2.7,6.2,6.2,6.5,7.1,7.9,5.1,5.1,5.1,7.0,7.0,7.0,5.1,5.1,4.0,4.0,4.0,3.4,5.6,3.3,3.3,4.7,4.7,4.7,5.6,2.7,2.7,6.3,6.3,3.8,3.8,3.8,6.0,6.0,4.3,4.3,6.4,6.4,6.4,6.8,6.8,6.8,8.2,8.2,8.2,5.3,6.7,6.7,6.7,3.5,3.5,3.5,4.8,4.8,4.8,6.2,6.2,6.2,6.2,6.2,6.2,5.5,5.5,5.5,5.1,5.3,5.3,2.9,2.9,2.9,7.9,7.9,7.9,6.3,6.0,6.0,7.5,7.5,4.2,4.2,4.2,5.4,5.4,5.4,7.6,7.6,7.6,3.7,3.7,6.8,6.8,6.8,6.4,6.4,6.4,4.5,4.5,4.5,5.0,5.0,5.0,5.1,5.1,4.5,4.5,4.5,4.3,1.7,1.7,1.7,6.6,6.6,7.9,7.9,6.2,6.2,6.2,5.3,5.9,5.4,5.4,5.4,2.9,2.9,2.9,5.4,5.4,5.4,6.1,6.1,6.1,3.8,3.8,4.3,4.3,4.3,7.4,7.4,5.9,5.9,7.2,7.2,7.0,7.0,3.1,3.1,6.6,6.5,6.5,6.5,5.6,5.6,6.1,6.1,6.1,6.3,6.3,6.3,3.5,4.2,4.7,4.7,4.7,5.2,5.2,5.2,5.1,5.0,5.0,5.0,6.2,6.2,5.8,3.8,3.8,7.6,7.6,7.6,7.1,7.1,5.5,5.8,7.3,7.3,6.4,5.5,5.5,5.3,5.3,5.3,5.0,5.0,5.0,3.5,3.5,3.5,6.9,6.9,6.4,6.1,6.1,4.6,4.6,4.6,7.1,7.1,7.1,7.0,7.0,7.0,6.4,6.4,6.8,6.8,6.8,5.7,5.7,7.5,7.5,7.5,5.8,5.8,5.8,5.7,7.5,7.5,7.5,6.6,6.6,6.6,7.5,7.5,7.5,6.3,6.3,6.3,7.1,6.2,4.8,4.8,4.8,5.5,5.5,5.5,7.4,7.4,7.4,4.2,4.2,4.2,3.6,3.6,3.6,4.4,4.4,4.4,7.2,7.2,7.2,6.5,5.6,5.6,5.6,5.3,5.3,6.5,6.5,5.7,5.7,6.3,6.3,3.5,3.5,3.5,6.0,4.5,4.5,4.5,5.8,2.7,2.7,2.7,7.0,7.0,7.0,4.7,4.7,4.7,4.6,5.9,6.4,6.4,5.3,5.3,5.3,3.6,3.6,3.6,5.4,5.4,7.5,7.5,4.9,4.9,4.9,1.7,6.7,6.7,6.7,5.2,5.2,4.8,4.8,6.9,6.0,6.0,6.0,6.4,6.4,6.4,5.3,6.1,6.1,6.1,1.8,1.8,1.8,7.5,7.5,7.5,7.0,7.0,6.9,6.9,6.9,7.2,7.2,7.2,6.8,5.2,6.1,6.1,6.1,6.8,6.0,6.0,6.5,8.0,8.0,8.0,5.7,5.7,7.2,7.2,8.6,5.4,5.4,5.4,7.3,6.0,5.6,5.6,5.6,3.5,3.4,3.4,4.1,4.1,4.1,4.6,4.6,4.6,6.9,5.4,5.4,5.9,5.9,5.9,4.5,4.5,6.5,3.6,3.6,4.7,4.7,6.0,6.0,6.1,6.1,6.1,9.2,7.4,5.4,5.4,5.4,5.7,5.7,5.3,5.3,5.3,7.4,7.4,7.1,7.1,5.9,7.1,7.1,7.1,7.1,7.1,5.4,5.4,5.4,8.2,8.2,8.2,6.9,6.9,6.9,4.5,4.5,4.5,7.0,3.0,3.0,7.3,6.0,6.0,7.2,7.2,6.0,6.0,6.9,6.9,6.0,6.0,6.0,5.8,5.8,5.8,7.4,5.7,5.7,5.7,4.7,4.7,4.8,4.8,4.2,4.2,4.2,3.9,3.9,5.4,5.4,5.4,6.8,6.8,6.8,6.5,6.5,6.4,6.4,4.6,4.6,4.6,3.0,3.0,3.0,7.4,7.4,7.4,4.6,6.8,6.9,6.9,6.9,6.2,6.2,6.8,6.8,6.8,5.1,5.1,5.1,3.8,3.8,3.8,2.6,2.6,5.0,5.0,6.5,6.5,4.8,4.8,4.8,5.8,8.1,8.1,4.7,4.7,6.3,6.3,6.3,6.7,6.7,5.0,5.4,4.7,6.5,6.5,6.5,2.6,7.3,7.3,3.8,3.8,6.9,6.9,6.9,4.0,3.1,5.8,5.8,6.8,6.8,5.7,5.5,5.5,5.5,6.0,6.0,4.8,4.1,4.1,7.3,7.3,7.3,5.7,5.7,5.7,5.4,5.4,5.4,6.4,7.5,4.4,4.4,4.4,6.7,4.5,4.5,6.7,6.7,7.3,7.3,7.3,6.8,5.0,5.0,3.5,3.5,3.5,6.9,6.9,4.5,4.5,4.5,4.3,7.4,7.4,7.4,4.5,4.5,4.5,7.2,7.2,7.2,7.0,7.0,5.8,5.8,5.0,5.0,5.0,5.3,4.1,4.1,6.5,6.5,6.5,4.2,4.2,7.2,7.2,5.8,5.8,5.8,6.9,4.1,4.1,4.1,7.3,7.3,7.3,4.1,4.1,4.1,5.6,5.9,4.7,6.6,5.3,5.3,5.3,5.9,5.9,4.6,4.8,4.8,8.4,8.4,8.4,2.7,2.7,2.7,3.3,3.3,3.3,3.8,3.8,3.8,4.8,7.5,7.5,7.5,6.5,6.8,6.8,6.8,6.1,6.1,6.1,5.8,5.8,5.8,6.1,6.1,6.1,2.8,2.8,2.8,5.0,5.0,6.0,6.0,6.0,6.3,6.3,6.3,4.2,4.2,5.3,5.3,5.3,6.9,6.9,6.8,6.8,6.8,6.2,6.2,6.7,6.7,5.6,7.9,7.9,7.9,6.5,6.5,4.4,4.4,4.4,7.5,7.5,2.0,2.0,8.1,6.1,6.1,6.6,6.5,6.5,6.5,6.4,6.4,6.4,5.1,5.1,5.1,6.8,6.8,6.8,3.9,3.9,3.9,6.4,6.4,6.1,7.8,5.6,5.6,5.1,5.1,5.2,5.2,7.9,7.9,7.9,5.2,5.2,5.2,5.1,5.1,7.2,3.6,3.6,3.6,6.2,6.2,5.3,3.6,3.6,3.6,5.0,6.2,5.3,5.3,5.6,5.6,5.2,5.2,5.2,5.8,5.8,5.8,6.7,5.7,6.0,6.0,5.7,5.7,7.0,7.1,7.1,7.1,6.6,6.6,7.5,7.5,7.1,7.1,4.0,4.0,4.0,4.0,4.4,4.4,2.9,2.9,2.9,6.2,6.2,6.7,6.7,2.7,4.2,4.2,4.2,5.9,6.2,6.2,6.2,2.8,6.9,6.9,6.9,6.5,6.5,6.5,7.0,7.0,6.0,6.0,6.0,3.9,3.9,3.9,5.8,5.6,5.6,5.6,6.6,6.6,5.2,5.2,5.2,7.6,6.0,5.6,2.9,2.9,2.9,4.6,5.0,5.6,5.6,5.3,5.3,5.3,5.8,5.8,5.8,4.2,5.5,5.5,5.5,5.4,4.8,4.8,4.4,4.4,4.8,6.7,4.6,4.6,5.9,6.9,6.9,5.9,5.7,5.7,4.8,4.1,4.1,4.1,3.8,6.6,6.6,4.9,4.9,6.3,6.3,7.1,7.1,7.1,7.3,5.1,5.1,5.1,8.0,8.0,8.0,6.1,6.1,7.2,6.5,6.5,6.5,7.2,7.2,7.2,6.9,6.9,6.9,7.1,7.2,7.2,8.2,8.2,6.3,5.9,5.9,3.7,3.7,3.7,5.7,5.7,6.1,6.1,6.1,4.7,6.6,4.6,4.6,7.0,7.0,7.0,5.9,5.9,4.4,5.2,5.2,4.9,2.5,2.5,6.4,3.4,8.6,4.9,4.9,4.9,7.4,7.4,7.4,5.2,5.2,5.2,3.0,3.0,3.0,3.6,3.6,3.6,5.7,5.7,5.7,8.2,8.2,8.2,7.6,7.6,7.6,6.1,3.5,3.5,3.5,5.8,5.8,7.4,7.4,7.4,6.2,6.2,7.3,7.3,6.4,6.4,6.4,6.8,6.8,6.8,6.8,6.8,6.8,6.8,5.6,5.6,5.6,7.5,7.5,7.5,7.8,7.8,7.8,6.0,6.0,4.9,4.9,7.3,7.3,7.3,2.4,2.4,2.4,7.5,7.5,7.2,7.2,5.1,5.1,5.1,9.0,6.2,6.2,6.2,6.2,6.2,5.7,5.7,5.7,4.6,4.6,4.6,2.1,2.1,2.1,3.1,3.1,6.6,6.1,6.1,6.1,5.9,5.9,3.9,3.9,5.9,5.9,5.9,6.1,6.1,6.1,3.6,3.6,6.2,6.5,6.5,6.5,6.1,6.1,6.1,4.0,4.0,2.3,2.3,2.3,3.7,9.4,4.0,4.0,4.0,4.2,4.2,4.2,5.6,5.6,6.1,6.1,6.1,6.2,7.3,7.3,7.3,5.6,5.6,5.6,3.1,7.6,5.6,5.6,5.6,4.2,4.2,5.6,5.6,5.6,5.4,5.4,5.4,6.8,6.8,5.4,4.6,4.6,7.9,5.3,5.3,5.3,5.6,5.6,5.6,5.8,5.8,5.8,4.2,4.2,7.6,7.6,8.0,5.9,5.0,5.0,5.0,7.1,7.1,7.1,6.5,9.1,9.1,9.1,6.1,6.1,7.1,7.1,7.6,7.6,7.6,3.9,8.0,8.9,6.2,6.2,6.2,4.6,4.6,4.6,6.7,6.7,7.7,7.7,7.7,4.2,4.2,4.2,6.4,6.4,6.3,6.3,3.4,3.4,3.4,5.0,6.8,6.8,3.3,3.3,3.3,2.7,6.4,4.6,4.6,6.6,6.6,4.2,4.2,4.2,7.3,3.8,3.8,6.5,6.5,6.5,4.8,6.3,5.0,3.6,5.4,6.8,6.8,6.8,6.6,6.2,6.2,6.2,6.1,6.1,7.8,7.8,7.8,7.4,7.4,7.4,4.3,4.3,4.3,6.2,6.2,7.4,7.4,7.1,7.1,7.1,4.8,4.8,3.7,3.1,6.8,6.8,6.8,7.8,5.9,5.9,5.9,6.4,6.4,6.0,6.0,6.0,6.1,6.1,7.0,7.0,7.0,6.6,5.3,5.3,5.3,6.8,6.8,6.8,7.1,7.1,6.8,8.1,5.8,5.7,5.7,8.1,8.1,6.6,6.6,5.8,5.8,6.9,5.2,5.2,6.0,6.0,5.6,5.6,5.6,5.7,5.7,5.7,7.5,6.9,6.9,6.9,6.3,6.3,7.8,7.8,5.4,6.2,6.2,6.6,2.8,2.8,2.8,7.9,7.9,7.9,6.9,6.9,6.9,6.7,7.9,7.9,7.9,6.2,3.6,3.6,3.6,6.3,6.3,6.3,6.0,6.0,6.0,5.5,5.5,7.4,7.4,7.4,5.7,5.7,7.1,7.1,7.1,5.6,6.4,6.4,6.4,6.3,6.3,6.3,3.6,3.6,6.3,6.3,5.8,5.8,5.8,6.2,5.7,5.7,8.0,6.7,6.7,6.7,5.1,5.1,6.7,7.2,7.8,6.5,6.5,6.5,5.2,4.1,4.1,6.5,6.5,3.9,3.9,3.9,7.4,7.4,7.4,7.1,7.2,5.1,5.8,5.8,5.8,6.0,6.0,8.2,6.2,6.2,6.8,6.6,6.7,6.7,6.7,3.7,3.7,5.8,7.9,7.9,7.9,3.1,3.1,5.6,5.6,5.6,6.3,4.6,4.6,7.3,7.3,6.9,8.2,8.2,8.2,7.7,7.7,7.7,5.5,5.5,5.5,7.1,7.1,7.1,4.0,6.8,6.8,6.8,4.2,6.2,6.2,6.2,6.5,6.5,4.8,6.1,6.1,6.5,6.5,2.7,2.7,6.7,6.7,7.4,7.4,7.4,2.9,5.0,5.0,5.0,4.4,4.4,4.4,7.0,7.0,7.1,7.1,7.1,5.1,5.1,3.0,3.0,7.7,7.7,7.7,7.6,7.6,7.6,7.5,7.5,7.5,3.9,3.9,3.9,2.1,2.1,2.1,6.6,5.1,5.1,4.5,5.1,5.1,5.1,5.7,5.7,4.3,4.3,5.9,5.9,7.0,5.4,5.4,5.4,6.7,6.7,7.1,7.1,7.1,6.0,6.0,6.0,6.9,6.9,7.8,7.8,5.6,6.9,6.9,7.2,7.2,7.2,6.4,6.4,6.4,7.8,7.8,5.6,4.9,4.9,4.9,5.1,5.9,5.9,3.2,3.2,3.2,6.1,6.1,6.1,3.8,3.8,5.5,5.5,5.5,7.8,7.8,6.4,7.1,7.1,6.7,6.7,5.0,5.0,5.0,6.9,6.9,6.8,5.7,5.7,5.7,3.3,3.3,4.7,4.7,4.7,5.7,7.4,7.4,7.4,8.1,8.1,2.3,2.3,2.3,5.6,5.6,5.6,5.9,5.6,7.4,7.4,7.4,7.2,7.2,7.2,5.7,5.7,5.7,4.0,4.0,4.0,3.7,3.7,3.7,6.3,4.6,4.6,7.5,7.5,7.7,3.3,3.3,7.7,7.7,3.5,3.5,7.5,7.5,7.5,4.0,4.0,4.0,5.9,5.9,5.9,6.2,6.2,6.5,6.5,4.0,4.0,6.9,6.9,7.2,5.8,5.1,5.0,5.0,5.2,5.2,5.2,4.8,4.8,7.5,7.5,5.7,5.7,5.7,4.4,4.4,4.4,6.6,6.6,5.8,7.0,8.1,6.4,6.4,6.4,4.0,4.0,4.0,7.5,7.5,7.5,6.2,6.2,5.2,5.2,7.2,7.2,5.8,5.8,5.8,7.2,7.2,7.2,7.2,7.2,5.2,5.2,5.2,4.3,4.3,6.0,6.0,6.0,6.8,6.8,7.2,7.2,7.2,7.1,7.1,6.8,6.8,6.8,5.1,5.1,5.3,5.3,5.3,6.4,6.4,5.7,5.7,6.6,6.6,6.6,4.8,4.8,4.8,4.1,6.1,6.1,2.7,6.2,6.2,5.6,4.1,5.5,2.8,8.3,8.3,8.3,4.7,6.2,6.2,6.2,7.5,6.3,6.3,7.6,7.6,7.6,6.5,6.5,6.5,7.4,7.4,7.4,8.1,3.2,3.2,3.2,6.9,6.9,5.1,5.1,5.1,5.8,5.8,5.8,5.8,5.8,4.1,7.1,7.1,4.4,4.4,4.4,4.6,5.5,5.5,5.5,5.9,5.9,5.9,7.8,4.1,4.1,4.1,5.8,5.8,5.3,5.3,5.3,4.6,4.6,4.6,4.3,4.3,4.3,6.3,6.3,6.3,6.7,6.7,7.1,7.1,6.3,6.3,6.3,5.1,5.1,5.1,6.3,6.3,7.5,7.5,2.5,2.5,2.5,5.7,5.7,5.6,5.3,5.3,5.3,6.1,6.1,6.1,6.3,5.9,5.9,5.9,5.1,5.1,5.1,3.7,3.7,5.2,5.2,5.2,7.4,6.1,6.1,6.1,4.2,4.2,4.2,4.2,4.2,4.5,4.5,4.5,4.6,7.1,3.3,3.3,3.3,4.6,4.6,4.6,7.4,7.4,7.4,6.1,6.1,6.1,4.5,4.5,6.0,6.0,6.0,6.8,6.8,6.8,4.5,4.5,6.7,6.7,6.7,5.5,5.4,5.4,5.4,5.2,5.2,5.2,2.4,2.4,3.5,7.9,7.9,4.7,4.7,3.5,3.5,3.5,7.1,7.1,7.1,6.3,6.3,7.4,7.4,7.4,7.4,7.3,8.6,3.8,6.9,6.9,6.9,5.4,5.4,6.2,6.2,6.2,7.2,7.2,7.2,3.8,3.8,6.3,6.3,6.3,7.4,7.4,7.4,4.6,4.6,4.6,4.2,4.2,4.2,5.8,7.8,5.7,4.7,4.7,4.7,6.6,6.5,6.5,6.5,5.2,5.2,6.5,6.5,6.5,5.1,5.1,5.1,4.4,4.4,4.4,6.5,6.5,6.5,6.4,6.4,6.4,5.2,5.2,5.2,5.9,5.9,5.9,6.7,4.3,4.2,4.2,8.5,3.8,4.6,4.6,4.6,7.6,7.6,7.6,2.5,2.5,5.4,5.4,5.4,4.3,5.6,5.6,5.6,7.5,3.4,3.4,3.7,6.9,6.9,6.9,4.5,4.5,4.5,5.1,8.5,5.3,5.3,6.6,6.6,6.6,6.5,6.5,5.8,5.8,5.1,5.1,5.1,7.2,7.2,5.7,4.2,4.2,4.2,5.7,5.7,5.7,6.0,6.0,6.0,4.7,4.7,4.7,4.3,8.9,7.4,7.4,7.4,5.9,5.9,3.6,3.6,3.6,6.1,6.1,6.1,3.9,3.9,6.1,6.1,1.9,4.9,5.4,5.4,5.4,5.6,5.6,4.2,4.2,4.2,5.8,5.8,5.8,5.4,5.4,5.4,7.3,7.3,7.3,8.0,8.0,8.0,3.4,3.4,3.4,3.2,3.2,3.2,7.1,7.1,7.1,4.4,4.4,4.4,6.4,3.6,5.8,3.6,6.0,6.0,6.0,5.9,6.2,6.2,5.2,5.2,5.2,8.1,8.1,8.1,8.0,8.0,8.0,6.5,7.2,7.2,7.2,4.5,4.5,6.3,6.3,6.3,2.8,2.8,2.8,6.1,6.1,3.4,3.4,8.0,7.8,7.8,6.7,6.7,6.7,7.3,7.3,6.9,6.9,4.4,4.4,5.4,6.8,6.8,6.8,7.0,7.0,4.7,5.0,7.9,7.9,7.9,7.9,3.2,3.2,5.7,6.2,6.5,6.3,6.7,6.7,6.7,7.4,4.6,4.6,4.6,5.0,5.0,5.0,7.4,7.4,7.4,7.3,5.8,5.8,5.8,5.8,5.8,5.8,6.0,8.8,8.8,3.4,3.4,3.4,6.6,6.5,6.5,6.5,6.0,6.0,6.0,6.6,5.2,2.4,2.4,2.4,6.2,5.3,5.3,5.3,7.3,7.3,7.3,6.6,6.6,8.9,8.9,4.9,4.9,7.5,7.5,7.5,6.7,6.7,6.7,5.1,5.1,5.1,6.1,6.1,6.1,5.7,5.7,5.7,6.3,5.7,5.7,6.8,6.8,6.8,8.2,5.9,5.9,5.9,4.4,7.4,7.4,7.4,5.4,5.4,5.5,5.3,5.3,5.8,5.8,7.1,7.1,6.6,7.9,7.9,7.9,6.4,6.4,5.9,5.9,7.1,8.4,8.4,5.6,5.6,5.6,8.0,8.0,6.8,6.8,6.6,8.6,5.1,5.1,5.1,6.1,6.1,5.8,5.1,5.1,5.1,6.5,6.5,5.2,5.2,5.2,5.8,5.8,6.1,6.1,6.0,6.0,6.0,5.5,7.8,7.0,7.0,4.4,4.4,4.4,3.8,3.8,3.8,6.4,6.4,6.4,5.3,5.3,5.7,7.7,7.7,7.7,6.8,6.8,6.8,3.3,3.3,3.3,7.6,7.6,7.3,7.3,5.1,5.1,5.1,7.0,7.0,5.9,5.9,5.9,5.7,5.7,4.7,4.7,6.8,6.8,6.8,7.4,7.4,7.4,7.4,3.8,3.8,5.1,5.8,5.8,5.8,5.2,5.3,5.3,6.0,4.3,4.3,6.5,6.5,3.1,3.1,3.1,3.6,3.6,3.6,6.8,6.8,6.8,4.2,6.6,6.0,6.0,6.0,5.7,5.7,5.7,5.5,5.5,7.6,7.2,7.2,10.0,10.0,4.4,4.4,7.4,9.3,9.3,9.3,6.5,6.5,6.5,2.6,2.6,2.6,5.8,5.3,5.3,3.0,3.0,3.0,5.3,5.3,6.0,6.0,4.5,4.5,5.1,7.1,7.1,7.1,7.5,7.5,7.5,4.8,4.8,4.8,7.1,7.1,6.2,6.2,6.2,5.1,4.7,4.7,4.7,7.6,7.6,7.6,6.3,6.3,5.6,5.6,6.4,6.4,4.8,4.8,4.7,6.6,5.3,5.3,5.5,5.5,6.2,5.6,5.6,5.6,3.9,3.9,5.1,5.1,7.9,7.9,7.9,5.0,5.0,5.0,5.9,5.9,7.2,7.2,6.5,6.5,7.5,6.6,6.6,5.1,4.4,4.6,3.5,3.5,7.8,7.8,7.8,7.0,5.7,5.4,5.4,3.1,3.1,3.1,3.7,6.3,6.3,6.3,8.6,5.4,5.4,4.5,5.8,5.8,5.8,8.6,8.6,2.3,2.7,2.7,2.7,7.6,7.6,7.6,4.6,3.7,3.7,3.7,5.3,5.3,6.2,6.2,6.2,6.2,6.3,6.3,6.3,4.6,4.6,4.6,3.2,8.0,8.0,8.0,5.4,5.4,7.0,7.0,7.0,3.6,3.6,7.7,7.7,7.7,5.1,5.0,6.5,6.4,6.4,6.4,5.7,5.7,6.1,6.1,6.1,6.9,6.9,6.9,7.3,7.3,7.3,5.3,5.3,5.3,6.8,6.8,6.8,4.9,4.9,4.9,7.1,7.1,7.1,6.6,6.6,6.6,7.6,4.1,4.1,4.1,5.0,5.0,7.1,7.1,7.1,5.6,5.6,5.6,7.7,8.0,6.3,6.2,6.2,6.7,6.7,6.8,6.8,4.3,4.3,4.8,4.8,4.8,6.3,6.3,6.3,6.6,6.6,5.2,5.2,5.2,5.2,7.2,5.8,7.4,7.4,7.0,7.0,7.0,7.3,6.5,6.5,5.3,5.3,5.3,4.2,4.0,4.0,4.0,4.5,4.5,6.5,6.5,6.5,5.1,5.1,5.1,4.7,6.7,6.7,6.8,4.1,4.1,7.8,7.2,7.2,7.2,3.7,3.7,5.5,5.5,5.5,5.1,5.4,2.8,7.7,8.1,5.3,5.3,5.3,5.2,5.2,5.2,6.0,6.0,6.0,7.0,6.5,6.5,6.5,6.6,6.6,6.6,7.7,6.8,6.8,5.7,5.7,5.2,5.2,6.9,7.3,7.3,5.2,6.5,6.5,6.5,7.5,7.5,5.9,5.9,5.9,6.6,6.6,6.6,6.2,6.2,6.5,6.5,3.6,3.6,3.6,6.4,6.4,6.4,8.0,8.0,8.0,7.2,7.2,6.7,6.7,6.7,7.1,7.1,7.1,7.1,7.6,7.6,7.6,6.8,6.8,6.8,7.4,7.4,6.0,6.0,6.0,6.0,6.9,6.9,6.9,4.2,8.1,8.1,8.1,5.9,5.9,6.2,6.2,6.2,4.2,7.4,7.4,7.3,7.3,7.3,7.4,7.4,7.4,7.2,4.8,4.8,4.8,6.4,6.4,6.4,3.6,3.6,3.6,3.5,3.5,4.9,5.1,5.4,4.9,4.9,6.1,6.1,6.8,6.8,6.8,7.1,7.1,8.2,8.2,5.2,5.2,4.1,4.1,4.1,6.2,7.3,7.3,7.3,5.3,5.3,5.3,5.8,5.8,5.8,5.2,5.2,5.2,8.4,5.8,5.8,5.8,7.2,5.4,5.4,5.4,5.2,5.2,5.2,6.8,6.8,6.8,4.8,6.5,6.5,6.5,6.2,6.2,6.2,5.1,5.1,5.1,3.3,2.4,4.8,4.8,7.7,7.7,5.6,5.6,7.7,8.1,8.1,4.7,4.7,4.7,2.8,4.3,4.2,5.4,5.4,3.5,4.7,4.7,4.7,7.0,5.4,5.4,5.4,6.5,6.5,6.9,5.9,5.9,5.9,2.7,6.7,8.5,6.5,6.5,5.7,3.6,3.6,3.6,7.9,6.7,6.9,6.9,7.2,6.2,6.2,6.2,6.6,6.6,5.5,7.2,7.2,5.3,5.3,6.6,6.1,6.7,6.7,6.7,6.5,6.5,3.5,3.5,3.4,5.9,5.9,5.9,7.2,6.6,7.5,7.5,7.5,6.8,6.8,3.8,3.8,3.8,6.4,6.4,7.2,7.2,7.2,7.4,7.4,7.6,7.6,7.2,6.1,3.6,3.6,4.4,4.4,5.6,4.8,7.0,7.0,4.7,5.8,5.8,8.0,8.0,4.1,3.8,3.8,4.6,4.6,4.6,8.8,4.9,7.6,7.6,7.6,3.9,5.2,4.7,4.7,5.5,7.4,6.6,5.4,5.4,5.4,5.6,5.6,5.8,5.8,5.8,6.4,6.4,6.4,5.0,3.5,6.7,6.7,7.0,7.0,6.4,6.4,6.9,6.9,6.9,3.5,3.5,3.5,5.6,5.6,5.6,6.9,6.9,6.9,6.1,6.3,6.3,7.3,7.3,5.3,5.3,5.3,6.6,6.6,6.6,5.1,5.1,5.1,5.1,3.9,3.9,3.9,6.5,6.5,5.6,7.3,7.3,3.2,3.2,3.2,7.1,5.0,6.0,6.0,6.0,5.7,5.7,5.7,5.3,5.3,6.0,6.0,6.2,6.8,6.8,6.8,5.0,5.0,6.0,6.0,6.0,4.1,4.1,6.6,2.5,2.5,2.5,7.5,7.5,7.5,6.2,6.2,6.2,6.5,6.5,6.5,7.7,7.7,3.9,6.1,6.1,6.1,7.0,7.0,7.0,4.1,7.3,4.6,4.6,4.6,7.1,7.1,4.3,4.3,4.3,6.1,7.5,6.4,6.4,6.4,6.3,4.5,5.4,5.4,5.4,3.2,7.6,7.6,5.8,5.8,5.8,4.3,3.4,3.4,3.4,6.7,6.7,6.7,6.5,6.5,3.8,7.1,7.1,7.1,6.8,6.9,5.3,5.3,4.7,4.7,6.4,6.4,8.0,6.5,6.5,6.5,5.6,5.6,5.6,5.5,5.3,5.3,4.5,6.7,6.7,3.5,3.5,5.3,5.3,5.3,7.1,7.1,7.1,6.8,6.8,7.1,7.1,6.8,5.7,5.7,5.7,7.0,7.0,7.0,5.3,5.3,4.2,6.2,6.2,6.2,4.8,4.8,7.3,7.3,7.3,5.9,5.9,5.9,2.7,2.7,5.5,5.5,5.5,3.3,3.3,3.3,6.6,6.6,6.6,7.4,7.4,7.4,5.8,4.4,4.4,4.4,9.0,6.7,6.7,4.7,7.9,4.3,4.3,8.0,8.0,8.0,4.8,4.8,7.0,7.0,7.0,3.6,3.6,3.6,5.3,3.6,3.6,7.2,7.2,7.2,6.4,6.4,6.4,4.2,4.2,4.2,5.4,4.3,4.3,4.3,4.0,4.0,4.0,7.8,7.8,7.8,6.8,6.8,6.8,4.8,6.6,6.6,6.6,5.5,5.5,5.5,6.7,6.7,7.4,4.2,3.3,3.3,3.3,5.5,5.5,5.5,7.0,3.8,3.8,3.8,6.3,6.3,6.3,5.8,6.6,2.5,2.5,2.5,7.3,7.3,6.5,6.5,4.8,4.8,4.8,6.6,6.6,6.6,6.7,6.7,6.7,5.8,5.8,5.8,2.5,2.5,5.5,5.5,8.6,8.6,7.2,3.9,6.0,6.0,6.0,6.5,6.5,6.6,6.6,6.6,5.0,5.0,6.1,6.9,6.9,6.9,6.7,6.7,6.9,6.9,6.9,7.0,7.2,7.2,7.2,6.9,4.8,6.8,6.8,6.8,2.7,2.7,2.7,1.6,4.8,5.9,5.7,5.7,5.2,5.2,7.7,4.9,4.9,4.9,6.1,6.1,3.3,3.3,3.3,6.6,6.4,5.2,5.2,5.2,4.9,4.9,7.4,7.4,7.4,5.3,8.1,8.1,3.2,3.3,3.3,3.3,4.0,4.0,4.0,6.5,6.5,6.5,4.2,4.2,4.2,5.5,5.5,4.8,4.8,4.8,7.5,7.5,5.4,5.4,5.4,6.2,6.2,6.2,4.9,4.9,4.9,7.4,5.5,5.5,5.5,4.8,6.3,6.3,4.4,4.4,7.0,7.0,5.7,7.1,7.1,7.6,7.6,7.6,5.5,6.7,5.5,7.2,7.2,6.2,6.2,7.4,7.4,7.4,7.5,7.5,7.5,4.7,4.7,4.7,6.2,4.6,4.4,4.4,5.3,5.3,5.3,6.4,3.1,6.9,8.0,6.1,6.1,6.1,6.5,5.7,5.7,7.2,7.2,7.2,5.4,5.0,5.0,5.0,4.2,4.2,4.2,4.1,5.8,5.6,5.6,5.6,4.4,5.5,5.5,6.0,6.0,7.5,7.5,7.5,5.9,5.9,5.9,5.9,4.3,4.3,6.3,6.3,4.5,4.5,5.8,4.5,4.5,4.5,6.7,6.7,4.8,6.7,7.1,7.9,7.9,6.8,5.6,5.6,6.7,6.7,6.7,6.3,6.3,6.3,6.5,6.5,6.3,6.3,7.4,6.3,6.3,4.3,4.3,4.3,6.8,6.8,7.5,6.4,6.4,6.4,5.9,5.9,3.3,3.3,3.3,5.0,5.0,5.0,6.1,6.1,6.1,4.1,4.1,4.1,7.3,7.3,7.3,7.3,2.2,2.2,2.2,7.1,7.1,7.1,7.4,7.6,7.6,5.4,5.4,5.4,8.2,6.0,6.0,6.0,6.2,6.2,6.2,5.9,5.9,5.9,5.4,5.4,5.4,8.6,7.4,7.4,5.5,5.5,6.8,7.0,6.5,6.5,6.5,7.1,7.1,7.1,5.3,5.3,5.3,5.6,5.6,3.8,3.2,3.2,5.1,5.1,6.2,6.2,6.2,4.9,4.9,6.2,6.8,6.8,6.8,2.5,2.5,5.4,5.6,6.6,7.4,7.4,6.4,6.4,6.2,6.2,6.5,6.5,6.5,5.8,5.8,5.8,7.1,6.5,6.5,6.5,4.4,4.4,5.8,8.0,8.0,8.0,5.5,5.5,5.5,7.0,7.0,4.4,6.9,6.9,7.8,7.8,7.8,5.4,6.3,3.9,4.7,4.7,4.7,6.9,6.9,6.9,7.8,3.2,3.2,3.2,6.8,7.7,7.7,7.7,6.8,6.8,6.8,6.1,7.4,6.5,6.5,7.6,7.6,7.6,5.5,5.5,3.8,3.8,3.8,5.4,3.2,7.6,7.6,7.6,7.7,7.7,7.4,7.4,7.4,7.7,7.7,6.8,6.8,6.8,7.7,7.7,2.7,6.1,6.1,5.2,5.2,5.2,4.3,4.3,6.2,6.2,8.3,8.3,7.5,7.5,7.5,4.9,4.9,4.0,4.0,3.9,3.9,3.9,7.7,9.1,5.5,5.9,9.1,6.3,6.3,6.3,5.4,4.9,5.9,5.9,2.9,2.9,2.9,7.6,7.6,4.2,4.2,4.2,6.6,6.6,6.6,6.3,6.3,6.3,7.2,7.2,7.2,4.3,4.3,4.3,7.3,7.3,7.3,5.8,7.2,7.2,3.9,3.9,3.9,6.0,6.0,6.0,6.0,6.0,6.0,5.0,5.0,5.0,6.9,6.9,7.6,7.6,5.6,5.6,6.3,6.3,6.3,4.3,4.3,4.3,5.7,5.1,5.3,5.3,5.3,3.3,3.3,6.2,6.6,5.1,7.5,7.5,8.2,5.4,8.0,8.0,6.3,4.2,5.4,5.4,5.2,5.2,7.1,5.5,5.5,6.7,6.7,6.7,7.2,7.2,7.2,8.1,8.1,8.1,8.1,8.1,8.1,4.9,4.9,7.0,7.0,6.7,7.4,7.4,7.4,4.6,4.6,4.6,5.4,5.4,5.4,4.2,4.2,4.2,7.5,7.5,5.0,5.0,5.0,5.6,7.0,3.1,3.1,5.3,5.3,6.1,6.1,6.4,6.4,7.4,7.4,7.4,6.9,6.9,6.2,3.5,3.5,5.5,5.5,5.5,8.0,8.0,4.7,4.7,4.7,7.0,7.0,7.0,6.6,7.0,7.0,7.0,8.5,3.3,3.3,3.3,4.8,7.7,7.7,7.7,3.9,3.9,6.8,6.8,6.8,7.2,7.2,6.5,8.2,8.2,8.2,7.7,7.7,6.2,6.2,4.1,4.1,5.1,5.1,5.1,5.0,5.0,5.0,5.2,5.4,3.8,7.6,4.9,4.9,3.3,3.3,3.3,6.7,7.9,7.9,7.1,7.1,7.0,7.0,7.0,2.4,8.1,8.1,8.1,7.2,3.2,3.2,5.8,5.8,3.9,3.9,7.3,6.9,6.9,6.7,4.5,4.5,4.5,7.6,7.6,6.5,6.5,6.5,7.0,7.0,6.4,6.4,6.4,6.3,6.5,4.1,4.1,4.1,4.9,4.9,4.9,6.5,6.5,4.6,4.6,4.6,6.5,6.5,5.5,5.5,5.5,7.6,7.6,5.3,5.3,5.3,6.5,6.5,6.4,6.4,6.4,5.9,3.9,3.9,3.9,8.6,7.3,6.8,6.8,5.2,5.2,6.8,6.8,5.3,5.3,5.3,3.7,4.6,5.5,7.6,7.6,2.2,2.2,6.5,6.5,6.5,6.0,5.9,5.9,5.9,6.7,6.5,6.5,6.5,5.7,5.7,5.7,5.0,5.0,6.2,6.2,6.4,6.4,6.4,4.3,4.3,6.2,6.2,7.6,6.4,7.1,7.1,7.1,7.0,7.0,7.0,7.0,7.0,7.0,6.2,8.1,4.8,4.8,6.6,6.6,6.6,7.5,7.5,7.5,7.2,7.8,7.8,7.8,7.2,7.2,7.2,6.3,6.3,7.6,7.6,7.6,6.6,5.8,5.8,5.8,7.2,6.8,6.8,6.9,6.9,6.9,6.8,6.8,2.2,2.2,2.2,7.6,7.6,6.9,6.9,7.2,7.2,7.2,5.7,5.7,7.1,6.2,5.5,5.5,5.5,6.4,6.4,4.1,4.6,6.2,6.2,6.2,7.1,7.1,5.7,5.7,4.0,5.6,5.6,7.8,5.8,4.3,3.8,4.6,6.6,6.6,5.6,5.6,5.6,6.6,6.6,6.6,8.0,7.0,5.6,4.4,4.4,4.4,5.5,5.5,5.5,7.1,7.1,7.1,4.2,4.2,2.8,2.8,7.2,7.2,7.0,7.0,6.4,6.4,7.4,7.4,4.4,4.4,4.4,5.7,4.9,4.9,4.9,6.4,6.4,6.4,4.4,5.5,6.2,6.2,6.2,4.8,4.8,4.8,8.3,8.3,8.3,7.1,7.1,6.3,6.3,6.6,6.6,6.0,7.3,7.3,7.3,3.8,3.8,3.8,6.7,6.7,5.9,5.9,5.9,7.5,7.5,7.5,4.8,4.8,5.0,5.0,5.0,6.1,6.1,6.1,7.2,6.2,6.2,6.2,7.0,7.0,6.2,6.1,5.4,7.5,7.5,2.7,5.8,5.8,6.6,6.6,6.6,6.9,6.9,6.9,6.5,5.4,5.4,5.8,5.8,5.8,6.3,6.3,6.3,6.2,6.2,4.4,5.7,5.7,3.9,3.9,3.9,3.2,3.2,3.2,7.6,6.9,6.9,6.0,6.0,5.4,5.8,5.8,6.2,6.3,6.3,6.1,6.1,6.1,6.7,6.7,7.6,7.6,8.0,7.9,8.1,8.1,8.1,8.4,8.7,5.9,6.3,6.3,5.0,5.0,6.7,6.7,6.7,4.5,4.5,4.5,8.3,2.7,2.7,6.2,8.1,8.1,8.1,5.5,5.5,4.1,4.1,4.1,3.7,3.7,3.7,5.4,4.1,4.1,4.1,3.1,3.1,6.5,6.5,5.2,5.2,5.2,4.5,4.5,4.5,3.4,6.6,6.6,4.1,4.1,4.1,4.1,5.0,5.0,4.6,4.6,7.0,7.0,7.0,5.2,6.8,6.8,6.8,7.8,7.8,7.8,4.0,4.0,4.0,6.4,6.4,5.4,6.9,5.6,5.6,5.6,8.0,8.0,8.0,4.9,6.2,6.2,4.3,4.3,4.3,6.8,5.9,5.9,5.5,6.0,6.0,7.8,7.8,7.8,7.0,7.0,7.0,5.5,4.9,4.9,4.9,7.4,7.4,6.5,6.7,6.2,6.2,4.1,4.1,4.1,1.7,1.7,5.2,5.2,5.2,7.7,5.9,5.9,5.9,6.6,6.6,6.6,6.3,6.3,6.3,7.6,7.6,5.9,5.9,6.9,6.9,6.9,2.1,2.1,4.4,4.4,4.4,7.2,7.2,7.2,6.5,6.5,6.1,6.1,6.1,6.1,5.7,5.7,5.7,3.5,5.5,5.5,5.5,4.2,4.2,4.2,4.4,4.4,4.4,7.7,5.8,4.6,4.6,4.6,6.7,6.7,6.7,7.4,7.4,7.4,7.0,7.0,7.0,6.2,6.6,6.6,6.6,6.4,6.6,7.4,7.4,7.4,4.7,4.7,4.7,6.0,6.0,6.0,6.3,6.3,6.3,7.8,7.8,7.8,7.4,7.4,6.4,6.4,6.4,8.4,8.4,8.4,5.2,6.3,6.3,6.5,6.5,5.9,3.9,3.9,3.9,4.6,4.6,7.6,7.6,7.6,7.2,7.2,7.2,6.1,4.3,4.3,6.4,6.4,3.6,6.7,6.7,6.7,6.1,6.1,6.7,6.7,6.7,3.3,3.3,3.3,6.1,6.1,6.1,6.7,6.7,6.7,5.7,5.7,5.7,5.9,6.5,6.5,6.5,8.4,8.4,8.4,3.3,3.3,5.3,7.4,7.4,6.3,6.3,6.9,6.3,6.3,6.3,3.8,3.8,3.8,6.1,6.5,6.5,6.8,6.8,6.8,6.2,6.2,6.2,4.4,6.2,6.2,5.6,5.6,5.6,5.6,5.6,5.6,7.4,7.4,7.4,6.1,6.1,3.6,3.6,7.1,7.1,3.3,3.3,3.3,6.8,6.8,6.8,5.0,5.7,5.7,5.7,6.1,6.1,7.1,7.1,4.0,6.0,6.0,6.0,5.2,3.1,7.0,7.0,6.0,6.0,6.0,7.5,7.5,7.5,4.7,4.7,4.7,5.1,5.1,5.1,8.2,8.2,8.2,5.8,5.8,5.8,7.0,7.0,7.0,5.2,5.2,5.2,4.7,4.7,4.7,5.1,5.1,5.1,5.4,5.4,8.1,8.1,8.1,6.5,6.5,7.4,6.2,6.2,7.5,7.5,7.5,3.6,3.6,3.6,6.3,6.3,6.3,7.6,7.6,4.9,4.9,5.7,5.7,7.1,7.3,7.3,7.3,7.6,7.6,5.2,5.2,6.3,6.3,4.3,4.3,5.4,5.4,5.4,6.2,6.2,5.2,5.2,5.2,6.5,6.5,6.5,4.0,4.0,4.0,4.4,4.4,4.4,5.6,5.6,5.6,7.8,7.8,7.8,7.2,7.2,7.2,4.3,4.3,6.7,6.7,6.7,5.4,5.4,5.4,1.9,1.9,1.9,4.8,7.3,7.9,1.8,1.8,1.8,2.9,2.9,2.9,6.8,6.8,6.8,3.6,3.4,3.4,3.4,6.9,6.9,4.3,4.3,4.9,4.9,4.9,3.8,7.6,7.6,5.6,6.8,7.0,5.8,5.4,7.4,7.4,7.4,8.0,8.0,7.2,7.2,7.2,7.5,7.5,7.9,7.9,7.6,7.6,6.2,6.2,6.2,6.1,6.1,6.1,5.3,5.3,5.3,4.3,6.9,6.9,6.9,6.3,6.3,6.3,3.7,3.7,6.0,6.2,6.2,6.2,3.7,3.7,3.4,3.4,3.4,6.1,6.1,6.3,4.6,4.6,2.9,2.9,2.9,2.3,2.3,4.5,4.5,4.5,7.0,7.0,7.0,5.8,5.8,5.8,7.1,7.1,7.1,7.3,7.3,3.3,6.4,6.4,3.1,6.8,6.8,6.8,5.1,5.1,5.1,6.5,6.5,6.6,6.6,6.6,3.7,3.7,7.6,7.6,7.6,6.5,6.5,6.5,3.1,2.9,4.7,5.8,5.8,7.6,4.7,4.7,5.3,5.3,5.3,6.5,7.4,7.4,7.4,6.3,6.3,6.3,6.7,1.7,1.7,1.7,5.4,5.4,5.4,6.6,6.8,6.8,6.8,7.2,7.2,7.2,3.7,8.0,5.8,6.0,6.7,6.7,6.7,3.9,3.9,3.9,3.4,3.4,3.4,7.5,7.5,5.7,5.7,5.7,4.5,4.5,4.5,5.9,5.9,5.9,4.7,4.7,4.7,6.7,6.7,6.7,5.4,6.4,6.4,6.4,7.6,7.6,6.8,6.9,6.1,6.1,6.1,3.6,7.3,4.8,4.8,7.1,8.1,8.1,8.1,6.2,6.2,7.5,7.5,7.5,2.3,5.0,5.0,5.0,5.6,5.6,5.6,5.1,5.1,6.7,6.7,6.7,5.8,5.8,7.2,6.9,6.9,6.9,6.2,6.2,6.2,7.7,7.7,7.7,5.7,5.7,4.2,4.2,4.2,4.3,4.3,4.3,2.9,2.9,2.9,5.7,5.7,5.7,7.2,7.2,3.5,5.9,5.9,5.9,4.8,4.8,4.8,6.8,6.8,6.4,6.4,6.4,6.3,6.3,6.3,2.8,2.8,2.8,3.3,3.3,3.3,9.0,3.9,9.3,5.4,5.4,5.4,5.5,5.9,7.6,7.6,3.2,8.0,8.0,7.7,5.2,5.2,5.2,4.5,7.0,7.0,6.8,6.8,6.8,4.9,4.6,4.6,7.0,8.4,5.1,8.5,4.5,4.5,4.5,6.9,6.9,6.4,6.4,6.4,6.7,7.6,3.5,3.5,3.5,6.5,6.5,4.6,4.6,6.6,6.6,6.6,7.0,6.8,6.8,6.7,4.6,4.6,4.6,6.4,8.7,5.6,6.1,7.4,7.4,6.8,6.8,6.8,5.2,5.2,5.2,7.8,5.6,5.6,5.6,4.2,4.2,4.2,5.0,5.0,7.7,7.7,7.5,7.5,7.4,7.4,7.7,7.7,7.7,6.9,6.9,3.9,3.9,3.9,6.8,6.8,6.8,5.2,5.2,5.2,4.2,4.2,4.2,6.9,6.6,6.6,6.6,3.9,4.3,4.3,2.6,2.6,2.6,3.5,4.9,4.9,4.9,6.1,6.1,6.1,6.2,6.2,6.8,6.8,6.8,6.3,6.9,6.9,6.9,5.8,5.8,5.8,6.8,6.0,6.0,5.7,5.7,5.7,3.3,3.3,3.3,5.5,5.5,5.5,7.2,2.7,2.7,2.7,6.5,6.5,6.5,7.7,6.4,6.4,4.8,4.8,4.8,5.7,7.5,7.5,7.5,6.5,6.5,6.5,6.6,6.6,4.0,4.0,4.0,5.4,5.4,5.4,3.7,3.7,6.3,7.1,7.1,7.1,6.2,6.2,6.2,6.2,6.2,6.4,6.4,6.4,5.7,5.7,5.4,7.1,7.1,7.2,7.2,7.2,7.2,6.4,6.4,6.4,6.0,6.0,4.9,7.6,7.6,7.6,6.3,6.3,7.7,7.7,8.2,8.2,5.8,3.1,3.1,8.2,7.1,7.1,5.6,6.5,6.5,6.5,5.9,5.9,5.7,7.1,7.2,7.2,6.2,6.2,6.2,6.8,6.8,6.8,5.1,6.7,2.8,2.8,2.8,5.2,5.2,5.2,5.1,5.8,5.8,5.8,5.1,5.1,5.1,5.7,5.7,5.7,4.8,4.4,3.5,3.5,6.5,6.5,3.4,3.4,6.9,6.0,6.0,6.0,6.8,2.9,7.5,7.5,7.5,6.7,6.7,6.7,7.3,7.3,7.3,4.5,4.5,8.6,8.6,5.8,6.5,6.5,6.5,1.1,1.1,7.1,7.1,7.1,7.2,6.6,6.6,4.5,4.5,8.4,8.4,7.2,7.2,6.1,6.4,5.6,5.6,6.0,6.0,6.0,6.6,6.6,7.2,7.2,7.2,4.4,4.4,4.4,6.8,6.8,6.8,4.7,4.8,4.8,4.8,8.3,8.3,5.7,5.7,4.2,4.2,4.2,6.1,6.1,6.1,6.7,6.7,7.1,7.1,7.1,4.1,6.6,6.6,6.6,5.4,5.4,5.8,5.8,5.8,5.8,8.0,8.0,6.2,6.2,6.2,6.4,5.1,5.1,5.1,7.6,7.6,3.6,5.6,7.3,6.9,6.6,6.6,6.6,6.2,7.5,7.1,7.1,6.7,6.7,6.7,6.9,6.9,6.9,5.4,6.7,7.8,7.8,7.8,7.4,7.4,7.4,5.8,5.8,5.8,6.2,6.2,6.1,6.1,6.1,6.0,6.0,5.5,5.5,5.5,4.8,4.8,4.8,5.4,5.4,3.2,3.2,4.8,4.8,4.8,7.4,7.4,7.4,6.9,6.3,6.3,6.3,5.4,5.4,7.5,7.5,7.5,7.3,7.3,7.3,4.2,4.2,5.6,5.6,6.8,6.8,6.8,6.7,3.2,3.2,7.0,7.0,6.9,6.9,6.2,6.2,6.2,7.0,7.7,7.7,7.7,6.2,6.2,6.2,5.0,5.0,6.4,6.4,6.6,6.6,7.3,7.9,8.1,6.5,6.5,6.7,2.8,2.8,2.8,5.8,5.8,6.7,6.7,7.1,7.1,6.8,3.3,3.3,7.2,5.2,5.2,5.2,7.2,6.8,4.5,4.5,4.5,7.3,7.3,7.3,6.4,6.4,7.3,7.3,4.7,4.7,4.7,7.9,7.9,7.9,4.1,4.1,4.1,6.6,5.2,8.1,8.1,6.8,6.8,6.9,6.9,6.2,7.5,3.9,3.9,7.0,7.6,7.6,7.6,4.9,4.9,4.9,6.7,6.7,6.7,4.8,4.8,5.3,5.4,5.4,6.7,6.3,6.3,5.0,5.0,5.3,5.3,5.3,6.8,6.8,7.2,7.2,7.2,8.2,8.2,8.2,5.9,5.9,5.9,5.9,7.2,7.2,8.2,7.1,7.1,5.2,5.2,5.7,5.7,5.7,4.0,4.0,7.2,7.2,3.8,7.2,7.2,6.8,6.8,6.8,5.8,5.8,5.8,3.8,4.7,6.0,6.2,6.1,6.1,6.1,6.5,6.5,6.5,6.3,6.3,7.6,7.6,7.6,6.3,6.3,5.5,7.6,7.6,7.6,6.2,6.2,2.5,5.3,6.0,6.0,4.1,4.1,4.1,6.5,3.8,3.8,7.5,7.8,7.8,9.3,9.3,8.1,8.1,8.1,6.8,6.8,7.5,7.5,6.8,6.8,6.8,6.8,4.4,4.4,4.4,6.8,6.8,7.7,7.7,7.7,6.9,6.8,6.8,5.3,5.2,4.1,4.1,4.1,5.1,6.9,5.6,5.6,7.6,7.6,3.5,4.1,4.1,4.1,4.9,6.0,6.0,7.1,7.1,7.1,3.5,3.5,3.5,5.4,5.4,5.4,5.1,5.1,6.6,6.6,6.6,6.2,6.2,6.2,5.6,5.6,5.6,7.4,7.1,7.1,7.1,7.2,7.2,7.9,7.9,7.9,6.8,6.8,6.8,6.3,6.3,4.6,8.2,8.2,6.9,6.9,6.9,7.4,5.0,5.0,7.1,5.4,5.4,5.4,7.2,7.2,7.2,4.3,4.8,4.9,4.9,4.9,2.3,2.3,2.3,3.2,3.2,6.8,6.8,6.0,6.0,7.7,7.7,7.7,2.6,2.6,2.6,6.7,6.1,6.1,6.3,6.3,6.3,3.5,3.5,6.5,6.5,6.5,6.6,6.6,6.8,6.8,6.8,5.2,5.2,5.2,7.2,7.2,7.2,6.5,5.6,5.6,5.6,5.5,5.5,5.5,6.0,6.0,6.0,4.3,5.5,7.4,7.4,7.4,6.6,6.6,6.6,7.1,7.1,5.8,4.9,4.9,4.9,6.8,4.6,4.6,4.6,5.5,5.5,4.9,7.0,7.0,7.0,6.7,6.7,6.4,6.4,6.4,3.5,3.5,4.6,4.6,6.1,6.1,6.9,6.9,6.9,7.2,6.1,6.1,7.3,7.3,7.3,7.4,7.2,3.9,6.5,4.2,8.5,8.5,5.4,5.4,5.4,4.0,5.1,4.5,4.5,4.5,3.6,3.6,6.6,6.6,3.8,3.8,3.8,4.6,4.6,4.6,5.7,5.7,5.7,5.6,5.6,7.0,4.9,5.6,5.6,4.6,4.6,8.1,7.0,7.0,4.8,4.8,4.2,8.1,8.1,8.1,3.9,3.9,3.9,4.6,4.6,4.6,4.7,4.7,4.7,6.2,6.2,6.2,4.2,4.2,6.2,6.2,5.2,7.3,7.3,6.5,6.5,6.5,8.2,8.2,8.2,7.7,7.7,7.7,6.8,5.0,7.1,7.1,7.1,5.9,5.9,5.9,7.2,7.2,7.2,6.6,5.7,2.3,2.3,2.3,6.4,6.4,6.4,3.4,3.4,6.5,3.6,3.6,3.6,7.3,7.3,6.3,6.3,8.0,8.0,8.0,7.5,7.5,7.5,7.0,7.0,7.0,7.2,4.8,4.8,8.2,8.2,7.0,7.0,7.0,6.4,6.4,6.4,6.6,6.6,5.0,5.0,6.3,6.3,6.9,6.9,5.8,5.8,4.5,6.0,6.0,6.0,7.9,7.9,7.9,6.4,5.1,5.1,5.1,7.2,6.6,6.2,6.2,7.5,7.3,6.4,6.4,6.4,3.9,3.9,4.5,4.5,2.9,6.2,6.6,6.6,4.0,7.3,7.3,7.3,2.5,2.5,2.5,7.1,7.1,8.5,8.5,5.6,5.6,5.6,5.1,5.1,5.1,9.3,9.3,9.3,5.1,5.1,6.5,6.5,5.0,5.0,5.7,5.7,5.7,5.6,5.6,6.8,6.8,6.8,5.5,5.5,5.7,5.7,5.7,5.1,5.1,5.1,4.2,4.2,4.2,7.7,7.7,6.2,6.2,6.2,3.4,5.8,5.1,5.1,6.5,6.5,7.5,7.5,7.5,5.5,6.9,6.3,6.3,6.3,5.3,6.6,6.6,6.6,7.1,7.1,6.5,6.5,6.5,6.5,6.5,5.9,5.9,5.9,4.3,4.3,4.3,7.4,7.4,7.4,7.2,7.2,6.1,6.1,6.1,5.9,5.9,6.9,6.2,6.2,6.2,7.0,7.0,7.0,6.0,5.1,5.1,5.1,5.5,5.5,2.8,4.0,4.0,3.5,3.5,3.5,5.3,5.3,8.1,8.1,8.1,6.0,6.0,4.8,4.8,7.2,7.2,6.7,6.7,6.7,7.1,7.1,9.1,7.4,7.4,7.4,5.6,6.3,6.3,6.1,6.1,6.1,5.8,5.6,5.6,5.6,7.1,7.1,5.8,5.8,5.7,5.7,5.7,5.3,5.3,4.7,6.1,5.9,8.0,8.0,8.0,2.9,2.9,2.9,6.5,6.5,4.9,4.9,4.9,7.8,7.8,4.6,4.6,8.5,8.5,4.4,4.4,7.8,7.8,7.8,6.3,6.3,6.3,7.5,7.5,7.5,8.2,8.2,6.2,6.2,5.6,6.2,6.2,5.8,5.8,4.9,4.9,4.9,7.5,7.6,7.6,3.6,3.6,5.2,3.7,3.7,3.7,6.3,6.9,6.9,6.9,6.5,5.3,5.3,5.3,2.2,2.2,2.2,2.6,2.6,2.6,6.7,6.7,6.7,5.4,6.5,6.5,6.5,8.2,8.2,8.2,7.2,3.7,3.7,3.7,4.0,4.0,4.0,6.7,6.7,6.7,5.7,5.7,5.7,4.8,4.8,6.1,6.4,6.4,6.8,6.8,7.3,7.3,7.1,7.1,3.2,3.2,3.2,5.6,5.6,7.0,7.0,7.0,6.2,6.2,6.2,7.1,7.1,6.9,6.3,6.3,6.3,5.4,5.4,5.9,5.9,5.9,5.3,5.3,5.3,6.6,6.8,6.8,6.8,5.4,5.4,5.4,6.1,6.1,5.6,5.6,4.5,2.5,2.5,2.5,8.6,6.5,6.8,4.3,4.3,4.3,5.9,8.0,8.0,1.9,1.9,1.9,4.6,4.6,4.6,5.5,5.5,4.5,4.5,4.5,8.0,6.0,6.0,6.4,6.4,6.4,6.8,6.8,6.8,6.7,6.7,6.7,5.7,5.7,5.9,7.3,7.3,7.3,4.1,4.1,4.1,6.3,6.3,6.3,5.4,5.4,5.4,4.5,4.5,7.3,8.2,6.5,6.8,6.3,6.3,6.7,5.5,5.5,5.5,6.7,7.4,7.4,7.4,6.1,6.1,3.4,3.4,3.4,4.2,4.2,8.7,5.6,5.6,5.6,6.7,6.7,6.7,7.3,7.3,4.8,4.8,4.5,4.5,4.5,4.4,7.2,7.2,7.2,4.7,5.6,4.7,4.7,5.7,5.7,5.7,5.4,5.4,5.4,5.3,5.3,7.5,7.5,6.6,6.6,6.7,6.7,6.7,5.0,5.0,5.0,5.7,5.7,6.1,4.6,4.6,4.6,5.4,6.7,7.2,7.2,7.2,4.7,4.7,4.7,4.3,4.3,6.6,6.6,5.5,5.5,5.5,5.4,5.4,5.4,8.2,8.2,8.2,4.0,4.0,4.4,4.4,6.8,7.6,7.3,7.3,7.3,5.1,5.6,5.6,5.6,8.4,8.4,6.0,6.0,6.0,7.6,7.6,7.6,8.7,7.5,7.5,7.5,6.8,6.8,6.8,7.6,7.6,7.6,7.2,7.2,6.0,6.3,6.3,4.2,4.2,4.2,6.5,6.5,6.5,7.3,5.5,6.9,6.9,6.9,4.5,4.5,4.5,7.6,4.6,4.6,4.6,5.0,5.0,7.2,7.2,8.1,3.8,5.6,5.6,5.6,3.8,4.5,4.5,4.5,3.9,3.9,3.9,6.9,6.9,4.4,4.4,4.4,2.6,2.6,7.4,7.1,7.1,7.1,5.2,5.2,6.9,6.9,6.3,7.3,7.3,7.3,6.4,6.4,6.4,7.3,7.3,7.3,4.0,4.0,6.8,5.8,5.8,5.8,6.9,6.9,4.1,4.1,4.1,6.3,6.3,6.3,6.4,7.5,2.6,2.6,6.3,6.3,6.3,5.2,5.2,6.4,6.4,2.6,2.6,2.6,7.9,7.9,7.9,7.7,7.7,7.7,5.9,6.3,6.3,6.3,2.5,2.5,2.5,5.5,5.5,5.5,5.4,1.8,1.8,3.0,3.0,6.0,6.0,6.0,4.9,4.0,2.6,2.6,2.6,7.2,7.2,4.3,5.1,7.4,7.4,7.4,2.4,5.3,5.3,5.3,5.3,5.3,5.3,7.2,7.2,6.2,6.2,6.2,5.8,5.8,5.8,5.9,6.2,6.2,6.1,3.1,3.1,7.0,5.7,5.7,5.7,6.7,5.0,5.4,5.4,5.4,4.7,4.7,4.7,5.3,5.3,6.8,6.8,6.8,6.2,4.0,4.0,4.0,7.0,7.0,7.0,3.9,3.9,3.9,5.2,5.2,5.9,5.9,5.9,5.7,5.7,5.6,5.6,5.6,6.1,6.1,4.7,7.9,7.9,6.8,6.7,6.7,6.7,4.2,4.8,4.8,4.8,6.3,6.3,6.0,6.0,7.3,7.1,7.1,5.7,6.8,6.8,6.8,6.9,6.9,6.9,6.4,6.4,6.4,6.1,6.1,6.1,7.4,7.4,7.4,5.6,5.6,5.4,5.4,8.0,8.0,8.0,5.9,6.8,6.8,7.6,7.6,7.6,7.7,6.4,7.2,7.2,7.2,5.9,6.1,6.1,6.1,2.4,6.6,6.6,6.6,3.6,6.0,6.0,6.0,7.5,7.5,7.5,5.1,6.9,6.9,6.4,6.4,6.4,6.0,6.0,6.0,3.4,3.4,3.4,6.2,5.4,9.2,5.0,5.0,5.0,5.2,5.2,7.6,7.6,7.6,4.4,4.4,4.4,7.1,7.1,7.1,6.1,6.5,6.5,6.5,6.2,7.1,7.1,7.1,6.5,6.5,4.1,4.1,4.1,5.3,5.3,5.3,3.5,8.0,8.0,7.2,6.8,6.8,7.3,7.3,7.2,6.4,6.4,6.4,6.0,6.6,6.1,4.7,4.7,4.7,7.9,5.9,7.3,7.3,7.3,8.1,8.1,8.1,2.0,2.0,2.0,7.2,7.2,6.2,6.2,7.8,7.8,7.9,7.9,7.9,4.6,4.6,4.6,7.8,7.8,4.4,4.4,7.0,4.0,4.0,5.8,5.8,6.4,6.2,6.2,6.2,5.3,3.5,3.5,5.7,8.7,8.7,8.7,5.7,5.7,5.7,6.8,6.8,6.8,6.8,4.5,4.5,8.6,7.3,7.3,7.3,9.4,2.9,6.9,7.0,7.0,7.0,6.6,6.6,6.6,8.0,8.0,4.9,6.7,7.7,7.7,7.7,7.3,6.4,6.4,6.4,6.8,6.8,7.6,7.6,5.9,5.7,5.7,5.7,7.2,7.2,7.2,7.4,7.4,7.4,7.1,7.8,7.8,7.8,7.3,8.1,8.1,6.4,6.4,6.4,4.4,4.3,4.3,4.3,5.7,5.7,4.6,5.7,5.7,5.7,6.5,6.5,6.5,6.9,6.9,6.0,6.0,6.0,6.7,6.7,7.4,7.4,7.4,5.2,7.1,7.1,4.5,4.5,4.5,7.0,7.0,6.8,6.8,5.9,5.9,3.3,3.3,7.3,7.3,7.3,4.2,4.2,4.2,6.6,6.6,6.6,5.5,5.5,4.4,4.4,4.4,4.9,4.9,4.9,7.0,7.0,7.0,5.9,5.9,5.9,7.3,7.3,6.4,6.6,5.9,5.8,5.8,5.8,7.1,7.1,7.1,4.1,4.1,6.4,5.9,5.9,5.9,7.3,7.9,5.9,5.9,5.9,4.1,1.8,1.8,5.4,6.3,6.9,6.9,6.9,5.0,5.0,5.0,4.1,4.1,7.6,7.6,7.6,4.3,4.3,6.7,6.7,6.7,4.4,4.4,4.4,6.9,6.9,5.1,5.1,5.2,5.2,5.5,5.5,7.2,7.2,3.2,3.2,3.2,7.9,4.9,4.9,5.7,5.7,3.4,4.2,4.2,4.2,5.7,5.4,2.6,2.6,6.8,6.8,6.8,4.2,4.2,4.2,5.0,5.0,5.0,7.6,6.3,6.3,6.7,6.7,6.7,6.5,5.6,5.6,5.6,6.7,6.7,7.6,7.6,5.3,5.3,5.3,6.1,6.1,6.3,6.3,6.3,7.0,4.8,4.8,5.1,2.4,2.4,7.3,7.2,6.0,7.7,7.7,7.7,5.2,5.2,5.2,7.3,8.0,5.2,5.2,5.2,3.8,3.8,4.5,4.5,4.5,6.4,6.2,6.2,6.6,6.6,6.0,4.8,4.8,7.5,7.5,7.0,7.0,3.9,4.7,4.7,4.7,5.0,5.0,5.6,5.6,4.6,4.6,4.6,2.4,2.4,2.4,8.3,8.3,8.3,5.6,5.6,6.1,7.0,7.0,5.6,5.6,5.6,7.0,7.0,4.5,4.5,6.5,6.5,6.5,5.9,5.9,5.1,5.1,5.1,8.1,5.5,5.5,5.0,6.9,4.8,6.8,5.9,5.9,5.8,6.6,4.5,4.5,4.5,8.1,3.5,5.0,5.0,7.8,7.8,7.8,8.0,8.0,8.0,3.7,3.7,6.8,6.8,6.8,6.2,6.2,6.9,6.5,7.0,7.0,7.0,4.4,4.4,5.5,5.5,5.5,4.2,4.2,4.2,6.6,5.5,5.5,5.5,5.5,6.6,6.6,8.2,6.6,6.6,5.8,5.1,5.1,5.1,5.7,5.7,5.7,4.2,4.2,7.3,6.5,6.5,6.5,3.3,3.3,3.3,7.0,7.0,7.8,7.2,7.5,7.5,7.5,6.7,7.4,7.4,7.4,8.2,8.2,8.2,7.1,7.1,6.9,6.8,6.8,6.8,5.2,3.8,3.8,3.8,7.4,7.4,7.4,4.4,4.4,5.6,6.9,6.9,6.9,6.0,6.0,4.2,4.2,4.1,4.1,4.1,4.8,4.8,4.9,4.9,6.9,6.9,6.9,5.6,5.6,5.6,4.8,4.5,4.5,4.5,5.8,5.8,5.8,8.0,8.0,8.0,5.0,5.0,5.3,6.8,6.8,8.5,8.5,8.5,7.7,7.7,7.7,7.3,7.3,5.5,5.5,5.5,7.0,7.0,7.0,7.0,4.7,8.2,6.0,6.0,6.0,7.4,4.5,4.5,4.5,5.1,3.7,3.7,4.5,4.5,4.5,7.0,7.0,7.0,6.8,6.8,7.2,7.2,7.2,6.6,6.6,6.5,6.4,6.4,6.4,6.6,6.6,6.6,5.3,5.3,5.3,3.2,2.8,2.8,5.7,5.7,6.0,5.8,5.0,7.8,7.8,7.8,6.7,6.7,6.0,6.7,6.7,6.7,5.4,5.4,5.4,6.7,6.7,6.7,6.9,6.9,7.8,7.8,7.1,7.1,7.1,5.3,5.3,5.3,3.8,3.8,7.2,7.2,5.2,5.2,6.5,7.1,7.2,5.6,5.6,5.6,5.0,5.0,5.0,7.3,6.1,6.1,6.1,7.3,7.3,7.3,3.7,3.7,6.2,5.3,5.3,5.3,5.6,8.9,7.5,7.5,7.5,2.9,2.9,4.3,7.1,7.1,4.9,4.9,4.9,5.1,5.1,5.1,7.2,7.2,7.2,8.1,8.1,5.9,5.9,5.3,6.5,6.5,6.5,6.6,6.6,6.6,6.6,6.6,5.6,5.6,5.4,5.4,5.4,6.6,6.6,6.6,3.7,3.7,3.7,6.7,3.8,3.8,3.8,3.7,3.7,3.7,4.5,4.5,5.4,5.5,5.5,5.5,7.2,7.2,4.4,4.4,4.4,6.9,6.9,6.9,6.7,7.6,7.6,7.6,6.6,6.6,6.6,6.6,6.5,6.5,6.5,4.5,4.5,7.8,7.8,6.0,6.0,6.0,6.3,6.3,6.3,5.9,5.9,5.9,6.8,6.8,6.8,6.5,6.5,6.5,5.4,5.4,6.8,6.8,6.4,6.4,4.6,4.6,7.1,7.1,4.1,4.1,5.7,5.7,5.7,7.7,7.1,7.1,7.1,5.6,5.6,5.6,4.8,4.9,3.8,3.8,6.9,6.9,4.3,4.3,4.3,4.2,4.2,4.2,7.5,7.5,7.5,6.0,6.0,6.0,7.9,5.2,5.2,5.2,1.6,1.6,6.9,6.9,7.3,5.4,6.5,5.0,5.0,5.0,4.6,4.6,4.6,4.9,4.9,7.3,7.3,7.3,4.9,5.8,5.8,5.8,5.5,6.8,5.1,5.1,3.9,3.9,6.0,6.0,4.5,9.0,9.0,6.4,6.4,6.4,4.8,6.2,6.2,7.6,7.6,4.6,7.6,7.6,7.6,6.4,6.4,6.4,7.1,6.4,3.3,7.6,7.6,8.1,3.9,3.9,2.7,5.2,5.2,5.2,5.7,7.7,7.7,7.7,5.9,5.9,5.9,6.5,6.5,4.4,4.4,4.4,5.4,3.5,3.5,3.7,3.7,4.2,4.2,4.2,6.3,6.3,6.3,5.6,7.1,7.1,7.1,2.7,2.7,7.0,6.0,6.6,5.1,7.2,7.2,7.2,7.0,7.0,7.0,5.1,5.1,3.3,3.3,3.3,5.4,5.4,5.4,6.7,3.2,3.2,3.4,3.4,4.5,4.5,4.5,4.7,4.7,4.7,5.4,6.1,4.4,4.4,4.4,6.3,6.3,6.4,4.6,3.4,3.4,3.4,7.6,5.8,5.8,3.9,3.9,4.3,4.3,5.4,5.4,6.4,6.4,6.4,6.0,6.0,6.0,4.7,4.7,6.8,6.8,3.6,3.6,6.6,5.2,5.2,5.2,4.7,4.7,4.7,4.4,4.4,4.4,3.3,7.1,7.1,7.1,5.2,4.4,6.1,3.8,3.8,3.8,3.7,3.7,3.7,4.9,4.9,4.1,4.1,4.1,3.4,6.0,6.0,6.0,8.0,8.0,8.0,7.5,7.5,7.5,8.6,6.5,6.5,6.5,7.2,7.2,7.2,3.0,3.0,5.2,5.2,5.2,4.8,6.4,6.4,6.8,6.8,6.8,7.2,7.2,7.2,4.6,4.6,7.8,7.8,5.1,5.1,5.7,5.7,5.9,7.0,6.2,6.2,6.2,7.7,7.7,7.7,7.4,7.4,7.4,4.8,4.8,4.8,4.1,4.1,4.1,4.9,4.9,5.3,5.3,4.6,4.6,7.9,6.2,6.2,4.0,4.0,4.0,5.0,4.7,4.7,4.7,5.6,5.6,6.0,6.0,4.9,4.9,4.9,3.8,3.8,3.8,6.8,6.8,6.3,6.3,6.3,5.5,5.5,5.5,5.3,5.3,5.3,6.0,6.0,6.0,5.5,5.5,6.2,6.2,3.0,3.0,3.3,7.6,7.6,7.6,3.2,3.2,3.2,7.6,7.6,7.6,6.3,7.7,7.7,7.7,6.4,6.4,5.4,5.4,5.4,7.1,7.1,5.4,5.4,5.4,4.7,4.7,4.4,4.4,4.4,6.9,6.9,5.8,5.8,3.6,3.6,3.6,4.8,4.8,4.8,5.3,4.9,4.9,4.9,7.1,7.1,3.9,7.1,6.5,6.5,6.5,7.0,6.8,6.8,2.8,2.7,2.7,6.0,8.2,8.2,8.2,3.7,5.5,5.5,8.2,8.2,4.4,6.0,5.7,4.0,4.0,4.0,5.7,4.3,4.3,4.3,5.6,5.6,5.6,6.1,6.2,6.2,6.2,5.8,5.8,5.8,4.5,4.5,6.2,6.2],\"xaxis\":\"x\",\"yaxis\":\"y\",\"type\":\"histogram\"}],                        {\"template\":{\"data\":{\"barpolar\":[{\"marker\":{\"line\":{\"color\":\"white\",\"width\":0.5},\"pattern\":{\"fillmode\":\"overlay\",\"size\":10,\"solidity\":0.2}},\"type\":\"barpolar\"}],\"bar\":[{\"error_x\":{\"color\":\"#2a3f5f\"},\"error_y\":{\"color\":\"#2a3f5f\"},\"marker\":{\"line\":{\"color\":\"white\",\"width\":0.5},\"pattern\":{\"fillmode\":\"overlay\",\"size\":10,\"solidity\":0.2}},\"type\":\"bar\"}],\"carpet\":[{\"aaxis\":{\"endlinecolor\":\"#2a3f5f\",\"gridcolor\":\"#C8D4E3\",\"linecolor\":\"#C8D4E3\",\"minorgridcolor\":\"#C8D4E3\",\"startlinecolor\":\"#2a3f5f\"},\"baxis\":{\"endlinecolor\":\"#2a3f5f\",\"gridcolor\":\"#C8D4E3\",\"linecolor\":\"#C8D4E3\",\"minorgridcolor\":\"#C8D4E3\",\"startlinecolor\":\"#2a3f5f\"},\"type\":\"carpet\"}],\"choropleth\":[{\"colorbar\":{\"outlinewidth\":0,\"ticks\":\"\"},\"type\":\"choropleth\"}],\"contourcarpet\":[{\"colorbar\":{\"outlinewidth\":0,\"ticks\":\"\"},\"type\":\"contourcarpet\"}],\"contour\":[{\"colorbar\":{\"outlinewidth\":0,\"ticks\":\"\"},\"colorscale\":[[0.0,\"#0d0887\"],[0.1111111111111111,\"#46039f\"],[0.2222222222222222,\"#7201a8\"],[0.3333333333333333,\"#9c179e\"],[0.4444444444444444,\"#bd3786\"],[0.5555555555555556,\"#d8576b\"],[0.6666666666666666,\"#ed7953\"],[0.7777777777777778,\"#fb9f3a\"],[0.8888888888888888,\"#fdca26\"],[1.0,\"#f0f921\"]],\"type\":\"contour\"}],\"heatmapgl\":[{\"colorbar\":{\"outlinewidth\":0,\"ticks\":\"\"},\"colorscale\":[[0.0,\"#0d0887\"],[0.1111111111111111,\"#46039f\"],[0.2222222222222222,\"#7201a8\"],[0.3333333333333333,\"#9c179e\"],[0.4444444444444444,\"#bd3786\"],[0.5555555555555556,\"#d8576b\"],[0.6666666666666666,\"#ed7953\"],[0.7777777777777778,\"#fb9f3a\"],[0.8888888888888888,\"#fdca26\"],[1.0,\"#f0f921\"]],\"type\":\"heatmapgl\"}],\"heatmap\":[{\"colorbar\":{\"outlinewidth\":0,\"ticks\":\"\"},\"colorscale\":[[0.0,\"#0d0887\"],[0.1111111111111111,\"#46039f\"],[0.2222222222222222,\"#7201a8\"],[0.3333333333333333,\"#9c179e\"],[0.4444444444444444,\"#bd3786\"],[0.5555555555555556,\"#d8576b\"],[0.6666666666666666,\"#ed7953\"],[0.7777777777777778,\"#fb9f3a\"],[0.8888888888888888,\"#fdca26\"],[1.0,\"#f0f921\"]],\"type\":\"heatmap\"}],\"histogram2dcontour\":[{\"colorbar\":{\"outlinewidth\":0,\"ticks\":\"\"},\"colorscale\":[[0.0,\"#0d0887\"],[0.1111111111111111,\"#46039f\"],[0.2222222222222222,\"#7201a8\"],[0.3333333333333333,\"#9c179e\"],[0.4444444444444444,\"#bd3786\"],[0.5555555555555556,\"#d8576b\"],[0.6666666666666666,\"#ed7953\"],[0.7777777777777778,\"#fb9f3a\"],[0.8888888888888888,\"#fdca26\"],[1.0,\"#f0f921\"]],\"type\":\"histogram2dcontour\"}],\"histogram2d\":[{\"colorbar\":{\"outlinewidth\":0,\"ticks\":\"\"},\"colorscale\":[[0.0,\"#0d0887\"],[0.1111111111111111,\"#46039f\"],[0.2222222222222222,\"#7201a8\"],[0.3333333333333333,\"#9c179e\"],[0.4444444444444444,\"#bd3786\"],[0.5555555555555556,\"#d8576b\"],[0.6666666666666666,\"#ed7953\"],[0.7777777777777778,\"#fb9f3a\"],[0.8888888888888888,\"#fdca26\"],[1.0,\"#f0f921\"]],\"type\":\"histogram2d\"}],\"histogram\":[{\"marker\":{\"pattern\":{\"fillmode\":\"overlay\",\"size\":10,\"solidity\":0.2}},\"type\":\"histogram\"}],\"mesh3d\":[{\"colorbar\":{\"outlinewidth\":0,\"ticks\":\"\"},\"type\":\"mesh3d\"}],\"parcoords\":[{\"line\":{\"colorbar\":{\"outlinewidth\":0,\"ticks\":\"\"}},\"type\":\"parcoords\"}],\"pie\":[{\"automargin\":true,\"type\":\"pie\"}],\"scatter3d\":[{\"line\":{\"colorbar\":{\"outlinewidth\":0,\"ticks\":\"\"}},\"marker\":{\"colorbar\":{\"outlinewidth\":0,\"ticks\":\"\"}},\"type\":\"scatter3d\"}],\"scattercarpet\":[{\"marker\":{\"colorbar\":{\"outlinewidth\":0,\"ticks\":\"\"}},\"type\":\"scattercarpet\"}],\"scattergeo\":[{\"marker\":{\"colorbar\":{\"outlinewidth\":0,\"ticks\":\"\"}},\"type\":\"scattergeo\"}],\"scattergl\":[{\"marker\":{\"colorbar\":{\"outlinewidth\":0,\"ticks\":\"\"}},\"type\":\"scattergl\"}],\"scattermapbox\":[{\"marker\":{\"colorbar\":{\"outlinewidth\":0,\"ticks\":\"\"}},\"type\":\"scattermapbox\"}],\"scatterpolargl\":[{\"marker\":{\"colorbar\":{\"outlinewidth\":0,\"ticks\":\"\"}},\"type\":\"scatterpolargl\"}],\"scatterpolar\":[{\"marker\":{\"colorbar\":{\"outlinewidth\":0,\"ticks\":\"\"}},\"type\":\"scatterpolar\"}],\"scatter\":[{\"fillpattern\":{\"fillmode\":\"overlay\",\"size\":10,\"solidity\":0.2},\"type\":\"scatter\"}],\"scatterternary\":[{\"marker\":{\"colorbar\":{\"outlinewidth\":0,\"ticks\":\"\"}},\"type\":\"scatterternary\"}],\"surface\":[{\"colorbar\":{\"outlinewidth\":0,\"ticks\":\"\"},\"colorscale\":[[0.0,\"#0d0887\"],[0.1111111111111111,\"#46039f\"],[0.2222222222222222,\"#7201a8\"],[0.3333333333333333,\"#9c179e\"],[0.4444444444444444,\"#bd3786\"],[0.5555555555555556,\"#d8576b\"],[0.6666666666666666,\"#ed7953\"],[0.7777777777777778,\"#fb9f3a\"],[0.8888888888888888,\"#fdca26\"],[1.0,\"#f0f921\"]],\"type\":\"surface\"}],\"table\":[{\"cells\":{\"fill\":{\"color\":\"#EBF0F8\"},\"line\":{\"color\":\"white\"}},\"header\":{\"fill\":{\"color\":\"#C8D4E3\"},\"line\":{\"color\":\"white\"}},\"type\":\"table\"}]},\"layout\":{\"annotationdefaults\":{\"arrowcolor\":\"#2a3f5f\",\"arrowhead\":0,\"arrowwidth\":1},\"autotypenumbers\":\"strict\",\"coloraxis\":{\"colorbar\":{\"outlinewidth\":0,\"ticks\":\"\"}},\"colorscale\":{\"diverging\":[[0,\"#8e0152\"],[0.1,\"#c51b7d\"],[0.2,\"#de77ae\"],[0.3,\"#f1b6da\"],[0.4,\"#fde0ef\"],[0.5,\"#f7f7f7\"],[0.6,\"#e6f5d0\"],[0.7,\"#b8e186\"],[0.8,\"#7fbc41\"],[0.9,\"#4d9221\"],[1,\"#276419\"]],\"sequential\":[[0.0,\"#0d0887\"],[0.1111111111111111,\"#46039f\"],[0.2222222222222222,\"#7201a8\"],[0.3333333333333333,\"#9c179e\"],[0.4444444444444444,\"#bd3786\"],[0.5555555555555556,\"#d8576b\"],[0.6666666666666666,\"#ed7953\"],[0.7777777777777778,\"#fb9f3a\"],[0.8888888888888888,\"#fdca26\"],[1.0,\"#f0f921\"]],\"sequentialminus\":[[0.0,\"#0d0887\"],[0.1111111111111111,\"#46039f\"],[0.2222222222222222,\"#7201a8\"],[0.3333333333333333,\"#9c179e\"],[0.4444444444444444,\"#bd3786\"],[0.5555555555555556,\"#d8576b\"],[0.6666666666666666,\"#ed7953\"],[0.7777777777777778,\"#fb9f3a\"],[0.8888888888888888,\"#fdca26\"],[1.0,\"#f0f921\"]]},\"colorway\":[\"#636efa\",\"#EF553B\",\"#00cc96\",\"#ab63fa\",\"#FFA15A\",\"#19d3f3\",\"#FF6692\",\"#B6E880\",\"#FF97FF\",\"#FECB52\"],\"font\":{\"color\":\"#2a3f5f\"},\"geo\":{\"bgcolor\":\"white\",\"lakecolor\":\"white\",\"landcolor\":\"white\",\"showlakes\":true,\"showland\":true,\"subunitcolor\":\"#C8D4E3\"},\"hoverlabel\":{\"align\":\"left\"},\"hovermode\":\"closest\",\"mapbox\":{\"style\":\"light\"},\"paper_bgcolor\":\"white\",\"plot_bgcolor\":\"white\",\"polar\":{\"angularaxis\":{\"gridcolor\":\"#EBF0F8\",\"linecolor\":\"#EBF0F8\",\"ticks\":\"\"},\"bgcolor\":\"white\",\"radialaxis\":{\"gridcolor\":\"#EBF0F8\",\"linecolor\":\"#EBF0F8\",\"ticks\":\"\"}},\"scene\":{\"xaxis\":{\"backgroundcolor\":\"white\",\"gridcolor\":\"#DFE8F3\",\"gridwidth\":2,\"linecolor\":\"#EBF0F8\",\"showbackground\":true,\"ticks\":\"\",\"zerolinecolor\":\"#EBF0F8\"},\"yaxis\":{\"backgroundcolor\":\"white\",\"gridcolor\":\"#DFE8F3\",\"gridwidth\":2,\"linecolor\":\"#EBF0F8\",\"showbackground\":true,\"ticks\":\"\",\"zerolinecolor\":\"#EBF0F8\"},\"zaxis\":{\"backgroundcolor\":\"white\",\"gridcolor\":\"#DFE8F3\",\"gridwidth\":2,\"linecolor\":\"#EBF0F8\",\"showbackground\":true,\"ticks\":\"\",\"zerolinecolor\":\"#EBF0F8\"}},\"shapedefaults\":{\"line\":{\"color\":\"#2a3f5f\"}},\"ternary\":{\"aaxis\":{\"gridcolor\":\"#DFE8F3\",\"linecolor\":\"#A2B1C6\",\"ticks\":\"\"},\"baxis\":{\"gridcolor\":\"#DFE8F3\",\"linecolor\":\"#A2B1C6\",\"ticks\":\"\"},\"bgcolor\":\"white\",\"caxis\":{\"gridcolor\":\"#DFE8F3\",\"linecolor\":\"#A2B1C6\",\"ticks\":\"\"}},\"title\":{\"x\":0.05},\"xaxis\":{\"automargin\":true,\"gridcolor\":\"#EBF0F8\",\"linecolor\":\"#EBF0F8\",\"ticks\":\"\",\"title\":{\"standoff\":15},\"zerolinecolor\":\"#EBF0F8\",\"zerolinewidth\":2},\"yaxis\":{\"automargin\":true,\"gridcolor\":\"#EBF0F8\",\"linecolor\":\"#EBF0F8\",\"ticks\":\"\",\"title\":{\"standoff\":15},\"zerolinecolor\":\"#EBF0F8\",\"zerolinewidth\":2}}},\"xaxis\":{\"anchor\":\"y\",\"domain\":[0.0,1.0],\"title\":{\"text\":\"Movie Rating\"}},\"yaxis\":{\"anchor\":\"x\",\"domain\":[0.0,1.0],\"title\":{\"text\":\"Probability Density\"}},\"legend\":{\"tracegroupgap\":0},\"title\":{\"text\":\"Distribution of Movie Ratings\",\"x\":0.5},\"barmode\":\"relative\",\"font\":{\"family\":\"Arial\",\"size\":14},\"bargap\":0.1},                        {\"responsive\": true}                    ).then(function(){\n",
              "                            \n",
              "var gd = document.getElementById('ecd14630-5be1-480c-94b3-d2095c53beb4');\n",
              "var x = new MutationObserver(function (mutations, observer) {{\n",
              "        var display = window.getComputedStyle(gd).display;\n",
              "        if (!display || display === 'none') {{\n",
              "            console.log([gd, 'removed!']);\n",
              "            Plotly.purge(gd);\n",
              "            observer.disconnect();\n",
              "        }}\n",
              "}});\n",
              "\n",
              "// Listen for the removal of the full notebook cells\n",
              "var notebookContainer = gd.closest('#notebook-container');\n",
              "if (notebookContainer) {{\n",
              "    x.observe(notebookContainer, {childList: true});\n",
              "}}\n",
              "\n",
              "// Listen for the clearing of the current output cell\n",
              "var outputEl = gd.closest('.output');\n",
              "if (outputEl) {{\n",
              "    x.observe(outputEl, {childList: true});\n",
              "}}\n",
              "\n",
              "                        })                };                            </script>        </div>\n",
              "</body>\n",
              "</html>"
            ]
          },
          "metadata": {}
        }
      ]
    },
    {
      "cell_type": "markdown",
      "source": [
        "# FEATURE ENGINEERING"
      ],
      "metadata": {
        "id": "_RnXIROV4AHj"
      }
    },
    {
      "cell_type": "code",
      "source": [
        "from sklearn.model_selection import train_test_split\n",
        "from sklearn.linear_model import LinearRegression\n",
        "from sklearn.metrics import mean_squared_error, r2_score"
      ],
      "metadata": {
        "id": "et7p-_wX4RJ2"
      },
      "execution_count": null,
      "outputs": []
    },
    {
      "cell_type": "code",
      "source": [
        "print(data.columns)"
      ],
      "metadata": {
        "colab": {
          "base_uri": "https://localhost:8080/"
        },
        "id": "MUmMT7j7qU2B",
        "outputId": "421e4fe3-3eb3-45cc-f0d4-1ff6b520dd02"
      },
      "execution_count": 36,
      "outputs": [
        {
          "output_type": "stream",
          "name": "stdout",
          "text": [
            "Index(['Year', 'Duration', 'Genre', 'Rating', 'Votes', 'Director', 'Actor 1',\n",
            "       'Actor 2', 'Actor 3'],\n",
            "      dtype='object')\n"
          ]
        }
      ]
    },
    {
      "cell_type": "code",
      "source": [
        "genre_mean_ratings = data.groupby('Genre')['Rating'].transform('mean')\n",
        "data['Genre_Mean_Rating'] = genre_mean_ratings\n",
        "\n",
        "director_mean_ratings = data.groupby('Director')['Rating'].transform('mean')\n",
        "data['Director_Mean_Rating'] = director_mean_ratings\n",
        "\n",
        "actor1_mean_ratings = data.groupby('Actor 1')['Rating'].transform('mean')\n",
        "data['Actor1_Mean_Rating'] = actor1_mean_ratings\n",
        "\n",
        "actor2_mean_ratings = data.groupby('Actor 2')['Rating'].transform('mean')\n",
        "data['Actor2_Mean_Rating'] = actor2_mean_ratings\n",
        "\n",
        "actor3_mean_ratings = data.groupby('Actor 3')['Rating'].transform('mean')\n",
        "data['Actor3_Mean_Rating'] = actor3_mean_ratings"
      ],
      "metadata": {
        "id": "osxAb4kkr3PT"
      },
      "execution_count": 37,
      "outputs": []
    },
    {
      "cell_type": "code",
      "source": [
        "# MAKING THE PREDICTOR AND TARGET VARIABLE...\n",
        "\n",
        "X = data[['Year', 'Duration', 'Genre_Mean_Rating', 'Director_Mean_Rating', 'Actor1_Mean_Rating', 'Actor2_Mean_Rating', 'Actor3_Mean_Rating']]\n",
        "y = data['Rating']"
      ],
      "metadata": {
        "id": "OCi6GwaVsZyY"
      },
      "execution_count": 38,
      "outputs": []
    },
    {
      "cell_type": "code",
      "source": [
        "# SPLITTING THE DATASET INTO TRAINING AND TESTING...\n",
        "\n",
        "X_train, X_test, y_train, y_test = train_test_split(X, y, test_size=0.2, random_state=42)"
      ],
      "metadata": {
        "id": "z5tEG8pRszmx"
      },
      "execution_count": 39,
      "outputs": []
    },
    {
      "cell_type": "markdown",
      "source": [
        "# BULIDING THE MODEL :-"
      ],
      "metadata": {
        "id": "-RIek5vGtC0A"
      }
    },
    {
      "cell_type": "code",
      "source": [
        "ML = LinearRegression()\n",
        "ML.fit(X_train, y_train)\n",
        "ML_pred = ML.predict(X_test)"
      ],
      "metadata": {
        "id": "64BHEirLtGt-"
      },
      "execution_count": 40,
      "outputs": []
    },
    {
      "cell_type": "code",
      "source": [
        "# PERFORMANCE EVALUATION OF THE MODE...\n",
        "\n",
        "print('The performance of the model is as follows:')\n",
        "print('Mean Squared Error: ', mean_squared_error(y_test, ML_pred))\n",
        "print('Root Mean Squared Error: ', np.sqrt(mean_squared_error(y_test, ML_pred)))\n",
        "print('R-squared:', r2_score(y_test, ML_pred))"
      ],
      "metadata": {
        "colab": {
          "base_uri": "https://localhost:8080/"
        },
        "id": "0CyzgeoVtQRb",
        "outputId": "31afcb79-88b0-4670-c56b-4f58d329e9b4"
      },
      "execution_count": 43,
      "outputs": [
        {
          "output_type": "stream",
          "name": "stdout",
          "text": [
            "The performance of the model is as follows:\n",
            "Mean Squared Error:  0.45491154926519856\n",
            "Root Mean Squared Error:  0.6744713109281955\n",
            "R-squared: 0.7596933018879729\n"
          ]
        }
      ]
    },
    {
      "cell_type": "markdown",
      "source": [
        "# TESTING THE MODEL :-"
      ],
      "metadata": {
        "id": "XwYB6vGDuCr9"
      }
    },
    {
      "cell_type": "code",
      "source": [
        "X.head(5)"
      ],
      "metadata": {
        "colab": {
          "base_uri": "https://localhost:8080/",
          "height": 206
        },
        "id": "tM9rdEM1uJ2J",
        "outputId": "47cac9ed-b25b-4cdc-d0aa-8dec52a76f0d"
      },
      "execution_count": 45,
      "outputs": [
        {
          "output_type": "execute_result",
          "data": {
            "text/plain": [
              "   Year  Duration  Genre_Mean_Rating  Director_Mean_Rating  \\\n",
              "1  2019       109           6.056744              7.000000   \n",
              "3  2019       110           5.751042              4.400000   \n",
              "3  2019       110           5.811087              4.400000   \n",
              "5  1997       147           5.751042              5.335135   \n",
              "5  1997       147           6.056744              5.335135   \n",
              "\n",
              "   Actor1_Mean_Rating  Actor2_Mean_Rating  Actor3_Mean_Rating  \n",
              "1            6.850000                7.00                7.00  \n",
              "3            5.250000                4.40                4.46  \n",
              "3            5.250000                4.40                4.46  \n",
              "5            4.793617                5.73                5.93  \n",
              "5            4.793617                5.73                5.93  "
            ],
            "text/html": [
              "\n",
              "  <div id=\"df-48235755-392f-4203-a7bc-c810e614690b\" class=\"colab-df-container\">\n",
              "    <div>\n",
              "<style scoped>\n",
              "    .dataframe tbody tr th:only-of-type {\n",
              "        vertical-align: middle;\n",
              "    }\n",
              "\n",
              "    .dataframe tbody tr th {\n",
              "        vertical-align: top;\n",
              "    }\n",
              "\n",
              "    .dataframe thead th {\n",
              "        text-align: right;\n",
              "    }\n",
              "</style>\n",
              "<table border=\"1\" class=\"dataframe\">\n",
              "  <thead>\n",
              "    <tr style=\"text-align: right;\">\n",
              "      <th></th>\n",
              "      <th>Year</th>\n",
              "      <th>Duration</th>\n",
              "      <th>Genre_Mean_Rating</th>\n",
              "      <th>Director_Mean_Rating</th>\n",
              "      <th>Actor1_Mean_Rating</th>\n",
              "      <th>Actor2_Mean_Rating</th>\n",
              "      <th>Actor3_Mean_Rating</th>\n",
              "    </tr>\n",
              "  </thead>\n",
              "  <tbody>\n",
              "    <tr>\n",
              "      <th>1</th>\n",
              "      <td>2019</td>\n",
              "      <td>109</td>\n",
              "      <td>6.056744</td>\n",
              "      <td>7.000000</td>\n",
              "      <td>6.850000</td>\n",
              "      <td>7.00</td>\n",
              "      <td>7.00</td>\n",
              "    </tr>\n",
              "    <tr>\n",
              "      <th>3</th>\n",
              "      <td>2019</td>\n",
              "      <td>110</td>\n",
              "      <td>5.751042</td>\n",
              "      <td>4.400000</td>\n",
              "      <td>5.250000</td>\n",
              "      <td>4.40</td>\n",
              "      <td>4.46</td>\n",
              "    </tr>\n",
              "    <tr>\n",
              "      <th>3</th>\n",
              "      <td>2019</td>\n",
              "      <td>110</td>\n",
              "      <td>5.811087</td>\n",
              "      <td>4.400000</td>\n",
              "      <td>5.250000</td>\n",
              "      <td>4.40</td>\n",
              "      <td>4.46</td>\n",
              "    </tr>\n",
              "    <tr>\n",
              "      <th>5</th>\n",
              "      <td>1997</td>\n",
              "      <td>147</td>\n",
              "      <td>5.751042</td>\n",
              "      <td>5.335135</td>\n",
              "      <td>4.793617</td>\n",
              "      <td>5.73</td>\n",
              "      <td>5.93</td>\n",
              "    </tr>\n",
              "    <tr>\n",
              "      <th>5</th>\n",
              "      <td>1997</td>\n",
              "      <td>147</td>\n",
              "      <td>6.056744</td>\n",
              "      <td>5.335135</td>\n",
              "      <td>4.793617</td>\n",
              "      <td>5.73</td>\n",
              "      <td>5.93</td>\n",
              "    </tr>\n",
              "  </tbody>\n",
              "</table>\n",
              "</div>\n",
              "    <div class=\"colab-df-buttons\">\n",
              "\n",
              "  <div class=\"colab-df-container\">\n",
              "    <button class=\"colab-df-convert\" onclick=\"convertToInteractive('df-48235755-392f-4203-a7bc-c810e614690b')\"\n",
              "            title=\"Convert this dataframe to an interactive table.\"\n",
              "            style=\"display:none;\">\n",
              "\n",
              "  <svg xmlns=\"http://www.w3.org/2000/svg\" height=\"24px\" viewBox=\"0 -960 960 960\">\n",
              "    <path d=\"M120-120v-720h720v720H120Zm60-500h600v-160H180v160Zm220 220h160v-160H400v160Zm0 220h160v-160H400v160ZM180-400h160v-160H180v160Zm440 0h160v-160H620v160ZM180-180h160v-160H180v160Zm440 0h160v-160H620v160Z\"/>\n",
              "  </svg>\n",
              "    </button>\n",
              "\n",
              "  <style>\n",
              "    .colab-df-container {\n",
              "      display:flex;\n",
              "      gap: 12px;\n",
              "    }\n",
              "\n",
              "    .colab-df-convert {\n",
              "      background-color: #E8F0FE;\n",
              "      border: none;\n",
              "      border-radius: 50%;\n",
              "      cursor: pointer;\n",
              "      display: none;\n",
              "      fill: #1967D2;\n",
              "      height: 32px;\n",
              "      padding: 0 0 0 0;\n",
              "      width: 32px;\n",
              "    }\n",
              "\n",
              "    .colab-df-convert:hover {\n",
              "      background-color: #E2EBFA;\n",
              "      box-shadow: 0px 1px 2px rgba(60, 64, 67, 0.3), 0px 1px 3px 1px rgba(60, 64, 67, 0.15);\n",
              "      fill: #174EA6;\n",
              "    }\n",
              "\n",
              "    .colab-df-buttons div {\n",
              "      margin-bottom: 4px;\n",
              "    }\n",
              "\n",
              "    [theme=dark] .colab-df-convert {\n",
              "      background-color: #3B4455;\n",
              "      fill: #D2E3FC;\n",
              "    }\n",
              "\n",
              "    [theme=dark] .colab-df-convert:hover {\n",
              "      background-color: #434B5C;\n",
              "      box-shadow: 0px 1px 3px 1px rgba(0, 0, 0, 0.15);\n",
              "      filter: drop-shadow(0px 1px 2px rgba(0, 0, 0, 0.3));\n",
              "      fill: #FFFFFF;\n",
              "    }\n",
              "  </style>\n",
              "\n",
              "    <script>\n",
              "      const buttonEl =\n",
              "        document.querySelector('#df-48235755-392f-4203-a7bc-c810e614690b button.colab-df-convert');\n",
              "      buttonEl.style.display =\n",
              "        google.colab.kernel.accessAllowed ? 'block' : 'none';\n",
              "\n",
              "      async function convertToInteractive(key) {\n",
              "        const element = document.querySelector('#df-48235755-392f-4203-a7bc-c810e614690b');\n",
              "        const dataTable =\n",
              "          await google.colab.kernel.invokeFunction('convertToInteractive',\n",
              "                                                    [key], {});\n",
              "        if (!dataTable) return;\n",
              "\n",
              "        const docLinkHtml = 'Like what you see? Visit the ' +\n",
              "          '<a target=\"_blank\" href=https://colab.research.google.com/notebooks/data_table.ipynb>data table notebook</a>'\n",
              "          + ' to learn more about interactive tables.';\n",
              "        element.innerHTML = '';\n",
              "        dataTable['output_type'] = 'display_data';\n",
              "        await google.colab.output.renderOutput(dataTable, element);\n",
              "        const docLink = document.createElement('div');\n",
              "        docLink.innerHTML = docLinkHtml;\n",
              "        element.appendChild(docLink);\n",
              "      }\n",
              "    </script>\n",
              "  </div>\n",
              "\n",
              "\n",
              "<div id=\"df-b236d229-7838-4cd1-b4c6-14dc4bf51741\">\n",
              "  <button class=\"colab-df-quickchart\" onclick=\"quickchart('df-b236d229-7838-4cd1-b4c6-14dc4bf51741')\"\n",
              "            title=\"Suggest charts\"\n",
              "            style=\"display:none;\">\n",
              "\n",
              "<svg xmlns=\"http://www.w3.org/2000/svg\" height=\"24px\"viewBox=\"0 0 24 24\"\n",
              "     width=\"24px\">\n",
              "    <g>\n",
              "        <path d=\"M19 3H5c-1.1 0-2 .9-2 2v14c0 1.1.9 2 2 2h14c1.1 0 2-.9 2-2V5c0-1.1-.9-2-2-2zM9 17H7v-7h2v7zm4 0h-2V7h2v10zm4 0h-2v-4h2v4z\"/>\n",
              "    </g>\n",
              "</svg>\n",
              "  </button>\n",
              "\n",
              "<style>\n",
              "  .colab-df-quickchart {\n",
              "      --bg-color: #E8F0FE;\n",
              "      --fill-color: #1967D2;\n",
              "      --hover-bg-color: #E2EBFA;\n",
              "      --hover-fill-color: #174EA6;\n",
              "      --disabled-fill-color: #AAA;\n",
              "      --disabled-bg-color: #DDD;\n",
              "  }\n",
              "\n",
              "  [theme=dark] .colab-df-quickchart {\n",
              "      --bg-color: #3B4455;\n",
              "      --fill-color: #D2E3FC;\n",
              "      --hover-bg-color: #434B5C;\n",
              "      --hover-fill-color: #FFFFFF;\n",
              "      --disabled-bg-color: #3B4455;\n",
              "      --disabled-fill-color: #666;\n",
              "  }\n",
              "\n",
              "  .colab-df-quickchart {\n",
              "    background-color: var(--bg-color);\n",
              "    border: none;\n",
              "    border-radius: 50%;\n",
              "    cursor: pointer;\n",
              "    display: none;\n",
              "    fill: var(--fill-color);\n",
              "    height: 32px;\n",
              "    padding: 0;\n",
              "    width: 32px;\n",
              "  }\n",
              "\n",
              "  .colab-df-quickchart:hover {\n",
              "    background-color: var(--hover-bg-color);\n",
              "    box-shadow: 0 1px 2px rgba(60, 64, 67, 0.3), 0 1px 3px 1px rgba(60, 64, 67, 0.15);\n",
              "    fill: var(--button-hover-fill-color);\n",
              "  }\n",
              "\n",
              "  .colab-df-quickchart-complete:disabled,\n",
              "  .colab-df-quickchart-complete:disabled:hover {\n",
              "    background-color: var(--disabled-bg-color);\n",
              "    fill: var(--disabled-fill-color);\n",
              "    box-shadow: none;\n",
              "  }\n",
              "\n",
              "  .colab-df-spinner {\n",
              "    border: 2px solid var(--fill-color);\n",
              "    border-color: transparent;\n",
              "    border-bottom-color: var(--fill-color);\n",
              "    animation:\n",
              "      spin 1s steps(1) infinite;\n",
              "  }\n",
              "\n",
              "  @keyframes spin {\n",
              "    0% {\n",
              "      border-color: transparent;\n",
              "      border-bottom-color: var(--fill-color);\n",
              "      border-left-color: var(--fill-color);\n",
              "    }\n",
              "    20% {\n",
              "      border-color: transparent;\n",
              "      border-left-color: var(--fill-color);\n",
              "      border-top-color: var(--fill-color);\n",
              "    }\n",
              "    30% {\n",
              "      border-color: transparent;\n",
              "      border-left-color: var(--fill-color);\n",
              "      border-top-color: var(--fill-color);\n",
              "      border-right-color: var(--fill-color);\n",
              "    }\n",
              "    40% {\n",
              "      border-color: transparent;\n",
              "      border-right-color: var(--fill-color);\n",
              "      border-top-color: var(--fill-color);\n",
              "    }\n",
              "    60% {\n",
              "      border-color: transparent;\n",
              "      border-right-color: var(--fill-color);\n",
              "    }\n",
              "    80% {\n",
              "      border-color: transparent;\n",
              "      border-right-color: var(--fill-color);\n",
              "      border-bottom-color: var(--fill-color);\n",
              "    }\n",
              "    90% {\n",
              "      border-color: transparent;\n",
              "      border-bottom-color: var(--fill-color);\n",
              "    }\n",
              "  }\n",
              "</style>\n",
              "\n",
              "  <script>\n",
              "    async function quickchart(key) {\n",
              "      const quickchartButtonEl =\n",
              "        document.querySelector('#' + key + ' button');\n",
              "      quickchartButtonEl.disabled = true;  // To prevent multiple clicks.\n",
              "      quickchartButtonEl.classList.add('colab-df-spinner');\n",
              "      try {\n",
              "        const charts = await google.colab.kernel.invokeFunction(\n",
              "            'suggestCharts', [key], {});\n",
              "      } catch (error) {\n",
              "        console.error('Error during call to suggestCharts:', error);\n",
              "      }\n",
              "      quickchartButtonEl.classList.remove('colab-df-spinner');\n",
              "      quickchartButtonEl.classList.add('colab-df-quickchart-complete');\n",
              "    }\n",
              "    (() => {\n",
              "      let quickchartButtonEl =\n",
              "        document.querySelector('#df-b236d229-7838-4cd1-b4c6-14dc4bf51741 button');\n",
              "      quickchartButtonEl.style.display =\n",
              "        google.colab.kernel.accessAllowed ? 'block' : 'none';\n",
              "    })();\n",
              "  </script>\n",
              "</div>\n",
              "\n",
              "    </div>\n",
              "  </div>\n"
            ],
            "application/vnd.google.colaboratory.intrinsic+json": {
              "type": "dataframe",
              "variable_name": "X",
              "summary": "{\n  \"name\": \"X\",\n  \"rows\": 11979,\n  \"fields\": [\n    {\n      \"column\": \"Year\",\n      \"properties\": {\n        \"dtype\": \"number\",\n        \"std\": 19,\n        \"min\": 1931,\n        \"max\": 2021,\n        \"num_unique_values\": 91,\n        \"samples\": [\n          1990,\n          1974,\n          1970\n        ],\n        \"semantic_type\": \"\",\n        \"description\": \"\"\n      }\n    },\n    {\n      \"column\": \"Duration\",\n      \"properties\": {\n        \"dtype\": \"number\",\n        \"std\": 25,\n        \"min\": 21,\n        \"max\": 321,\n        \"num_unique_values\": 174,\n        \"samples\": [\n          197,\n          247,\n          86\n        ],\n        \"semantic_type\": \"\",\n        \"description\": \"\"\n      }\n    },\n    {\n      \"column\": \"Genre_Mean_Rating\",\n      \"properties\": {\n        \"dtype\": \"number\",\n        \"std\": 0.30932045663366553,\n        \"min\": 4.817326732673267,\n        \"max\": 8.0,\n        \"num_unique_values\": 22,\n        \"samples\": [\n          6.056743940990517,\n          6.515000000000001,\n          5.520462633451957\n        ],\n        \"semantic_type\": \"\",\n        \"description\": \"\"\n      }\n    },\n    {\n      \"column\": \"Director_Mean_Rating\",\n      \"properties\": {\n        \"dtype\": \"number\",\n        \"std\": 1.097723217523055,\n        \"min\": 1.6,\n        \"max\": 10.0,\n        \"num_unique_values\": 654,\n        \"samples\": [\n          6.270588235294118,\n          5.400000000000001,\n          5.455555555555556\n        ],\n        \"semantic_type\": \"\",\n        \"description\": \"\"\n      }\n    },\n    {\n      \"column\": \"Actor1_Mean_Rating\",\n      \"properties\": {\n        \"dtype\": \"number\",\n        \"std\": 1.0018932461598078,\n        \"min\": 1.4,\n        \"max\": 10.0,\n        \"num_unique_values\": 496,\n        \"samples\": [\n          5.199999999999999,\n          8.0,\n          6.400000000000001\n        ],\n        \"semantic_type\": \"\",\n        \"description\": \"\"\n      }\n    },\n    {\n      \"column\": \"Actor2_Mean_Rating\",\n      \"properties\": {\n        \"dtype\": \"number\",\n        \"std\": 1.033033590425124,\n        \"min\": 1.6,\n        \"max\": 10.0,\n        \"num_unique_values\": 593,\n        \"samples\": [\n          6.1,\n          8.0,\n          6.74\n        ],\n        \"semantic_type\": \"\",\n        \"description\": \"\"\n      }\n    },\n    {\n      \"column\": \"Actor3_Mean_Rating\",\n      \"properties\": {\n        \"dtype\": \"number\",\n        \"std\": 1.0460841819887676,\n        \"min\": 1.7,\n        \"max\": 10.0,\n        \"num_unique_values\": 624,\n        \"samples\": [\n          6.975,\n          6.9750000000000005,\n          5.136363636363637\n        ],\n        \"semantic_type\": \"\",\n        \"description\": \"\"\n      }\n    }\n  ]\n}"
            }
          },
          "metadata": {},
          "execution_count": 45
        }
      ]
    },
    {
      "cell_type": "code",
      "source": [
        "y.head(5)"
      ],
      "metadata": {
        "colab": {
          "base_uri": "https://localhost:8080/",
          "height": 241
        },
        "id": "Ub1Vi9XKukNe",
        "outputId": "d42a40ac-4f3f-45ac-f56f-6c92a63ed18e"
      },
      "execution_count": 46,
      "outputs": [
        {
          "output_type": "execute_result",
          "data": {
            "text/plain": [
              "1    7.0\n",
              "3    4.4\n",
              "3    4.4\n",
              "5    4.7\n",
              "5    4.7\n",
              "Name: Rating, dtype: float64"
            ],
            "text/html": [
              "<div>\n",
              "<style scoped>\n",
              "    .dataframe tbody tr th:only-of-type {\n",
              "        vertical-align: middle;\n",
              "    }\n",
              "\n",
              "    .dataframe tbody tr th {\n",
              "        vertical-align: top;\n",
              "    }\n",
              "\n",
              "    .dataframe thead th {\n",
              "        text-align: right;\n",
              "    }\n",
              "</style>\n",
              "<table border=\"1\" class=\"dataframe\">\n",
              "  <thead>\n",
              "    <tr style=\"text-align: right;\">\n",
              "      <th></th>\n",
              "      <th>Rating</th>\n",
              "    </tr>\n",
              "  </thead>\n",
              "  <tbody>\n",
              "    <tr>\n",
              "      <th>1</th>\n",
              "      <td>7.0</td>\n",
              "    </tr>\n",
              "    <tr>\n",
              "      <th>3</th>\n",
              "      <td>4.4</td>\n",
              "    </tr>\n",
              "    <tr>\n",
              "      <th>3</th>\n",
              "      <td>4.4</td>\n",
              "    </tr>\n",
              "    <tr>\n",
              "      <th>5</th>\n",
              "      <td>4.7</td>\n",
              "    </tr>\n",
              "    <tr>\n",
              "      <th>5</th>\n",
              "      <td>4.7</td>\n",
              "    </tr>\n",
              "  </tbody>\n",
              "</table>\n",
              "</div><br><label><b>dtype:</b> float64</label>"
            ]
          },
          "metadata": {},
          "execution_count": 46
        }
      ]
    },
    {
      "cell_type": "code",
      "source": [
        "# WE CREATE NEW DATAFRAME FOR TESTING...\n",
        "\n",
        "data = {'Year': [2023], 'Duration':[111], 'Genre_Mean_Rating': [5.8], 'Director_Mean_Rating': [4.5],\n",
        "        'Actor1_Mean_Rating': [5.3], 'Actor2_Mean_Rating': [6.2], 'Actor3_Mean_Rating': [7.1]}\n",
        "new_data = pd.DataFrame(data)"
      ],
      "metadata": {
        "id": "kEJ24rw3uoGZ"
      },
      "execution_count": 52,
      "outputs": []
    },
    {
      "cell_type": "code",
      "source": [
        "# PREDICT MOVIE RATING BY ENTERING DATA...\n",
        "\n",
        "predicted_rating = ML.predict(new_data)\n",
        "print('Predicted Rating:', predicted_rating[0])"
      ],
      "metadata": {
        "colab": {
          "base_uri": "https://localhost:8080/"
        },
        "id": "wH5kvmpXv6GJ",
        "outputId": "057bc851-cc10-4113-e28d-0fccd2e7b247"
      },
      "execution_count": 55,
      "outputs": [
        {
          "output_type": "stream",
          "name": "stdout",
          "text": [
            "Predicted Rating: 5.641133173885087\n"
          ]
        }
      ]
    }
  ]
}